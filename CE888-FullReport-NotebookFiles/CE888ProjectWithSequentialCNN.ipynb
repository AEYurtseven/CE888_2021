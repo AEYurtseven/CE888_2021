{
  "nbformat": 4,
  "nbformat_minor": 0,
  "metadata": {
    "colab": {
      "name": "CE888ProjectWithSequentialCNN.ipynb",
      "provenance": [],
      "collapsed_sections": []
    },
    "kernelspec": {
      "name": "python3",
      "display_name": "Python 3"
    },
    "language_info": {
      "name": "python"
    }
  },
  "cells": [
    {
      "cell_type": "code",
      "metadata": {
        "id": "iqjMIdJ_ze53"
      },
      "source": [
        "#Fire Vs No Fire\n",
        "import os\n",
        "from google.colab import drive\n",
        "\n",
        "import numpy as np\n",
        "from numpy import expand_dims\n",
        "from keras.preprocessing.image import load_img\n",
        "from keras.preprocessing.image import img_to_array\n",
        "from keras.preprocessing.image import ImageDataGenerator\n",
        "from matplotlib import pyplot\n",
        "\n",
        "import tensorflow as tf\n",
        "from tensorflow import keras\n",
        "import matplotlib.pyplot as plt\n",
        "from tensorflow.keras import layers\n",
        "from tensorflow.keras import Model\n",
        "from tensorflow.keras.layers import Dense, Input, Flatten,Lambda\n",
        "\n",
        "from io import BytesIO\n",
        "from PIL import Image\n",
        "\n",
        "\n",
        "data_augmentation = keras.Sequential(\n",
        "        [\n",
        "            layers.experimental.preprocessing.RandomFlip(\"horizontal\"),\n",
        "            layers.experimental.preprocessing.RandomRotation(0.1),\n",
        "        ]\n",
        "    )"
      ],
      "execution_count": null,
      "outputs": []
    },
    {
      "cell_type": "code",
      "metadata": {
        "id": "9A2VS-6ezhtu"
      },
      "source": [
        "METRICS = [\n",
        "    keras.metrics.TruePositives(name='tp'),\n",
        "    keras.metrics.FalsePositives(name='fp'),\n",
        "    keras.metrics.TrueNegatives(name='tn'),\n",
        "    keras.metrics.FalseNegatives(name='fn'),\n",
        "    keras.metrics.Accuracy(name='accuracy'),\n",
        "    keras.metrics.BinaryAccuracy(name='bin_accuracy'),\n",
        "    keras.metrics.Precision(name='precision'),\n",
        "    keras.metrics.Recall(name='recall'),\n",
        "    keras.metrics.AUC(name='auc')\n",
        "]"
      ],
      "execution_count": null,
      "outputs": []
    },
    {
      "cell_type": "code",
      "metadata": {
        "id": "O78XwaQRVbW6"
      },
      "source": [
        ""
      ],
      "execution_count": null,
      "outputs": []
    },
    {
      "cell_type": "code",
      "metadata": {
        "colab": {
          "base_uri": "https://localhost:8080/"
        },
        "id": "nPbSH3xnzlOR",
        "outputId": "73e93664-9265-4e79-fd0c-b4a29f048543"
      },
      "source": [
        "drive.mount('/content/gdrive')"
      ],
      "execution_count": null,
      "outputs": [
        {
          "output_type": "stream",
          "text": [
            "Mounted at /content/gdrive\n"
          ],
          "name": "stdout"
        }
      ]
    },
    {
      "cell_type": "code",
      "metadata": {
        "id": "FLimPqVdzmYl"
      },
      "source": [
        "#For fire and no fire training files\n",
        "#0.8 for training and 0.2 for validation "
      ],
      "execution_count": null,
      "outputs": []
    },
    {
      "cell_type": "code",
      "metadata": {
        "id": "-tQEKHKu0QCE"
      },
      "source": [
        "##This indicate it will be done for training files\n",
        "dir_fire = '/content/gdrive/MyDrive/Colab_Notebooks/CEProje/Training/Fire'\n",
        "dir_no_fire = '/content/gdrive/MyDrive/Colab_Notebooks/CEProje/Training/No_Fire'"
      ],
      "execution_count": null,
      "outputs": []
    },
    {
      "cell_type": "code",
      "metadata": {
        "id": "xHL0GFIT0R47"
      },
      "source": [
        "# 0 is Fire and 1 is NO_Fire\n",
        "##This one is  faster than older one\n",
        "#Traverse fire dataset \n",
        "fire = len([name for name in os.listdir(dir_fire) if os.path.isfile(os.path.join(dir_fire, name))])"
      ],
      "execution_count": null,
      "outputs": []
    },
    {
      "cell_type": "code",
      "metadata": {
        "id": "OlN_cHbC0Tmt"
      },
      "source": [
        "no_fire = len([name for name in os.listdir(dir_no_fire) if os.path.isfile(os.path.join(dir_no_fire, name))])"
      ],
      "execution_count": null,
      "outputs": []
    },
    {
      "cell_type": "code",
      "metadata": {
        "colab": {
          "base_uri": "https://localhost:8080/"
        },
        "id": "6pyeA9Ve1KQt",
        "outputId": "cd27aa81-a290-4745-e848-22d28d4a3d0e"
      },
      "source": [
        "print(\"Number of fire files in training:\", fire)"
      ],
      "execution_count": null,
      "outputs": [
        {
          "output_type": "stream",
          "text": [
            "Number of fire files in training: 25018\n"
          ],
          "name": "stdout"
        }
      ]
    },
    {
      "cell_type": "code",
      "metadata": {
        "colab": {
          "base_uri": "https://localhost:8080/"
        },
        "id": "v5_Vtc3k2fOX",
        "outputId": "7fe77492-6d60-468a-9051-97da70b2d19e"
      },
      "source": [
        "print(\"Number of no fire files in training:\", no_fire) "
      ],
      "execution_count": null,
      "outputs": [
        {
          "output_type": "stream",
          "text": [
            "Number of no fire files in training: 14357\n"
          ],
          "name": "stdout"
        }
      ]
    },
    {
      "cell_type": "code",
      "metadata": {
        "colab": {
          "base_uri": "https://localhost:8080/"
        },
        "id": "iE2lEmpX2grG",
        "outputId": "bbfaaa76-5fc5-4204-8cf4-f17538f5e690"
      },
      "source": [
        "total = fire + no_fire\n",
        "print(\"Total amount of training file:\", total)"
      ],
      "execution_count": null,
      "outputs": [
        {
          "output_type": "stream",
          "text": [
            "Total amount of training file: 39375\n"
          ],
          "name": "stdout"
        }
      ]
    },
    {
      "cell_type": "code",
      "metadata": {
        "colab": {
          "base_uri": "https://localhost:8080/"
        },
        "id": "eovLf4yp2iON",
        "outputId": "e921fd4c-ef05-4fe0-8b2a-d1cda269ebfb"
      },
      "source": [
        "weight_for_fire = (1 / fire) * total / 2.0\n",
        "print(\"Weight for class fire : {:.2f}\".format(weight_for_fire))"
      ],
      "execution_count": null,
      "outputs": [
        {
          "output_type": "stream",
          "text": [
            "Weight for class fire : 0.79\n"
          ],
          "name": "stdout"
        }
      ]
    },
    {
      "cell_type": "code",
      "metadata": {
        "colab": {
          "base_uri": "https://localhost:8080/"
        },
        "id": "3gjPuVdv2jkp",
        "outputId": "bfcdb818-1d1b-4f4c-b6bb-143f4e6f88f1"
      },
      "source": [
        "weight_for_no_fire = (1 / no_fire) * total / 2.0\n",
        "print(\"Weight for class No_fire : {:.2f}\".format(weight_for_no_fire))"
      ],
      "execution_count": null,
      "outputs": [
        {
          "output_type": "stream",
          "text": [
            "Weight for class No_fire : 1.37\n"
          ],
          "name": "stdout"
        }
      ]
    },
    {
      "cell_type": "code",
      "metadata": {
        "colab": {
          "base_uri": "https://localhost:8080/"
        },
        "id": "_GIKv1Yy2kk0",
        "outputId": "9c37ac55-2e29-4b35-d8f0-1a9c71e44473"
      },
      "source": [
        "train_ds = tf.keras.preprocessing.image_dataset_from_directory(\n",
        "      \"/content/gdrive/MyDrive/Colab_Notebooks/CEProje/Training\", validation_split=0.2, subset=\"training\", seed=1337, image_size=(200,200),batch_size=20, shuffle=True)"
      ],
      "execution_count": null,
      "outputs": [
        {
          "output_type": "stream",
          "text": [
            "Found 14357 files belonging to 2 classes.\n",
            "Using 11486 files for training.\n"
          ],
          "name": "stdout"
        }
      ]
    },
    {
      "cell_type": "code",
      "metadata": {
        "colab": {
          "base_uri": "https://localhost:8080/"
        },
        "id": "3WhKUZoJ2m6x",
        "outputId": "d631e70b-8063-4843-dbcc-3a614f323f9e"
      },
      "source": [
        "val_ds = tf.keras.preprocessing.image_dataset_from_directory(\n",
        "        \"/content/gdrive/MyDrive/Colab_Notebooks/CEProje/Training\", validation_split=0.2, subset=\"validation\", seed=1337, image_size=(200,200),\n",
        "        batch_size=20, shuffle=True)"
      ],
      "execution_count": null,
      "outputs": [
        {
          "output_type": "stream",
          "text": [
            "Found 39375 files belonging to 2 classes.\n",
            "Using 7875 files for validation.\n"
          ],
          "name": "stdout"
        }
      ]
    },
    {
      "cell_type": "code",
      "metadata": {
        "id": "_HCxXQCVj6A7"
      },
      "source": [
        "train_ds = train_ds.prefetch(buffer_size=32)\n",
        "val_ds = val_ds.prefetch(buffer_size=32)\n"
      ],
      "execution_count": null,
      "outputs": []
    },
    {
      "cell_type": "code",
      "metadata": {
        "id": "bAWKC19hkCI0",
        "colab": {
          "base_uri": "https://localhost:8080/"
        },
        "outputId": "3f9f2de9-efed-4591-ce34-e77075f345f4"
      },
      "source": [
        "from keras import layers\n",
        "from keras import models\n",
        "\n",
        "\n",
        "\n",
        "model = models.Sequential()\n",
        "model.add(layers.Conv2D(32, (3, 3), activation='relu', input_shape=(200, 200, 3)))\n",
        "model.add(layers.MaxPooling2D((2, 2)))\n",
        "model.add(layers.Conv2D(64, (3, 3), activation='relu'))\n",
        "model.add(layers.MaxPooling2D((2, 2)))\n",
        "model.add(layers.Conv2D(128, (3, 3), activation='relu'))\n",
        "model.add(layers.MaxPooling2D((2, 2)))\n",
        "model.add(layers.Conv2D(128, (3, 3), activation='relu'))\n",
        "model.add(layers.MaxPooling2D((2, 2)))\n",
        "model.add(layers.Flatten())\n",
        "model.add(layers.Dropout(0.5))\n",
        "model.add(layers.Dense(512, activation='relu'))\n",
        "model.add(layers.Dense(1, activation='sigmoid'))\n",
        "model.summary()"
      ],
      "execution_count": null,
      "outputs": [
        {
          "output_type": "stream",
          "text": [
            "Model: \"sequential_2\"\n",
            "_________________________________________________________________\n",
            "Layer (type)                 Output Shape              Param #   \n",
            "=================================================================\n",
            "conv2d_4 (Conv2D)            (None, 198, 198, 32)      896       \n",
            "_________________________________________________________________\n",
            "max_pooling2d_4 (MaxPooling2 (None, 99, 99, 32)        0         \n",
            "_________________________________________________________________\n",
            "conv2d_5 (Conv2D)            (None, 97, 97, 64)        18496     \n",
            "_________________________________________________________________\n",
            "max_pooling2d_5 (MaxPooling2 (None, 48, 48, 64)        0         \n",
            "_________________________________________________________________\n",
            "conv2d_6 (Conv2D)            (None, 46, 46, 128)       73856     \n",
            "_________________________________________________________________\n",
            "max_pooling2d_6 (MaxPooling2 (None, 23, 23, 128)       0         \n",
            "_________________________________________________________________\n",
            "conv2d_7 (Conv2D)            (None, 21, 21, 128)       147584    \n",
            "_________________________________________________________________\n",
            "max_pooling2d_7 (MaxPooling2 (None, 10, 10, 128)       0         \n",
            "_________________________________________________________________\n",
            "flatten_1 (Flatten)          (None, 12800)             0         \n",
            "_________________________________________________________________\n",
            "dropout_1 (Dropout)          (None, 12800)             0         \n",
            "_________________________________________________________________\n",
            "dense_2 (Dense)              (None, 512)               6554112   \n",
            "_________________________________________________________________\n",
            "dense_3 (Dense)              (None, 1)                 513       \n",
            "=================================================================\n",
            "Total params: 6,795,457\n",
            "Trainable params: 6,795,457\n",
            "Non-trainable params: 0\n",
            "_________________________________________________________________\n"
          ],
          "name": "stdout"
        }
      ]
    },
    {
      "cell_type": "code",
      "metadata": {
        "id": "cyj7Z-ic3l3t"
      },
      "source": [
        "from keras import optimizers\n",
        "model.compile(loss='binary_crossentropy', \n",
        "              optimizer=optimizers.RMSprop(lr=1e-4),\n",
        "              metrics=['acc'])"
      ],
      "execution_count": null,
      "outputs": []
    },
    {
      "cell_type": "code",
      "metadata": {
        "colab": {
          "base_uri": "https://localhost:8080/"
        },
        "id": "jqB5_ol83grb",
        "outputId": "b1c0771b-906b-4d9f-9eab-260389e74818"
      },
      "source": [
        "history = model.fit(train_ds,steps_per_epoch=10,\n",
        "                              epochs = 15,\n",
        "                              validation_data=val_ds,\n",
        "                              batch_size=32,verbose=1)"
      ],
      "execution_count": null,
      "outputs": [
        {
          "output_type": "stream",
          "text": [
            "Epoch 1/15\n",
            "10/10 [==============================] - 5898s 641s/step - loss: 38.8038 - acc: 0.5232 - val_loss: 0.6921 - val_acc: 0.8745\n",
            "Epoch 2/15\n",
            "10/10 [==============================] - 182s 20s/step - loss: 2.4152 - acc: 0.7560 - val_loss: 0.7730 - val_acc: 0.9013\n",
            "Epoch 3/15\n",
            "10/10 [==============================] - 178s 20s/step - loss: 0.6978 - acc: 0.8523 - val_loss: 3.9757 - val_acc: 0.7440\n",
            "Epoch 4/15\n",
            "10/10 [==============================] - 179s 20s/step - loss: 1.9567 - acc: 0.8178 - val_loss: 0.6468 - val_acc: 0.8597\n",
            "Epoch 5/15\n",
            "10/10 [==============================] - 176s 19s/step - loss: 0.4281 - acc: 0.9117 - val_loss: 0.4418 - val_acc: 0.8340\n",
            "Epoch 6/15\n",
            "10/10 [==============================] - 177s 20s/step - loss: 0.7008 - acc: 0.8267 - val_loss: 0.1610 - val_acc: 0.9577\n",
            "Epoch 7/15\n",
            "10/10 [==============================] - 178s 20s/step - loss: 0.6120 - acc: 0.8857 - val_loss: 0.1613 - val_acc: 0.9477\n",
            "Epoch 8/15\n",
            "10/10 [==============================] - 181s 20s/step - loss: 0.3814 - acc: 0.8688 - val_loss: 0.1418 - val_acc: 0.9614\n",
            "Epoch 9/15\n",
            "10/10 [==============================] - 179s 20s/step - loss: 0.1790 - acc: 0.9397 - val_loss: 0.1448 - val_acc: 0.9589\n",
            "Epoch 10/15\n",
            "10/10 [==============================] - 177s 19s/step - loss: 0.1546 - acc: 0.9464 - val_loss: 0.2413 - val_acc: 0.9470\n",
            "Epoch 11/15\n",
            "10/10 [==============================] - 181s 20s/step - loss: 0.2711 - acc: 0.9522 - val_loss: 0.2389 - val_acc: 0.9153\n",
            "Epoch 12/15\n",
            "10/10 [==============================] - 176s 19s/step - loss: 0.2426 - acc: 0.8990 - val_loss: 0.1216 - val_acc: 0.9677\n",
            "Epoch 13/15\n",
            "10/10 [==============================] - 177s 20s/step - loss: 0.2035 - acc: 0.9451 - val_loss: 0.1662 - val_acc: 0.9420\n",
            "Epoch 14/15\n",
            "10/10 [==============================] - 176s 19s/step - loss: 0.3309 - acc: 0.9150 - val_loss: 0.1298 - val_acc: 0.9606\n",
            "Epoch 15/15\n",
            "10/10 [==============================] - 177s 20s/step - loss: 0.1566 - acc: 0.9274 - val_loss: 0.1062 - val_acc: 0.9671\n"
          ],
          "name": "stdout"
        }
      ]
    },
    {
      "cell_type": "code",
      "metadata": {
        "id": "Pirlm-9j22xX",
        "colab": {
          "base_uri": "https://localhost:8080/",
          "height": 545
        },
        "outputId": "dbb4da48-efd6-436f-91c2-664374a57553"
      },
      "source": [
        "model.save('fireModel_Old.h5')\n",
        "\n",
        "import matplotlib.pyplot as plt\n",
        "\n",
        "acc = history.history['acc']\n",
        "val_acc = history.history['val_acc']\n",
        "loss = history.history['loss']\n",
        "val_loss = history.history['val_loss']\n",
        "\n",
        "epochs = range(1, len(acc) + 1)\n",
        "\n",
        "plt.plot(epochs, acc, 'bo', label='Training acc')\n",
        "plt.plot(epochs, val_acc, 'b', label='Validation acc')\n",
        "plt.title('Training and validation accuracy')\n",
        "plt.legend()\n",
        "\n",
        "plt.figure()\n",
        "\n",
        "plt.plot(epochs, loss, 'bo', label='Training loss')\n",
        "plt.plot(epochs, val_loss, 'b', label='Validation loss')\n",
        "plt.title('Training and validation loss')\n",
        "plt.legend()\n",
        "\n",
        "plt.show()"
      ],
      "execution_count": null,
      "outputs": [
        {
          "output_type": "display_data",
          "data": {
            "image/png": "[encoded data removed]",
            "text/plain": [
              "<Figure size 432x288 with 1 Axes>"
            ]
          },
          "metadata": {
            "tags": [],
            "needs_background": "light"
          }
        },
        {
          "output_type": "display_data",
          "data": {
            "image/png": "[encoded data removed]",
            "text/plain": [
              "<Figure size 432x288 with 1 Axes>"
            ]
          },
          "metadata": {
            "tags": [],
            "needs_background": "light"
          }
        }
      ]
    },
    {
      "cell_type": "code",
      "metadata": {
        "colab": {
          "base_uri": "https://localhost:8080/"
        },
        "id": "BL6AWCmlMyE1",
        "outputId": "b6e95b73-ad05-4bf5-fa85-46ff3ad709b5"
      },
      "source": [
        "test_fire_ds = tf.keras.preprocessing.image_dataset_from_directory(\n",
        "        \"/content/gdrive/MyDrive/Colab_Notebooks/CEProje/Test\", seed=1337, image_size=(200,200), batch_size=32, shuffle=True)"
      ],
      "execution_count": null,
      "outputs": [
        {
          "output_type": "stream",
          "text": [
            "Found 8618 files belonging to 2 classes.\n"
          ],
          "name": "stdout"
        }
      ]
    },
    {
      "cell_type": "code",
      "metadata": {
        "colab": {
          "base_uri": "https://localhost:8080/"
        },
        "id": "eKMlrIn8OKt4",
        "outputId": "9129ff47-2ca1-4b0b-c76e-9c3ab3ecaf2e"
      },
      "source": [
        "loss, accuracy = model.evaluate(test_fire_ds)\n",
        "print(\"Accuracy\", accuracy)"
      ],
      "execution_count": null,
      "outputs": [
        {
          "output_type": "stream",
          "text": [
            "270/270 [==============================] - 6638s 24s/step - loss: 1.1095 - acc: 0.5965\n",
            "Accuracy 0.5965421199798584\n"
          ],
          "name": "stdout"
        }
      ]
    },
    {
      "cell_type": "code",
      "metadata": {
        "id": "gNluzZg35j9v"
      },
      "source": [
        ""
      ],
      "execution_count": null,
      "outputs": []
    }
  ]
}