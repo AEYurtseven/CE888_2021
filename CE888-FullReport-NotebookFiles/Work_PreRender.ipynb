{
  "nbformat": 4,
  "nbformat_minor": 0,
  "metadata": {
    "colab": {
      "name": "Work_PreRender.ipynb",
      "provenance": [],
      "collapsed_sections": []
    },
    "kernelspec": {
      "name": "python3",
      "display_name": "Python 3"
    },
    "language_info": {
      "name": "python"
    }
  },
  "cells": [
    {
      "cell_type": "code",
      "metadata": {
        "id": "HL8pDbN5815Q"
      },
      "source": [
        "#Fire Vs No Fire\n",
        "import os\n",
        "from google.colab import drive\n",
        "\n",
        "import tensorflow as tf\n",
        "from tensorflow import keras"
      ],
      "execution_count": null,
      "outputs": []
    },
    {
      "cell_type": "code",
      "metadata": {
        "colab": {
          "base_uri": "https://localhost:8080/"
        },
        "id": "IL-t9uak89Yv",
        "outputId": "0c7b59ab-eebd-4574-9c5d-f12afa345e15"
      },
      "source": [
        "drive.mount('/content/gdrive')"
      ],
      "execution_count": null,
      "outputs": [
        {
          "output_type": "stream",
          "text": [
            "Drive already mounted at /content/gdrive; to attempt to forcibly remount, call drive.mount(\"/content/gdrive\", force_remount=True).\n"
          ],
          "name": "stdout"
        }
      ]
    },
    {
      "cell_type": "markdown",
      "metadata": {
        "id": "uGIBvOpg-C1A"
      },
      "source": [
        "Nope... Make folders for pre processing instead"
      ]
    },
    {
      "cell_type": "code",
      "metadata": {
        "id": "Jl7FyCJsUdFA"
      },
      "source": [
        "#Gets the matrix of the image input\n",
        "class MSImage():\n",
        "   \n",
        "    \n",
        "    def __init__(self, img):\n",
        "\n",
        "        self.img = img\n",
        "        self.dims = np.shape(img)\n",
        "        self.mat = np.reshape(img, (self.dims[0] * self.dims[1], self.dims[2]))\n",
        "\n",
        "    @property\n",
        "    def matrix(self):\n",
        "        return self.mat\n",
        "        \n",
        "    @property\n",
        "    def image(self):\n",
        "        return self.img\n",
        "    \n",
        "    def to_matched_img(self, derived):\n",
        "        return np.reshape(derived, (self.dims[0], self.dims[1], self.dims[2]))\n",
        "\n"
      ],
      "execution_count": null,
      "outputs": []
    },
    {
      "cell_type": "code",
      "metadata": {
        "id": "_RBbmcsmUi8o"
      },
      "source": [
        "#Maximizes the brightness of the Input image\n",
        "def bnormalize(mat):\n",
        "    \"\"\"much faster brightness normalization, since it's all vectorized\"\"\"\n",
        "    bnorm = np.zeros_like(mat, dtype=np.float32)\n",
        "    maxes = np.max(mat, axis=1)\n",
        "    bnorm = mat / np.vstack((maxes, maxes, maxes)).T\n",
        "    return bnorm"
      ],
      "execution_count": null,
      "outputs": []
    },
    {
      "cell_type": "code",
      "metadata": {
        "id": "TG2OrBdtVGJX",
        "colab": {
          "base_uri": "https://localhost:8080/"
        },
        "outputId": "5bc21c66-ff57-427a-9643-aea38a5ad7e9"
      },
      "source": [
        "#Import the library\n",
        "import numpy as np\n",
        "import pandas as pd\n",
        "from PIL import Image\n",
        "np.seterr(divide='ignore', invalid='ignore')\n"
      ],
      "execution_count": null,
      "outputs": [
        {
          "output_type": "execute_result",
          "data": {
            "text/plain": [
              "{'divide': 'warn', 'invalid': 'warn', 'over': 'warn', 'under': 'ignore'}"
            ]
          },
          "metadata": {
            "tags": []
          },
          "execution_count": 5
        }
      ]
    },
    {
      "cell_type": "code",
      "metadata": {
        "id": "PxrpdIrMVT1z"
      },
      "source": [
        "#Gets the dataset set \n",
        "dir_fire_train = \"/content/gdrive/MyDrive/Colab_Notebooks/CEProje/Training/Fire\"\n",
        "##Pre-render fire in train folder for fire\n",
        "train_Fire_dir = \"/content/Train_Fire_Pre/\"\n",
        "x = 0\n",
        "#For each files do the will images will be brightned. These images will be used \n",
        "#as different dataset for second part of the assignment.\n",
        "for name in os.listdir(dir_fire_train):\n",
        "    src = os.path.join(dir_fire_train,name)\n",
        "    Fire_Samp = plt.imread(src)\n",
        "    \n",
        "    msi79_fire = MSImage(Fire_Samp)\n",
        "\n",
        "    bnorm = bnormalize(msi79_fire.matrix)\n",
        "    bnorm_img = msi79_fire.to_matched_img(bnorm)\n",
        "\n",
        "    im = Image.fromarray((bnorm_img * 255).astype(np.uint8))\n",
        "    \n",
        "    im.save(train_Fire_dir + name)\n",
        "    "
      ],
      "execution_count": null,
      "outputs": []
    },
    {
      "cell_type": "code",
      "metadata": {
        "id": "qLnLIIVDKZzK"
      },
      "source": [
        "##For the test dataset for No Fire \n",
        "test_No_Fire_dir = \"/content/Test_NoFire_Pre/\"\n",
        "dir_Nofire_test = \"/content/gdrive/MyDrive/Colab_Notebooks/CEProje/Test/NoFire\"\n",
        "for name in os.listdir(dir_Nofire_test):\n",
        "    src = os.path.join(dir_Nofire_test,name)\n",
        "    Fire_Samp = plt.imread(src)\n",
        "    \n",
        "    msi79_fire = MSImage(Fire_Samp)\n",
        "\n",
        "    bnorm = bnormalize(msi79_fire.matrix)\n",
        "    bnorm_img = msi79_fire.to_matched_img(bnorm)\n",
        "\n",
        "    im = Image.fromarray((bnorm_img * 255).astype(np.uint8))\n",
        "    \n",
        "    im.save(test_No_Fire_dir + name)"
      ],
      "execution_count": null,
      "outputs": []
    },
    {
      "cell_type": "code",
      "metadata": {
        "id": "vMv305EHLanm"
      },
      "source": [
        "##Test for No Fire\n",
        "test_Fire_dir = \"/content/Test_Pre/\"\n",
        "for name in os.listdir(\"/content/gdrive/MyDrive/Colab_Notebooks/CEProje/Test/Fire\"):\n",
        "    src = os.path.join(src_dir,name)\n",
        "    Fire_Samp = plt.imread(src)\n",
        "    \n",
        "    msi79_fire = MSImage(Fire_Samp)\n",
        "\n",
        "    bnorm = bnormalize(msi79_fire.matrix)\n",
        "    bnorm_img = msi79_fire.to_matched_img(bnorm)\n",
        "\n",
        "    im = Image.fromarray((bnorm_img * 255).astype(np.uint8))\n",
        "    \n",
        "    im.save(test_Fire_dir+name)"
      ],
      "execution_count": null,
      "outputs": []
    }
  ]
}