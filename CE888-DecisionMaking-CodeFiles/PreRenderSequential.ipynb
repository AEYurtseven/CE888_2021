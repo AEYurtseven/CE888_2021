{
  "nbformat": 4,
  "nbformat_minor": 0,
  "metadata": {
    "colab": {
      "name": "PreRenderSequential",
      "provenance": [],
      "collapsed_sections": []
    },
    "kernelspec": {
      "name": "python3",
      "display_name": "Python 3"
    },
    "language_info": {
      "name": "python"
    }
  },
  "cells": [
    {
      "cell_type": "code",
      "metadata": {
        "id": "ZweSrYr0TY0g"
      },
      "source": [
        "\n",
        "import os\n",
        "from google.colab import drive\n",
        "\n",
        "import numpy as np\n",
        "from numpy import expand_dims\n",
        "\n",
        "from matplotlib import pyplot\n",
        "\n",
        "import tensorflow as tf\n",
        "from tensorflow import keras\n",
        "\n",
        "import matplotlib.pyplot as plt\n",
        "\n",
        "from tensorflow.keras import layers\n",
        "from tensorflow.keras import Model\n",
        "from tensorflow.keras.layers import Dense, Input, Flatten\n",
        "\n"
      ],
      "execution_count": null,
      "outputs": []
    },
    {
      "cell_type": "code",
      "metadata": {
        "colab": {
          "base_uri": "https://localhost:8080/"
        },
        "id": "LJRSAMmKVso3",
        "outputId": "e7e6d893-dbc1-4d93-d165-2d5ff6524bcc"
      },
      "source": [
        "drive.mount('/content/gdrive')"
      ],
      "execution_count": null,
      "outputs": [
        {
          "output_type": "stream",
          "text": [
            "Mounted at /content/gdrive\n"
          ],
          "name": "stdout"
        }
      ]
    },
    {
      "cell_type": "code",
      "metadata": {
        "id": "Bw02GN5bVdKn"
      },
      "source": [
        "#For fire and no fire training files\n",
        "#0.8 for training and 0.2 for validation "
      ],
      "execution_count": null,
      "outputs": []
    },
    {
      "cell_type": "code",
      "metadata": {
        "colab": {
          "base_uri": "https://localhost:8080/"
        },
        "id": "FMI66xXtVwfG",
        "outputId": "34453087-f3bd-487f-c0e4-21973ce1bbfe"
      },
      "source": [
        "train_ds = tf.keras.preprocessing.image_dataset_from_directory(\n",
        "      \"/content/gdrive/MyDrive/Colab_Notebooks/CEProje/Pre-Render/Train\", validation_split=0.2, subset=\"training\", seed=1337, image_size=(200,200),batch_size=20, shuffle=True)"
      ],
      "execution_count": null,
      "outputs": [
        {
          "output_type": "stream",
          "text": [
            "Found 40723 files belonging to 2 classes.\n",
            "Using 32579 files for training.\n"
          ],
          "name": "stdout"
        }
      ]
    },
    {
      "cell_type": "code",
      "metadata": {
        "colab": {
          "base_uri": "https://localhost:8080/"
        },
        "id": "Uf3MR2jPWErh",
        "outputId": "4fc897a7-17fc-4e5b-a049-177cdae09e75"
      },
      "source": [
        "val_ds = tf.keras.preprocessing.image_dataset_from_directory(\n",
        "        \"/content/gdrive/MyDrive/Colab_Notebooks/CEProje/Pre-Render/Train\", validation_split=0.2, subset=\"validation\", seed=1337, image_size=(200,200),\n",
        "        batch_size=20, shuffle=True)"
      ],
      "execution_count": null,
      "outputs": [
        {
          "output_type": "stream",
          "text": [
            "Found 40723 files belonging to 2 classes.\n",
            "Using 8144 files for validation.\n"
          ],
          "name": "stdout"
        }
      ]
    },
    {
      "cell_type": "code",
      "metadata": {
        "id": "fXe9dGv0WS5m"
      },
      "source": [
        "#Pre fetch was used for sequential model. \n",
        "train_ds = train_ds.prefetch(buffer_size=32)\n",
        "val_ds = val_ds.prefetch(buffer_size=32)"
      ],
      "execution_count": null,
      "outputs": []
    },
    {
      "cell_type": "code",
      "metadata": {
        "colab": {
          "base_uri": "https://localhost:8080/"
        },
        "id": "YNEEGBanWV0t",
        "outputId": "68b945c8-359d-4bca-9b28-cad030197716"
      },
      "source": [
        "#Difference from VGG16 model usage, sequential model was used\n",
        "from keras import layers\n",
        "from keras import models\n",
        "\n",
        "\n",
        "#Creates the model with convonutional layers\n",
        "model = models.Sequential()\n",
        "model.add(layers.Conv2D(32, (3, 3), activation='relu', input_shape=(200, 200, 3)))\n",
        "model.add(layers.MaxPooling2D((2, 2)))\n",
        "model.add(layers.Conv2D(64, (3, 3), activation='relu'))\n",
        "model.add(layers.MaxPooling2D((2, 2)))\n",
        "model.add(layers.Conv2D(128, (3, 3), activation='relu'))\n",
        "model.add(layers.MaxPooling2D((2, 2)))\n",
        "model.add(layers.Conv2D(128, (3, 3), activation='relu'))\n",
        "model.add(layers.MaxPooling2D((2, 2)))\n",
        "model.add(layers.Flatten())\n",
        "model.add(layers.Dropout(0.5))\n",
        "model.add(layers.Dense(512, activation='relu'))\n",
        "model.add(layers.Dense(1, activation='sigmoid'))\n",
        "model.summary()"
      ],
      "execution_count": null,
      "outputs": [
        {
          "output_type": "stream",
          "text": [
            "Model: \"sequential_1\"\n",
            "_________________________________________________________________\n",
            "Layer (type)                 Output Shape              Param #   \n",
            "=================================================================\n",
            "conv2d (Conv2D)              (None, 198, 198, 32)      896       \n",
            "_________________________________________________________________\n",
            "max_pooling2d (MaxPooling2D) (None, 99, 99, 32)        0         \n",
            "_________________________________________________________________\n",
            "conv2d_1 (Conv2D)            (None, 97, 97, 64)        18496     \n",
            "_________________________________________________________________\n",
            "max_pooling2d_1 (MaxPooling2 (None, 48, 48, 64)        0         \n",
            "_________________________________________________________________\n",
            "conv2d_2 (Conv2D)            (None, 46, 46, 128)       73856     \n",
            "_________________________________________________________________\n",
            "max_pooling2d_2 (MaxPooling2 (None, 23, 23, 128)       0         \n",
            "_________________________________________________________________\n",
            "conv2d_3 (Conv2D)            (None, 21, 21, 128)       147584    \n",
            "_________________________________________________________________\n",
            "max_pooling2d_3 (MaxPooling2 (None, 10, 10, 128)       0         \n",
            "_________________________________________________________________\n",
            "flatten (Flatten)            (None, 12800)             0         \n",
            "_________________________________________________________________\n",
            "dropout (Dropout)            (None, 12800)             0         \n",
            "_________________________________________________________________\n",
            "dense (Dense)                (None, 512)               6554112   \n",
            "_________________________________________________________________\n",
            "dense_1 (Dense)              (None, 1)                 513       \n",
            "=================================================================\n",
            "Total params: 6,795,457\n",
            "Trainable params: 6,795,457\n",
            "Non-trainable params: 0\n",
            "_________________________________________________________________\n"
          ],
          "name": "stdout"
        }
      ]
    },
    {
      "cell_type": "code",
      "metadata": {
        "id": "VbRoteUEWXG0"
      },
      "source": [
        "#Optimizers\n",
        "from keras import optimizers\n",
        "model.compile(loss='binary_crossentropy', \n",
        "              optimizer=optimizers.RMSprop(lr=1e-4),\n",
        "              metrics=['acc'])"
      ],
      "execution_count": null,
      "outputs": []
    },
    {
      "cell_type": "code",
      "metadata": {
        "colab": {
          "base_uri": "https://localhost:8080/"
        },
        "id": "0r4GSqS5WZJb",
        "outputId": "05447c6e-e3ec-4047-9bf6-dfbe7dba13b0"
      },
      "source": [
        "#Trains the model\n",
        "history = model.fit(train_ds,steps_per_epoch=10,\n",
        "                              epochs = 15,\n",
        "                              validation_data=val_ds,\n",
        "                              batch_size=32,verbose=1)"
      ],
      "execution_count": null,
      "outputs": [
        {
          "output_type": "stream",
          "text": [
            "Epoch 1/15\n",
            "10/10 [==============================] - 2801s 304s/step - loss: 41.2890 - acc: 0.4367 - val_loss: 1.7287 - val_acc: 0.3830\n",
            "Epoch 2/15\n",
            "10/10 [==============================] - 179s 20s/step - loss: 2.1022 - acc: 0.5520 - val_loss: 1.1443 - val_acc: 0.3948\n",
            "Epoch 3/15\n",
            "10/10 [==============================] - 178s 20s/step - loss: 1.3517 - acc: 0.5584 - val_loss: 1.8440 - val_acc: 0.6170\n",
            "Epoch 4/15\n",
            "10/10 [==============================] - 181s 20s/step - loss: 0.9112 - acc: 0.6934 - val_loss: 1.7715 - val_acc: 0.6170\n",
            "Epoch 5/15\n",
            "10/10 [==============================] - 178s 20s/step - loss: 1.2711 - acc: 0.5675 - val_loss: 0.4963 - val_acc: 0.7345\n",
            "Epoch 6/15\n",
            "10/10 [==============================] - 178s 20s/step - loss: 0.7084 - acc: 0.6285 - val_loss: 0.4902 - val_acc: 0.8010\n",
            "Epoch 7/15\n",
            "10/10 [==============================] - 179s 20s/step - loss: 1.1491 - acc: 0.5447 - val_loss: 0.5309 - val_acc: 0.8123\n",
            "Epoch 8/15\n",
            "10/10 [==============================] - 178s 20s/step - loss: 0.8089 - acc: 0.6375 - val_loss: 0.4864 - val_acc: 0.7559\n",
            "Epoch 9/15\n",
            "10/10 [==============================] - 182s 20s/step - loss: 0.9281 - acc: 0.5969 - val_loss: 0.5182 - val_acc: 0.6642\n",
            "Epoch 10/15\n",
            "10/10 [==============================] - 183s 20s/step - loss: 0.7632 - acc: 0.6683 - val_loss: 0.5810 - val_acc: 0.6895\n",
            "Epoch 11/15\n",
            "10/10 [==============================] - 183s 20s/step - loss: 0.7040 - acc: 0.6526 - val_loss: 0.5005 - val_acc: 0.6887\n",
            "Epoch 12/15\n",
            "10/10 [==============================] - 180s 20s/step - loss: 0.6718 - acc: 0.6729 - val_loss: 1.0800 - val_acc: 0.6170\n",
            "Epoch 13/15\n",
            "10/10 [==============================] - 181s 20s/step - loss: 0.7019 - acc: 0.7085 - val_loss: 0.5448 - val_acc: 0.7008\n",
            "Epoch 14/15\n",
            "10/10 [==============================] - 180s 20s/step - loss: 0.5227 - acc: 0.7566 - val_loss: 0.4994 - val_acc: 0.7636\n",
            "Epoch 15/15\n",
            "10/10 [==============================] - 181s 20s/step - loss: 0.7635 - acc: 0.5882 - val_loss: 0.6727 - val_acc: 0.6652\n"
          ],
          "name": "stdout"
        }
      ]
    },
    {
      "cell_type": "code",
      "metadata": {
        "colab": {
          "base_uri": "https://localhost:8080/",
          "height": 545
        },
        "id": "5hh2tAp7WaU7",
        "outputId": "4b4e094c-d667-4849-cda6-2db5c43c52a8"
      },
      "source": [
        "model.save('fireModel_Old.h5')\n",
        "\n",
        "import matplotlib.pyplot as plt\n",
        "\n",
        "acc = history.history['acc']\n",
        "val_acc = history.history['val_acc']\n",
        "loss = history.history['loss']\n",
        "val_loss = history.history['val_loss']\n",
        "\n",
        "epochs = range(1, len(acc) + 1)\n",
        "\n",
        "plt.plot(epochs, acc, 'bo', label='Training acc')\n",
        "plt.plot(epochs, val_acc, 'b', label='Validation acc')\n",
        "plt.title('Training and validation accuracy')\n",
        "plt.legend()\n",
        "\n",
        "plt.figure()\n",
        "\n",
        "plt.plot(epochs, loss, 'bo', label='Training loss')\n",
        "plt.plot(epochs, val_loss, 'b', label='Validation loss')\n",
        "plt.title('Training and validation loss')\n",
        "plt.legend()\n",
        "\n",
        "plt.show()"
      ],
      "execution_count": null,
      "outputs": [
        {
          "output_type": "display_data",
          "data": {
            "image/png": "[encoded data removed]",
            "text/plain": [
              "<Figure size 432x288 with 1 Axes>"
            ]
          },
          "metadata": {
            "tags": [],
            "needs_background": "light"
          }
        },
        {
          "output_type": "display_data",
          "data": {
            "image/png": "[encoded data removed]",
            "text/plain": [
              "<Figure size 432x288 with 1 Axes>"
            ]
          },
          "metadata": {
            "tags": [],
            "needs_background": "light"
          }
        }
      ]
    },
    {
      "cell_type": "code",
      "metadata": {
        "colab": {
          "base_uri": "https://localhost:8080/"
        },
        "id": "IEDEXC8KWcC9",
        "outputId": "dcc8d063-5bfb-4c66-f9a6-bb29c338dc23"
      },
      "source": [
        "test_fire_ds = tf.keras.preprocessing.image_dataset_from_directory(\n",
        "        \"/content/gdrive/MyDrive/Colab_Notebooks/CEProje/Pre-Render/Test\", seed=1337, image_size=(200,200), batch_size=32, shuffle=True)"
      ],
      "execution_count": null,
      "outputs": [
        {
          "output_type": "stream",
          "text": [
            "Found 8619 files belonging to 2 classes.\n"
          ],
          "name": "stdout"
        }
      ]
    },
    {
      "cell_type": "code",
      "metadata": {
        "colab": {
          "base_uri": "https://localhost:8080/"
        },
        "id": "ZcxygTMxWjcj",
        "outputId": "74d433be-3cba-44b3-8434-3e4f717bb87a"
      },
      "source": [
        "loss, accuracy = model.evaluate(test_fire_ds)\n",
        "print(\"Accuracy\", accuracy)"
      ],
      "execution_count": null,
      "outputs": [
        {
          "output_type": "stream",
          "text": [
            "270/270 [==============================] - 3522s 13s/step - loss: 1.0175 - acc: 0.5961\n",
            "Accuracy 0.5961248278617859\n"
          ],
          "name": "stdout"
        }
      ]
    }
  ]
}