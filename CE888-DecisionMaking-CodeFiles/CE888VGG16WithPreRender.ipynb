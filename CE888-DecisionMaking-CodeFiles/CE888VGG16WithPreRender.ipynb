{
  "nbformat": 4,
  "nbformat_minor": 0,
  "metadata": {
    "colab": {
      "name": "CE888VGG16WithPreRender.ipynb",
      "provenance": [],
      "collapsed_sections": []
    },
    "kernelspec": {
      "name": "python3",
      "display_name": "Python 3"
    },
    "language_info": {
      "name": "python"
    },
    "accelerator": "GPU"
  },
  "cells": [
    {
      "cell_type": "code",
      "metadata": {
        "id": "D5czb3ZCNV4h"
      },
      "source": [
        "\n",
        "import os\n",
        "from google.colab import drive\n",
        "\n",
        "import tensorflow as tf\n",
        "from tensorflow import keras\n",
        "import numpy as np\n",
        "\n",
        "from matplotlib import pyplot\n",
        "\n",
        "import tensorflow as tf\n",
        "from tensorflow import keras\n",
        "import matplotlib.pyplot as plt\n",
        "from tensorflow.keras import layers\n",
        "\n",
        "\n",
        "\n",
        "\n",
        "data_augmentation = keras.Sequential(\n",
        "        [\n",
        "            layers.experimental.preprocessing.RandomFlip(\"horizontal\"),\n",
        "            layers.experimental.preprocessing.RandomRotation(0.1),\n",
        "        ]\n",
        "    )"
      ],
      "execution_count": null,
      "outputs": []
    },
    {
      "cell_type": "code",
      "metadata": {
        "colab": {
          "base_uri": "https://localhost:8080/"
        },
        "id": "BYUD67wVNeaR",
        "outputId": "178c1740-6eff-4981-e886-c7e7fb0ee78e"
      },
      "source": [
        "drive.mount('/content/gdrive')"
      ],
      "execution_count": null,
      "outputs": [
        {
          "output_type": "stream",
          "text": [
            "Drive already mounted at /content/gdrive; to attempt to forcibly remount, call drive.mount(\"/content/gdrive\", force_remount=True).\n"
          ],
          "name": "stdout"
        }
      ]
    },
    {
      "cell_type": "code",
      "metadata": {
        "id": "icxQ7-FQNfyg"
      },
      "source": [
        "#For fire and no fire training files\n",
        "#0.8 for training and 0.2 for validation "
      ],
      "execution_count": null,
      "outputs": []
    },
    {
      "cell_type": "code",
      "metadata": {
        "id": "4w2Yeux7Nu7x",
        "colab": {
          "base_uri": "https://localhost:8080/"
        },
        "outputId": "b9ebd374-175f-4a0b-e039-926a472bd81b"
      },
      "source": [
        "##This indicate it will be done for training files\n",
        "train_ds = tf.keras.preprocessing.image_dataset_from_directory(\n",
        "      \"/content/gdrive/MyDrive/Colab_Notebooks/CEProje/Pre-Render/Train\", validation_split=0.2, subset=\"training\", seed=1337,batch_size=32,image_size=(254,254), shuffle=True)\n",
        "val_ds = tf.keras.preprocessing.image_dataset_from_directory(\n",
        "        \"/content/gdrive/MyDrive/Colab_Notebooks/CEProje/Pre-Render/Train\", validation_split=0.2, subset=\"validation\", seed=1337,image_size=(254,254),\n",
        "        batch_size=32, shuffle=True)"
      ],
      "execution_count": null,
      "outputs": [
        {
          "output_type": "stream",
          "text": [
            "Found 40723 files belonging to 2 classes.\n",
            "Using 32579 files for training.\n",
            "Found 40723 files belonging to 2 classes.\n",
            "Using 8144 files for validation.\n"
          ],
          "name": "stdout"
        }
      ]
    },
    {
      "cell_type": "code",
      "metadata": {
        "id": "QLlXpT-9PI8d"
      },
      "source": [
        "from tensorflow.keras.applications import VGG16\n",
        "from tensorflow.keras.layers import Dense, Input, Flatten\n",
        "from tensorflow.keras import Model\n",
        "\n",
        "img_input = Input(shape=(254, 254, 3))"
      ],
      "execution_count": null,
      "outputs": []
    },
    {
      "cell_type": "code",
      "metadata": {
        "colab": {
          "base_uri": "https://localhost:8080/"
        },
        "id": "xUVAfIi-PU5I",
        "outputId": "8ff6d7e7-f4e8-4096-ffe4-eb53d47436dd"
      },
      "source": [
        "model = VGG16(\n",
        "    include_top=True,\n",
        "    weights=\"imagenet\",\n",
        "    input_tensor=img_input,\n",
        "    input_shape=None,\n",
        "    pooling=None,\n",
        "    classes=1000,\n",
        "    classifier_activation=\"softmax\")\n",
        "\n",
        "\n",
        "model.summary()"
      ],
      "execution_count": null,
      "outputs": [
        {
          "output_type": "stream",
          "text": [
            "Model: \"vgg16\"\n",
            "_________________________________________________________________\n",
            "Layer (type)                 Output Shape              Param #   \n",
            "=================================================================\n",
            "input_2 (InputLayer)         [(None, 254, 254, 3)]     0         \n",
            "_________________________________________________________________\n",
            "block1_conv1 (Conv2D)        (None, 254, 254, 64)      1792      \n",
            "_________________________________________________________________\n",
            "block1_conv2 (Conv2D)        (None, 254, 254, 64)      36928     \n",
            "_________________________________________________________________\n",
            "block1_pool (MaxPooling2D)   (None, 127, 127, 64)      0         \n",
            "_________________________________________________________________\n",
            "block2_conv1 (Conv2D)        (None, 127, 127, 128)     73856     \n",
            "_________________________________________________________________\n",
            "block2_conv2 (Conv2D)        (None, 127, 127, 128)     147584    \n",
            "_________________________________________________________________\n",
            "block2_pool (MaxPooling2D)   (None, 63, 63, 128)       0         \n",
            "_________________________________________________________________\n",
            "block3_conv1 (Conv2D)        (None, 63, 63, 256)       295168    \n",
            "_________________________________________________________________\n",
            "block3_conv2 (Conv2D)        (None, 63, 63, 256)       590080    \n",
            "_________________________________________________________________\n",
            "block3_conv3 (Conv2D)        (None, 63, 63, 256)       590080    \n",
            "_________________________________________________________________\n",
            "block3_pool (MaxPooling2D)   (None, 31, 31, 256)       0         \n",
            "_________________________________________________________________\n",
            "block4_conv1 (Conv2D)        (None, 31, 31, 512)       1180160   \n",
            "_________________________________________________________________\n",
            "block4_conv2 (Conv2D)        (None, 31, 31, 512)       2359808   \n",
            "_________________________________________________________________\n",
            "block4_conv3 (Conv2D)        (None, 31, 31, 512)       2359808   \n",
            "_________________________________________________________________\n",
            "block4_pool (MaxPooling2D)   (None, 15, 15, 512)       0         \n",
            "_________________________________________________________________\n",
            "block5_conv1 (Conv2D)        (None, 15, 15, 512)       2359808   \n",
            "_________________________________________________________________\n",
            "block5_conv2 (Conv2D)        (None, 15, 15, 512)       2359808   \n",
            "_________________________________________________________________\n",
            "block5_conv3 (Conv2D)        (None, 15, 15, 512)       2359808   \n",
            "_________________________________________________________________\n",
            "block5_pool (MaxPooling2D)   (None, 7, 7, 512)         0         \n",
            "_________________________________________________________________\n",
            "flatten (Flatten)            (None, 25088)             0         \n",
            "_________________________________________________________________\n",
            "fc1 (Dense)                  (None, 4096)              102764544 \n",
            "_________________________________________________________________\n",
            "fc2 (Dense)                  (None, 4096)              16781312  \n",
            "_________________________________________________________________\n",
            "predictions (Dense)          (None, 1000)              4097000   \n",
            "=================================================================\n",
            "Total params: 138,357,544\n",
            "Trainable params: 138,357,544\n",
            "Non-trainable params: 0\n",
            "_________________________________________________________________\n"
          ],
          "name": "stdout"
        }
      ]
    },
    {
      "cell_type": "code",
      "metadata": {
        "colab": {
          "base_uri": "https://localhost:8080/"
        },
        "id": "0fSMdO8yPWZN",
        "outputId": "808b06cc-e599-4a20-d99a-c885b88a2855"
      },
      "source": [
        "last_layer = model.get_layer('block5_pool').output\n",
        "x= Flatten(name='flatten')(last_layer)\n",
        "x = Dense(128, activation='relu', name='fc1')(x)\n",
        "x = Dense(64, activation='relu', name='fc2')(x)\n",
        "out = Dense(1, activation='sigmoid', name='output')(x)  # 4 classes\n",
        "model = Model(img_input, out)\n",
        "\n",
        "for layer in model.layers[:-3]:\n",
        "\tlayer.trainable = False\n",
        "\n",
        "model.summary()"
      ],
      "execution_count": null,
      "outputs": [
        {
          "output_type": "stream",
          "text": [
            "Model: \"model_1\"\n",
            "_________________________________________________________________\n",
            "Layer (type)                 Output Shape              Param #   \n",
            "=================================================================\n",
            "input_2 (InputLayer)         [(None, 254, 254, 3)]     0         \n",
            "_________________________________________________________________\n",
            "block1_conv1 (Conv2D)        (None, 254, 254, 64)      1792      \n",
            "_________________________________________________________________\n",
            "block1_conv2 (Conv2D)        (None, 254, 254, 64)      36928     \n",
            "_________________________________________________________________\n",
            "block1_pool (MaxPooling2D)   (None, 127, 127, 64)      0         \n",
            "_________________________________________________________________\n",
            "block2_conv1 (Conv2D)        (None, 127, 127, 128)     73856     \n",
            "_________________________________________________________________\n",
            "block2_conv2 (Conv2D)        (None, 127, 127, 128)     147584    \n",
            "_________________________________________________________________\n",
            "block2_pool (MaxPooling2D)   (None, 63, 63, 128)       0         \n",
            "_________________________________________________________________\n",
            "block3_conv1 (Conv2D)        (None, 63, 63, 256)       295168    \n",
            "_________________________________________________________________\n",
            "block3_conv2 (Conv2D)        (None, 63, 63, 256)       590080    \n",
            "_________________________________________________________________\n",
            "block3_conv3 (Conv2D)        (None, 63, 63, 256)       590080    \n",
            "_________________________________________________________________\n",
            "block3_pool (MaxPooling2D)   (None, 31, 31, 256)       0         \n",
            "_________________________________________________________________\n",
            "block4_conv1 (Conv2D)        (None, 31, 31, 512)       1180160   \n",
            "_________________________________________________________________\n",
            "block4_conv2 (Conv2D)        (None, 31, 31, 512)       2359808   \n",
            "_________________________________________________________________\n",
            "block4_conv3 (Conv2D)        (None, 31, 31, 512)       2359808   \n",
            "_________________________________________________________________\n",
            "block4_pool (MaxPooling2D)   (None, 15, 15, 512)       0         \n",
            "_________________________________________________________________\n",
            "block5_conv1 (Conv2D)        (None, 15, 15, 512)       2359808   \n",
            "_________________________________________________________________\n",
            "block5_conv2 (Conv2D)        (None, 15, 15, 512)       2359808   \n",
            "_________________________________________________________________\n",
            "block5_conv3 (Conv2D)        (None, 15, 15, 512)       2359808   \n",
            "_________________________________________________________________\n",
            "block5_pool (MaxPooling2D)   (None, 7, 7, 512)         0         \n",
            "_________________________________________________________________\n",
            "flatten (Flatten)            (None, 25088)             0         \n",
            "_________________________________________________________________\n",
            "fc1 (Dense)                  (None, 128)               3211392   \n",
            "_________________________________________________________________\n",
            "fc2 (Dense)                  (None, 64)                8256      \n",
            "_________________________________________________________________\n",
            "output (Dense)               (None, 1)                 65        \n",
            "=================================================================\n",
            "Total params: 17,934,401\n",
            "Trainable params: 3,219,713\n",
            "Non-trainable params: 14,714,688\n",
            "_________________________________________________________________\n"
          ],
          "name": "stdout"
        }
      ]
    },
    {
      "cell_type": "code",
      "metadata": {
        "id": "wg1Kb5SCPh2z"
      },
      "source": [
        "model.compile(loss='binary_crossentropy',\n",
        "              optimizer='adam',\n",
        "              metrics=['acc'])"
      ],
      "execution_count": null,
      "outputs": []
    },
    {
      "cell_type": "code",
      "metadata": {
        "colab": {
          "base_uri": "https://localhost:8080/"
        },
        "id": "dKmm8sJ7Pmxj",
        "outputId": "2781c9ed-c97f-4c53-b531-d990769e104e"
      },
      "source": [
        "history = model.fit(train_ds,steps_per_epoch=10,\n",
        "                              epochs = 15,\n",
        "                              validation_data=val_ds,\n",
        "                              batch_size=32,verbose = 1)"
      ],
      "execution_count": null,
      "outputs": [
        {
          "output_type": "stream",
          "text": [
            "Epoch 1/15\n",
            "10/10 [==============================] - 1212s 134s/step - loss: 0.7893 - acc: 0.7871 - val_loss: 0.3197 - val_acc: 0.9455\n",
            "Epoch 2/15\n",
            "10/10 [==============================] - 60s 7s/step - loss: 0.2667 - acc: 0.9312 - val_loss: 0.1717 - val_acc: 0.9688\n",
            "Epoch 3/15\n",
            "10/10 [==============================] - 138s 14s/step - loss: 0.3999 - acc: 0.9443 - val_loss: 0.1331 - val_acc: 0.9700\n",
            "Epoch 4/15\n",
            "10/10 [==============================] - 138s 14s/step - loss: 0.0928 - acc: 0.9840 - val_loss: 0.1883 - val_acc: 0.9653\n",
            "Epoch 5/15\n",
            "10/10 [==============================] - 138s 14s/step - loss: 0.0484 - acc: 0.9915 - val_loss: 0.1018 - val_acc: 0.9724\n",
            "Epoch 6/15\n",
            "10/10 [==============================] - 138s 14s/step - loss: 0.1648 - acc: 0.9579 - val_loss: 0.0904 - val_acc: 0.9792\n",
            "Epoch 7/15\n",
            "10/10 [==============================] - 137s 14s/step - loss: 0.1420 - acc: 0.9743 - val_loss: 0.0423 - val_acc: 0.9894\n",
            "Epoch 8/15\n",
            "10/10 [==============================] - 141s 15s/step - loss: 0.0976 - acc: 0.9753 - val_loss: 0.0697 - val_acc: 0.9894\n",
            "Epoch 9/15\n",
            "10/10 [==============================] - 141s 15s/step - loss: 0.0564 - acc: 0.9812 - val_loss: 0.0644 - val_acc: 0.9817\n",
            "Epoch 10/15\n",
            "10/10 [==============================] - 140s 15s/step - loss: 0.0269 - acc: 0.9879 - val_loss: 0.0281 - val_acc: 0.9947\n",
            "Epoch 11/15\n",
            "10/10 [==============================] - 138s 14s/step - loss: 0.0078 - acc: 0.9957 - val_loss: 0.0261 - val_acc: 0.9934\n",
            "Epoch 12/15\n",
            "10/10 [==============================] - 138s 14s/step - loss: 0.0064 - acc: 1.0000 - val_loss: 0.0407 - val_acc: 0.9917\n",
            "Epoch 13/15\n",
            "10/10 [==============================] - 139s 15s/step - loss: 0.0445 - acc: 0.9887 - val_loss: 0.0446 - val_acc: 0.9898\n",
            "Epoch 14/15\n",
            "10/10 [==============================] - 141s 15s/step - loss: 0.0274 - acc: 0.9973 - val_loss: 0.0759 - val_acc: 0.9901\n",
            "Epoch 15/15\n",
            "10/10 [==============================] - 137s 14s/step - loss: 0.0026 - acc: 0.9984 - val_loss: 0.1714 - val_acc: 0.9867\n"
          ],
          "name": "stdout"
        }
      ]
    },
    {
      "cell_type": "code",
      "metadata": {
        "id": "2SZWSmoHPoha",
        "colab": {
          "base_uri": "https://localhost:8080/",
          "height": 545
        },
        "outputId": "16dcc7f0-4949-4698-ca86-76252465b80b"
      },
      "source": [
        "import matplotlib.pyplot as plt\n",
        "\n",
        "acc = history.history['acc']\n",
        "val_acc = history.history['val_acc']\n",
        "loss = history.history['loss']\n",
        "val_loss = history.history['val_loss']\n",
        "\n",
        "epochs = range(1, len(acc) + 1)\n",
        "\n",
        "plt.plot(epochs, acc, 'bo', label='Training acc')\n",
        "plt.plot(epochs, val_acc, 'b', label='Validation acc')\n",
        "plt.title('Training and validation accuracy')\n",
        "plt.legend()\n",
        "\n",
        "plt.figure()\n",
        "\n",
        "plt.plot(epochs, loss, 'bo', label='Training loss')\n",
        "plt.plot(epochs, val_loss, 'b', label='Validation loss')\n",
        "plt.title('Training and validation loss')\n",
        "plt.legend()\n",
        "\n",
        "plt.show()"
      ],
      "execution_count": null,
      "outputs": [
        {
          "output_type": "display_data",
          "data": {
            "image/png": "[encoded data removed]",
            "text/plain": [
              "<Figure size 432x288 with 1 Axes>"
            ]
          },
          "metadata": {
            "tags": [],
            "needs_background": "light"
          }
        },
        {
          "output_type": "display_data",
          "data": {
            "image/png": "[encoded data removed]",
            "text/plain": [
              "<Figure size 432x288 with 1 Axes>"
            ]
          },
          "metadata": {
            "tags": [],
            "needs_background": "light"
          }
        }
      ]
    },
    {
      "cell_type": "code",
      "metadata": {
        "colab": {
          "base_uri": "https://localhost:8080/"
        },
        "id": "yW2YOS_Sj0Mv",
        "outputId": "5c2cfa98-616e-439d-b1da-0d311616d371"
      },
      "source": [
        "#Next two line of Disaster Averted\n",
        "test_fire_ds = tf.keras.preprocessing.image_dataset_from_directory(\n",
        "        \"/content/gdrive/MyDrive/Colab_Notebooks/CEProje/Pre-Render/Test\", seed=1337, image_size=(254,254), batch_size=32, shuffle=True)\n"
      ],
      "execution_count": null,
      "outputs": [
        {
          "output_type": "stream",
          "text": [
            "Found 8619 files belonging to 2 classes.\n"
          ],
          "name": "stdout"
        }
      ]
    },
    {
      "cell_type": "code",
      "metadata": {
        "colab": {
          "base_uri": "https://localhost:8080/"
        },
        "id": "MEYEmTuQ8rMm",
        "outputId": "4b259f90-9a2d-4a04-82d1-b1480ff7ec36"
      },
      "source": [
        "loss, accuracy = model.evaluate(test_fire_ds)\n",
        "print(\"Accuracy\", accuracy)"
      ],
      "execution_count": null,
      "outputs": [
        {
          "output_type": "stream",
          "text": [
            "270/270 [==============================] - 2221s 8s/step - loss: 3.5673 - acc: 0.7256\n",
            "Accuracy 0.7256062030792236\n"
          ],
          "name": "stdout"
        }
      ]
    }
  ]
}