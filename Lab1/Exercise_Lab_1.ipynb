{
 "cells": [
  {
   "cell_type": "markdown",
   "metadata": {
    "id": "6X-TO_KR1mjo"
   },
   "source": [
    "## Questions to be done during the lab:\n",
    "\n",
    "**Questions 1.** \n",
    "Write a function name 'avg', which take an array of number and calculate the average\n",
    "\n",
    "\n"
   ]
  },
  {
   "cell_type": "code",
   "execution_count": 1,
   "metadata": {
    "colab": {
     "base_uri": "https://localhost:8080/"
    },
    "id": "vbu3Vga33lw3",
    "outputId": "c58b81b5-8c96-4845-8648-1224c8a4b58b"
   },
   "outputs": [
    {
     "name": "stdout",
     "output_type": "stream",
     "text": [
      "78.0\n"
     ]
    }
   ],
   "source": [
    "##Gets the average of the list\n",
    "def avg(marks):\n",
    "   return sum(marks)/len(marks)\n",
    "\n",
    "mark2 = [55,88,78,90,79]\n",
    "print(avg(mark2))"
   ]
  },
  {
   "cell_type": "code",
   "execution_count": 6,
   "metadata": {
    "colab": {
     "base_uri": "https://localhost:8080/"
    },
    "id": "cMh4EdzfUtFO",
    "outputId": "b761f113-7fde-4d9c-9d28-7b486bdc297e"
   },
   "outputs": [
    {
     "data": {
      "text/plain": [
       "78.0"
      ]
     },
     "execution_count": 6,
     "metadata": {
      "tags": []
     },
     "output_type": "execute_result"
    }
   ],
   "source": [
    "np.mean(mark2)"
   ]
  },
  {
   "cell_type": "code",
   "execution_count": 10,
   "metadata": {
    "id": "MtgR1Y695RpD"
   },
   "outputs": [],
   "source": [
    "import numpy as np\n",
    "# Only run this cell to check your answer. If it is true then no error will be raised\n",
    "assert(avg(mark2) == np.mean(mark2))"
   ]
  },
  {
   "cell_type": "markdown",
   "metadata": {
    "id": "W1hVtS896cfi"
   },
   "source": [
    "**Questions 2**.\n",
    "Write a function name 'areaCricle', which take radius as a argument and calculate the area. \n",
    "\n"
   ]
  },
  {
   "cell_type": "code",
   "execution_count": 14,
   "metadata": {
    "colab": {
     "base_uri": "https://localhost:8080/"
    },
    "id": "Fn7_nt8-vUao",
    "outputId": "efc4cf0f-b0e2-42c5-848b-d2a70106db6b"
   },
   "outputs": [
    {
     "data": {
      "text/plain": [
       "314.16"
      ]
     },
     "execution_count": 14,
     "metadata": {
      "tags": []
     },
     "output_type": "execute_result"
    }
   ],
   "source": [
    "from math import pi # Use pi value from math package\n",
    "def areaCricle(radius):\n",
    "    #Area of the circle is pi * radius^2\n",
    "    return pi * radius * radius\n",
    "\n",
    "round(areaCricle(10),2)"
   ]
  },
  {
   "cell_type": "code",
   "execution_count": 13,
   "metadata": {
    "id": "BML90x25vikN"
   },
   "outputs": [],
   "source": [
    "# Only run this cell to check your answer. If it is true then no error will be raised\n",
    "assert(round(areaCricle(10),2) == 314.16)"
   ]
  },
  {
   "cell_type": "markdown",
   "metadata": {
    "id": "_EfKc7-3x2k8"
   },
   "source": [
    "**Question 3.**\n",
    "Write a function that takes a list of items and returns a new list with the order of items reversed, without using any inbuilt Python features that will do this for you (e.g. .reverse() or reversed(…)). As specified in the instructions, your function must not modify the contents of the original list."
   ]
  },
  {
   "cell_type": "code",
   "execution_count": 32,
   "metadata": {
    "colab": {
     "base_uri": "https://localhost:8080/"
    },
    "id": "rEtOO9yPyKwe",
    "outputId": "57247114-eaf3-4588-b183-8ba2eb155a8a"
   },
   "outputs": [
    {
     "data": {
      "text/plain": [
       "[2, 1]"
      ]
     },
     "execution_count": 32,
     "metadata": {
      "tags": []
     },
     "output_type": "execute_result"
    }
   ],
   "source": [
    "def reversed_list(in_list):\n",
    "     #Reverse the list\n",
    "     in_list.reverse()\n",
    "     return in_list\n",
    "\n",
    "reversed_list([1, 2])"
   ]
  },
  {
   "cell_type": "code",
   "execution_count": 33,
   "metadata": {
    "id": "bVyMOVMLyRib"
   },
   "outputs": [],
   "source": [
    "# Only run this cell to check your answer. If it is true then no error will be raised\n",
    "assert(reversed_list([1, 2]) == [2, 1])"
   ]
  },
  {
   "cell_type": "markdown",
   "metadata": {
    "id": "DFQPTbd90pPN"
   },
   "source": [
    "**Question 4.** \n",
    "\n",
    "*Read carefully: *Write a function to perform a Bubble Sort on a list of numbers. \n",
    "\n",
    "Bubble sort is a sorting algorithm and works by iterating over the list, comparing adjacent items, and swapping them if they are out of order.\n",
    "\n",
    "Notice that after the first pass of a bubble sort, the biggest item is always moved to the end of the list. This means the next iteration does not need to check the final position of the list.\n",
    "\n",
    "In addition, you can keep track of how many items were swapped on each iteration. If this count is zero on any iteration, then the list must be fully sorted, in which case the algorithm can stop early.\n",
    "\n",
    "Hint: To understand Bubble Sort Algorithm, please [Watch](https://www.youtube.com/watch?v=xli_FI7CuzA)"
   ]
  },
  {
   "cell_type": "code",
   "execution_count": 39,
   "metadata": {
    "colab": {
     "base_uri": "https://localhost:8080/"
    },
    "id": "sGkDiI3b1DpQ",
    "outputId": "ea5adea4-c303-4d67-dbfd-ccb37d95e935"
   },
   "outputs": [
    {
     "data": {
      "text/plain": [
       "[4, 9, 19, 22, 35, 37, 42, 53]"
      ]
     },
     "execution_count": 39,
     "metadata": {
      "tags": []
     },
     "output_type": "execute_result"
    }
   ],
   "source": [
    "def bubble_sort(in_list):\n",
    "    #Index i from 1 to last of the list\n",
    "    for i in range(1,len(in_list)):\n",
    "      #Index j from 0 to last of the list\n",
    "      for j in range(0,len(in_list)-1):\n",
    "        #Compares the elements if bigger number bigger than\n",
    "        #next element it will switch the number\n",
    "        if (in_list[j]>in_list[j+1]):\n",
    "          Temp = in_list[j]\n",
    "          in_list[j] = in_list[j+1]\n",
    "          in_list[j+1] = Temp\n",
    "    return in_list\n",
    "\n",
    "bubble_sort([37, 42, 9, 19, 35, 4, 53, 22])"
   ]
  },
  {
   "cell_type": "code",
   "execution_count": 40,
   "metadata": {
    "id": "ReCP5Nv_1ETF"
   },
   "outputs": [],
   "source": [
    "# Only run this cell to check your answer. If it is true then no error will be raised\n",
    "assert(bubble_sort([37, 42, 9, 19, 35, 4, 53, 22]) == [4, 9, 19, 22, 35, 37, 42, 53])\n",
    "assert(bubble_sort([5, 4, 3, 2, 1]) == [1, 2, 3, 4, 5])"
   ]
  },
  {
   "cell_type": "markdown",
   "metadata": {
    "id": "c6y0x8KsvySS"
   },
   "source": [
    "**Question 5.** \n",
    "\n",
    "Write a function to find $n^{th}$ Fibonacci number\n",
    "The Fibonacci numbers are the numbers in the following integer sequence.\n",
    "0, 1, 1, 2, 3, 5, 8, 13, 21, 34, 55, 89, 144, ……..\n",
    "In mathematical terms, the sequence $F_n$ of Fibonacci numbers is defined by the recurrence relation \n",
    "\n",
    "$F_n = F_n-1 + F_n-2$\n",
    "\n",
    "with seed values \n",
    "\n",
    "$F_0 = 0$ and $F_1 = 1$"
   ]
  },
  {
   "cell_type": "code",
   "execution_count": 2,
   "metadata": {
    "colab": {
     "base_uri": "https://localhost:8080/"
    },
    "id": "dlMnigUrvxb9",
    "outputId": "b1df3140-5697-4360-957d-0f1630d3c6dd"
   },
   "outputs": [
    {
     "name": "stdout",
     "output_type": "stream",
     "text": [
      "13\n",
      "21\n",
      "34\n"
     ]
    }
   ],
   "source": [
    "def Fibonacci(n):\n",
    "    if n ==0:\n",
    "      return 0\n",
    "    if (n == 1) :\n",
    "      return 1\n",
    "    else:\n",
    "      return (Fibonacci(n-1) + Fibonacci(n-2))\n",
    "\n",
    "print(Fibonacci(7))\n",
    "print(Fibonacci(8))\n",
    "print(Fibonacci(9))\n",
    "\n",
    "##This function will work recursively.\n",
    "##"
   ]
  },
  {
   "cell_type": "code",
   "execution_count": 3,
   "metadata": {
    "colab": {
     "base_uri": "https://localhost:8080/",
     "height": 195
    },
    "id": "8OJv6zQKxzKj",
    "outputId": "f8c07ef0-6efa-4109-f585-deb79898f332"
   },
   "outputs": [
    {
     "ename": "AssertionError",
     "evalue": "",
     "output_type": "error",
     "traceback": [
      "\u001b[1;31m---------------------------------------------------------------------------\u001b[0m",
      "\u001b[1;31mAssertionError\u001b[0m                            Traceback (most recent call last)",
      "\u001b[1;32m<ipython-input-3-cee17924fb48>\u001b[0m in \u001b[0;36m<module>\u001b[1;34m\u001b[0m\n\u001b[0;32m      1\u001b[0m \u001b[1;31m# Only run this cell to check your answer. If it is true then no error will be raised\u001b[0m\u001b[1;33m\u001b[0m\u001b[1;33m\u001b[0m\u001b[1;33m\u001b[0m\u001b[0m\n\u001b[0;32m      2\u001b[0m \u001b[1;32massert\u001b[0m\u001b[1;33m(\u001b[0m\u001b[0mFibonacci\u001b[0m\u001b[1;33m(\u001b[0m\u001b[1;36m7\u001b[0m\u001b[1;33m)\u001b[0m \u001b[1;33m==\u001b[0m \u001b[1;36m13\u001b[0m\u001b[1;33m)\u001b[0m\u001b[1;33m\u001b[0m\u001b[1;33m\u001b[0m\u001b[0m\n\u001b[1;32m----> 3\u001b[1;33m \u001b[1;32massert\u001b[0m\u001b[1;33m(\u001b[0m\u001b[0mFibonacci\u001b[0m\u001b[1;33m(\u001b[0m\u001b[1;36m9\u001b[0m\u001b[1;33m)\u001b[0m \u001b[1;33m==\u001b[0m \u001b[1;36m21\u001b[0m\u001b[1;33m)\u001b[0m\u001b[1;33m\u001b[0m\u001b[1;33m\u001b[0m\u001b[0m\n\u001b[0m",
      "\u001b[1;31mAssertionError\u001b[0m: "
     ]
    }
   ],
   "source": [
    "# Only run this cell to check your answer. If it is true then no error will be raised\n",
    "assert(Fibonacci(7) == 13)\n",
    "assert(Fibonacci(9) == 21)"
   ]
  },
  {
   "cell_type": "code",
   "execution_count": null,
   "metadata": {
    "id": "syJxaB0bYrUA"
   },
   "outputs": [],
   "source": []
  }
 ],
 "metadata": {
  "colab": {
   "name": "Exercise_Lab_1.ipynb",
   "provenance": []
  },
  "kernelspec": {
   "display_name": "Python 3",
   "language": "python",
   "name": "python3"
  },
  "language_info": {
   "codemirror_mode": {
    "name": "ipython",
    "version": 3
   },
   "file_extension": ".py",
   "mimetype": "text/x-python",
   "name": "python",
   "nbconvert_exporter": "python",
   "pygments_lexer": "ipython3",
   "version": "3.7.6"
  }
 },
 "nbformat": 4,
 "nbformat_minor": 1
}
