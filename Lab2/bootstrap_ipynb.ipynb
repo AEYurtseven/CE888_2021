{
  "nbformat": 4,
  "nbformat_minor": 0,
  "metadata": {
    "colab": {
      "name": "bootstrap.ipynb adlı not defterinin kopyası",
      "provenance": [],
      "collapsed_sections": []
    },
    "kernelspec": {
      "display_name": "Python 3",
      "language": "python",
      "name": "python3"
    },
    "language_info": {
      "codemirror_mode": {
        "name": "ipython",
        "version": 3
      },
      "file_extension": ".py",
      "mimetype": "text/x-python",
      "name": "python",
      "nbconvert_exporter": "python",
      "pygments_lexer": "ipython3",
      "version": "3.7.6"
    },
    "pycharm": {
      "stem_cell": {
        "cell_type": "raw",
        "metadata": {
          "collapsed": false
        },
        "source": []
      }
    }
  },
  "cells": [
    {
      "cell_type": "markdown",
      "metadata": {
        "id": "nCi_99yMYIb1"
      },
      "source": [
        "In this notebook you'll create your own bootstrap function following the bootstrap algorithm (check the lecture notes!)"
      ]
    },
    {
      "cell_type": "code",
      "metadata": {
        "id": "LY5zujI2YC37",
        "pycharm": {
          "name": "#%%# Imports\n"
        }
      },
      "source": [
        "import matplotlib\n",
        "import pandas as pd\n",
        "import seaborn as sns\n",
        "import numpy as np\n",
        "import random\n"
      ],
      "execution_count": 10,
      "outputs": []
    },
    {
      "cell_type": "code",
      "metadata": {
        "id": "Eqkwj4SMY38t",
        "colab": {
          "base_uri": "https://localhost:8080/"
        },
        "outputId": "1379c809-4e7e-4bb6-b486-2067af1d5727"
      },
      "source": [
        "# Load the data\n",
        "df = pd.read_csv('https://raw.githubusercontent.com/albanda/CE888/master/lab2%20-%20bootstrap/customers.csv')\n",
        "data = df.values.T[1]\n",
        "print(data)"
      ],
      "execution_count": 75,
      "outputs": [
        {
          "output_type": "stream",
          "text": [
            "[ 2.  8. 20. 13.  5.  9. 10.  8. 22. 10.  2.  4.  7.  9.]\n"
          ],
          "name": "stdout"
        }
      ]
    },
    {
      "cell_type": "code",
      "metadata": {
        "id": "Gxvc_bScYC4H",
        "pycharm": {
          "name": "#%%\n"
        }
      },
      "source": [
        "# Checking the notes from the lecture, create here your own bootstrap function:\n",
        "# 1. Sample from the input array x to create an array of samples of shape (n_bootstraps, sample_size)\n",
        "# Hint: Check the function random.choice() on Numpy\n",
        "# 2. Calculate and save the mean of the array (this is \"data_mean\" that is returned by the function)\n",
        "# 3. Calculate the mean from each bootstrap (i.e., row) and store it.\n",
        "# (This should be an array of n_bootstraps values)\n",
        "# 4. Calculate the lower and upper bounds for a 95% CI (hint: check the percentile function on Numpy)\n",
        "# 5. Return data_mean, and the lower and upper bounds of your interval\n",
        "def bootstrap_mean(x, sample_size, n_bootstraps):\n",
        "  #Create an empty 2d list\n",
        "  boot_array = [[random.choice(x) for i in range(sample_size)] for j in range(n_bootstraps)]\n",
        "  #2. Calculate and save the mean of the array (this is \"data_mean\" that is returned by the function)\n",
        "  data_mean = np.mean(x)\n",
        "  # 3. Calculate the mean from each bootstrap (i.e., row) and store it.\n",
        "  #Fill the list \n",
        "  boot_mean = np.mean(x)\n",
        "  #Calculate the mean of each boot straps\n",
        "  bootstrap_mean = []\n",
        "  for each_bootstraps in boot_array:\n",
        "      bootstrap_mean.append(np.mean(each_bootstraps))\n",
        "\n",
        "  # 4. Calculate the lower and upper bounds for a 95% CI (hint: check the percentile function on Numpy)\n",
        "  upper = np.percentile(bootstrap_mean, 95, axis =0) \n",
        "  lower = np.percentile(bootstrap_mean, 5, axis =0) \n",
        "  return data_mean, lower, upper\n",
        "\n",
        "\n",
        "\t#return data_mean, lower, upper\n",
        "#boot = bootstrap_mean(data, data.shape[0], 10)\n",
        "#print(bootstrap_mean(data, data.shape[0], 10))"
      ],
      "execution_count": 83,
      "outputs": []
    },
    {
      "cell_type": "code",
      "metadata": {
        "id": "AN7sEOcMYC4P",
        "pycharm": {
          "name": "#%%\n"
        },
        "colab": {
          "base_uri": "https://localhost:8080/",
          "height": 454
        },
        "outputId": "1a462b6c-a0a9-4173-8d38-f25e8fccfdc3"
      },
      "source": [
        "# Call your bootstrap function and plot the results\n",
        "\n",
        "boots = []\n",
        "for i in range(100, 50000, 1000):\n",
        "    boot = bootstrap_mean(data, data.shape[0], i)\n",
        "    boots.append([i, boot[0], \"mean\"])\n",
        "    boots.append([i, boot[1], \"lower\"])\n",
        "    boots.append([i, boot[2], \"upper\"])\n",
        "\n",
        "df_boot = pd.DataFrame(boots, columns=['Bootstrap Iterations', 'Mean', \"Value\"])\n",
        "sns_plot = sns.lmplot(df_boot.columns[0], df_boot.columns[1], data=df_boot, fit_reg=False, hue=\"Value\")\n",
        "\n",
        "sns_plot.axes[0, 0].set_ylim(0,)\n",
        "sns_plot.axes[0, 0].set_xlim(0, 100000)\n"
      ],
      "execution_count": 84,
      "outputs": [
        {
          "output_type": "stream",
          "text": [
            "/usr/local/lib/python3.6/dist-packages/seaborn/_decorators.py:43: FutureWarning: Pass the following variables as keyword args: x, y. From version 0.12, the only valid positional argument will be `data`, and passing other arguments without an explicit keyword will result in an error or misinterpretation.\n",
            "  FutureWarning\n"
          ],
          "name": "stderr"
        },
        {
          "output_type": "execute_result",
          "data": {
            "text/plain": [
              "(0.0, 100000.0)"
            ]
          },
          "metadata": {
            "tags": []
          },
          "execution_count": 84
        },
        {
          "output_type": "display_data",
          "data": {
            "image/png": "[encoded data removed]",
            "text/plain": [
              "<Figure size 425.125x360 with 1 Axes>"
            ]
          },
          "metadata": {
            "tags": [],
            "needs_background": "light"
          }
        }
      ]
    },
    {
      "cell_type": "markdown",
      "metadata": {
        "id": "MjtP4e2_YC4V"
      },
      "source": [
        "\n",
        "Now, modify the bootstrap function you created above so that you can pass your desired confidence interval as a parameter.\n",
        "\n"
      ]
    },
    {
      "cell_type": "code",
      "metadata": {
        "id": "3K9j0FuGYhHs"
      },
      "source": [
        "def bootstrap_mean_ci(sample, sample_size, n_bootstraps, ci):\n",
        "\t#Create an empty 2d list\n",
        "  boot_array = [[random.choice(sample) for i in range(sample_size)] for j in range(n_bootstraps)]\n",
        "  #2. Calculate and save the mean of the array (this is \"data_mean\" that is returned by the function)\n",
        "  data_mean = np.mean(sample)\n",
        "  # 3. Calculate the mean from each bootstrap (i.e., row) and store it.\n",
        "  #Fill the list \n",
        "  boot_mean = np.mean(sample)\n",
        "  #Calculate the mean of each boot straps\n",
        "  bootstrap_mean = []\n",
        "  for each_bootstraps in boot_array:\n",
        "      bootstrap_mean.append(np.mean(each_bootstraps))\n",
        "\n",
        "  # 4. Calculate the lower and upper bounds for a 95% CI (hint: check the percentile function on Numpy)\n",
        "  upper = np.percentile(bootstrap_mean, ci, axis =0) \n",
        "  lower = np.percentile(bootstrap_mean, 100 - ci, axis =0) \n",
        "  return data_mean, lower, upper\n",
        "\t#return data_mean,lower,upper\n",
        "\n"
      ],
      "execution_count": 98,
      "outputs": []
    },
    {
      "cell_type": "code",
      "metadata": {
        "id": "uDnjq08GYl-C",
        "colab": {
          "base_uri": "https://localhost:8080/",
          "height": 454
        },
        "outputId": "7743d6d0-740b-4618-d4f2-c301b2857380"
      },
      "source": [
        "boots = []\n",
        "for i in range(100, 50000, 1000):\n",
        "    boot = bootstrap_mean_ci(data, data.shape[0], i, 80)\n",
        "    boots.append([i, boot[0], \"mean\"])\n",
        "    boots.append([i, boot[1], \"lower\"])\n",
        "    boots.append([i, boot[2], \"upper\"])\n",
        "\n",
        "df_boot = pd.DataFrame(boots, columns=['Boostrap Iterations', 'Mean', \"Value\"])\n",
        "sns_plot = sns.lmplot(df_boot.columns[0], df_boot.columns[1], data=df_boot, fit_reg=False, hue=\"Value\")\n",
        "\n",
        "sns_plot.axes[0, 0].set_ylim(0,)\n",
        "sns_plot.axes[0, 0].set_xlim(0, 100000)\n",
        "\n",
        "#sns_plot.savefig(\"bootstrap_confidence_80.pdf\", bbox_inches='tight')\n"
      ],
      "execution_count": 99,
      "outputs": [
        {
          "output_type": "stream",
          "text": [
            "/usr/local/lib/python3.6/dist-packages/seaborn/_decorators.py:43: FutureWarning: Pass the following variables as keyword args: x, y. From version 0.12, the only valid positional argument will be `data`, and passing other arguments without an explicit keyword will result in an error or misinterpretation.\n",
            "  FutureWarning\n"
          ],
          "name": "stderr"
        },
        {
          "output_type": "execute_result",
          "data": {
            "text/plain": [
              "(0.0, 100000.0)"
            ]
          },
          "metadata": {
            "tags": []
          },
          "execution_count": 99
        },
        {
          "output_type": "display_data",
          "data": {
            "image/png": "[encoded data removed]",
            "text/plain": [
              "<Figure size 425.125x360 with 1 Axes>"
            ]
          },
          "metadata": {
            "tags": [],
            "needs_background": "light"
          }
        }
      ]
    },
    {
      "cell_type": "markdown",
      "metadata": {
        "id": "qjNgXW6wdd7r"
      },
      "source": [
        "# Vehicles dataset\n",
        "\n",
        "Now let's work on a different dataset, which is stored in the vehicles.csv file.\n"
      ]
    },
    {
      "cell_type": "code",
      "metadata": {
        "id": "avWv4ipFdpka",
        "colab": {
          "base_uri": "https://localhost:8080/",
          "height": 585
        },
        "outputId": "bf4034ae-4509-45b3-8af1-7f086c250915"
      },
      "source": [
        "# Load and visualise the vehicles dataset\n",
        "# To load the dataset: https://neptune.ai/blog/google-colab-dealing-with-files (check section \"Load individual files directly from GitHub\")\n",
        "df = pd.read_csv('https://raw.githubusercontent.com/albanda/CE888/master/lab2%20-%20bootstrap/vehicles.csv')\n",
        "print(df)\n",
        "# Note that the current and new fleets are in different columns and have different lengths, so bear this in mind when you're plotting.\n",
        "# You can create separate scatterplots for the two fleets, as you would with the histograms, \n",
        "# or plot them both in one plot (but not one against the other).\n",
        "# <---INSERT YOUR CODE HERE--->\n",
        "sns.distplot(df['Current fleet'],kde=False,bins=30)\n",
        "sns.distplot(df['New Fleet'],kde=False,bins=30)\n",
        "# Note: you can add more cells as needed to organise your code and your plots\n"
      ],
      "execution_count": 112,
      "outputs": [
        {
          "output_type": "stream",
          "text": [
            "     Current fleet  New Fleet\n",
            "0               18       24.0\n",
            "1               15       27.0\n",
            "2               18       27.0\n",
            "3               16       25.0\n",
            "4               17       31.0\n",
            "..             ...        ...\n",
            "244             27        NaN\n",
            "245             27        NaN\n",
            "246             32        NaN\n",
            "247             28        NaN\n",
            "248             31        NaN\n",
            "\n",
            "[249 rows x 2 columns]\n"
          ],
          "name": "stdout"
        },
        {
          "output_type": "stream",
          "text": [
            "/usr/local/lib/python3.6/dist-packages/seaborn/distributions.py:2557: FutureWarning: `distplot` is a deprecated function and will be removed in a future version. Please adapt your code to use either `displot` (a figure-level function with similar flexibility) or `histplot` (an axes-level function for histograms).\n",
            "  warnings.warn(msg, FutureWarning)\n"
          ],
          "name": "stderr"
        },
        {
          "output_type": "execute_result",
          "data": {
            "text/plain": [
              "<matplotlib.axes._subplots.AxesSubplot at 0x7f32c6ef27b8>"
            ]
          },
          "metadata": {
            "tags": []
          },
          "execution_count": 112
        },
        {
          "output_type": "display_data",
          "data": {
            "image/png": "[encoded data removed]",
            "text/plain": [
              "<Figure size 432x288 with 1 Axes>"
            ]
          },
          "metadata": {
            "tags": [],
            "needs_background": "light"
          }
        }
      ]
    },
    {
      "cell_type": "markdown",
      "metadata": {
        "id": "B5d0tXDpIEj8"
      },
      "source": [
        "## Compare the two fleets\r\n",
        "\r\n",
        "The business analysts come up a comparison algorithm that requires the upper and lower bounds for the mean in order to say which fleet is better.\r\n",
        "1. Calculate the mean of both samples.\r\n",
        "2. Using the bootstrap function that you created:\r\n",
        "    - Construct the 95% CI of the mean of the current fleet.\r\n",
        "    - Construct the 95% CI of the mean of the new fleet.\r\n",
        "    - Are they comparable? (i.e., is one better than the other?) -- you can do this with a permutation test (check the lecture notes!)"
      ]
    },
    {
      "cell_type": "code",
      "metadata": {
        "id": "po4mp6zRHC0m",
        "colab": {
          "base_uri": "https://localhost:8080/"
        },
        "outputId": "8bd80524-bcca-4b0e-f712-62b9471fce5e"
      },
      "source": [
        "# <---INSERT YOUR CODE HERE--->\n",
        "fleet_data = pd.read_csv('https://raw.githubusercontent.com/albanda/CE888/master/lab2%20-%20bootstrap/vehicles.csv')\n",
        "fleet_data_values = fleet_data.values.T[1]\n",
        "print(fleet_data.values.T[1])"
      ],
      "execution_count": 123,
      "outputs": [
        {
          "output_type": "stream",
          "text": [
            "[24. 27. 27. 25. 31. 35. 24. 19. 28. 23. 27. 20. 22. 18. 20. 31. 32. 31.\n",
            " 32. 24. 26. 29. 24. 24. 33. 33. 32. 28. 19. 32. 34. 26. 30. 22. 22. 33.\n",
            " 39. 36. 28. 27. 21. 24. 30. 34. 32. 38. 37. 30. 31. 37. 32. 47. 41. 45.\n",
            " 34. 33. 24. 32. 39. 35. 32. 37. 38. 34. 34. 32. 33. 32. 25. 24. 37. 31.\n",
            " 36. 36. 34. 38. 32. 38. 32. nan nan nan nan nan nan nan nan nan nan nan\n",
            " nan nan nan nan nan nan nan nan nan nan nan nan nan nan nan nan nan nan\n",
            " nan nan nan nan nan nan nan nan nan nan nan nan nan nan nan nan nan nan\n",
            " nan nan nan nan nan nan nan nan nan nan nan nan nan nan nan nan nan nan\n",
            " nan nan nan nan nan nan nan nan nan nan nan nan nan nan nan nan nan nan\n",
            " nan nan nan nan nan nan nan nan nan nan nan nan nan nan nan nan nan nan\n",
            " nan nan nan nan nan nan nan nan nan nan nan nan nan nan nan nan nan nan\n",
            " nan nan nan nan nan nan nan nan nan nan nan nan nan nan nan nan nan nan\n",
            " nan nan nan nan nan nan nan nan nan nan nan nan nan nan nan nan nan nan\n",
            " nan nan nan nan nan nan nan nan nan nan nan nan nan nan nan]\n"
          ],
          "name": "stdout"
        }
      ]
    },
    {
      "cell_type": "code",
      "metadata": {
        "colab": {
          "base_uri": "https://localhost:8080/"
        },
        "id": "6F84roQ_0RfC",
        "outputId": "32d8f457-b1a4-4a55-b167-eccdffbccf02"
      },
      "source": [
        "current_fleet_data = np.array([random.uniform(1,9) for _ in range(len(df['Current fleet'].values))])\r\n",
        "print(current_fleet_data)"
      ],
      "execution_count": 166,
      "outputs": [
        {
          "output_type": "stream",
          "text": [
            "[4.89682726 7.41539477 7.46287685 3.02192184 4.79069404 8.62375998\n",
            " 4.20551423 5.6750616  6.92847369 2.57726265 1.14096263 2.95822863\n",
            " 1.8644967  4.47697157 4.06778445 6.96006586 5.81158845 8.46681195\n",
            " 6.963384   4.02212948 4.03338716 2.97961197 6.81993012 1.09703684\n",
            " 7.19121714 2.97074235 2.05746928 8.65490434 3.59088079 3.60522422\n",
            " 3.0554169  7.33919213 8.12216752 2.74033097 6.6006548  6.16875822\n",
            " 7.86709681 7.04903244 1.72301988 8.90097049 4.4799672  4.26974973\n",
            " 3.37929411 7.28613011 7.72653694 2.99810005 7.87050962 7.18767288\n",
            " 5.8499754  7.08119988 8.74999926 8.49241917 7.0391974  1.19900818\n",
            " 6.85969768 7.30842239 1.05401057 1.04548241 6.3762002  2.03157607\n",
            " 7.65089409 2.68775197 6.85590384 1.49099547 5.29586688 5.9744945\n",
            " 1.40487427 7.37941354 4.41754105 5.75184668 6.12664626 5.40961224\n",
            " 7.86007508 6.93708557 1.52388859 5.87729128 6.19218645 6.50844746\n",
            " 5.92947354 1.5479627  7.63194457 8.84515908 4.82090356 6.39950101\n",
            " 8.25005389 2.75427468 6.93886487 2.25477014 3.91049527 8.18170874\n",
            " 6.00631243 6.85260067 7.85149855 8.42130087 7.16495321 4.35819918\n",
            " 3.24780306 4.22610227 5.69266247 7.55919215 7.11105198 6.26710981\n",
            " 8.90978683 8.34664006 1.43566541 5.41353147 5.1274039  4.28255152\n",
            " 6.12284082 3.59313673 8.5987565  1.34696355 4.28168602 7.68218119\n",
            " 5.1041286  2.28739484 4.52707182 7.05831988 2.29438892 3.16132272\n",
            " 7.30437428 8.24690729 1.70152621 7.42637372 4.57811939 7.34301186\n",
            " 8.21649913 3.35368147 8.38084334 7.01749178 6.82149518 6.8912059\n",
            " 2.47709865 3.09258438 6.42355341 4.63494948 2.1994883  8.89235934\n",
            " 8.70322417 2.31024552 4.24139888 4.17210038 4.31853014 4.61061207\n",
            " 7.99905014 1.68954952 3.07890938 1.16908496 6.28060787 4.44884198\n",
            " 6.34521574 2.95406361 4.31915189 1.10269465 3.9344738  4.05516938\n",
            " 3.02086796 2.01897995 2.05085668 4.80057745 5.3346393  7.5380673\n",
            " 1.37035645 2.04804899 4.26941974 4.87069801 5.67739159 2.19539808\n",
            " 7.34376636 1.38014275 5.68201642 5.76194763 5.35074087 7.71865413\n",
            " 5.42626243 6.59888747 2.75295687 5.26389636 3.92995985 5.43961632\n",
            " 8.62389442 3.27139711 4.59989122 8.03215355 5.55954846 1.66705699\n",
            " 8.33155845 6.77355862 8.51853695 6.66921409 3.63295432 2.91557737\n",
            " 3.94958342 1.76828554 5.16280161 3.75097798 5.53162717 7.8176859\n",
            " 8.95984587 3.37634414 4.22878396 5.07074421 5.73523789 1.69204793\n",
            " 7.14622199 5.94464261 5.31344069 3.77847671 8.15567951 1.20031002\n",
            " 3.90497036 3.9053558  3.61632866 5.25686867 2.14287807 3.80139464\n",
            " 7.12932888 6.22523409 2.10508645 7.61544045 4.84999836 6.79811688\n",
            " 5.0695114  6.64645828 8.41306341 3.16699356 7.74696398 1.11420693\n",
            " 2.44185168 2.95926339 6.47320766 2.24549353 2.66187737 6.13667074\n",
            " 1.40363934 5.33427184 1.71347635 4.39579389 8.08697319 6.57021221\n",
            " 5.82168602 5.2871439  1.30324856 2.75113459 7.92727175 4.89043184\n",
            " 3.02510346 8.76436551 6.69753387]\n"
          ],
          "name": "stdout"
        }
      ]
    },
    {
      "cell_type": "code",
      "metadata": {
        "colab": {
          "base_uri": "https://localhost:8080/"
        },
        "id": "YYgZUn7d0R65",
        "outputId": "d8e20e94-a437-4f43-e5e4-ef7a723633e5"
      },
      "source": [
        "new_fleet_data = df['New Fleet'].values\r\n",
        "new_fleet_data = np.array([random.uniform(1,10) for _ in range(len(new_fleet_data[:79]))])\r\n",
        "print(new_fleet_data)"
      ],
      "execution_count": 167,
      "outputs": [
        {
          "output_type": "stream",
          "text": [
            "[2.00305664 2.05206465 6.65874101 7.88873354 8.11840011 8.94998219\n",
            " 9.64771187 6.08247523 8.38569582 4.45497118 8.71868269 5.4290507\n",
            " 6.64565038 5.45133796 4.01951293 7.31301453 3.76344229 3.5589931\n",
            " 2.53760999 4.77577835 8.13706192 9.9894     5.49018669 7.85636766\n",
            " 7.64066666 2.54990725 8.47334623 1.76354114 3.51308964 4.71631129\n",
            " 6.49362531 5.30310229 9.24575886 2.30869109 9.81922191 7.79724998\n",
            " 5.7589644  1.49696692 3.34708695 2.94938094 1.81398916 8.51603706\n",
            " 2.30969126 9.56216307 7.76861736 6.11108008 5.52726429 3.39432445\n",
            " 3.31303068 5.50320185 5.16593146 1.6324702  1.43248944 5.23683879\n",
            " 5.66091563 2.97305324 3.81079146 3.26163121 8.53523827 5.10866984\n",
            " 2.77602855 7.16076517 4.77732327 6.84134135 8.51634775 6.29100694\n",
            " 6.80175171 8.01708182 4.72844831 1.21302404 7.83938831 4.42342005\n",
            " 7.87196897 1.9945178  5.85005129 9.07492528 3.39003749 1.78478457\n",
            " 2.07771918]\n"
          ],
          "name": "stdout"
        }
      ]
    },
    {
      "cell_type": "code",
      "metadata": {
        "colab": {
          "base_uri": "https://localhost:8080/"
        },
        "id": "u67VXeZH-LXN",
        "outputId": "4480f44f-9628-4cb5-a304-cfac7d0bdb6a"
      },
      "source": [
        "mean_current_fleet = np.mean(current_fleet_data)\r\n",
        "mean_new_fleet = np.mean(new_fleet_data)\r\n",
        "print(mean_current_fleet)\r\n",
        "print(mean_new_fleet)\r\n",
        "print(mean_new_fleet -mean_current_fleet)"
      ],
      "execution_count": 168,
      "outputs": [
        {
          "output_type": "stream",
          "text": [
            "5.110363266463197\n",
            "5.432559404129989\n",
            "0.32219613766679256\n"
          ],
          "name": "stdout"
        }
      ]
    },
    {
      "cell_type": "code",
      "metadata": {
        "id": "xfZkeCtg0R89"
      },
      "source": [
        ""
      ],
      "execution_count": 169,
      "outputs": []
    },
    {
      "cell_type": "code",
      "metadata": {
        "colab": {
          "base_uri": "https://localhost:8080/"
        },
        "id": "qzAbYN9r5HiN",
        "outputId": "82abe46a-2fbd-485f-8ce2-b30b3f93dcf6"
      },
      "source": [
        "print(\"Gender bias p value =\", permutation_resampling(20000, male, female))"
      ],
      "execution_count": 135,
      "outputs": [
        {
          "output_type": "stream",
          "text": [
            "10.336434344974837\n"
          ],
          "name": "stdout"
        }
      ]
    },
    {
      "cell_type": "code",
      "metadata": {
        "id": "ovH9fFm45H1H"
      },
      "source": [
        ""
      ],
      "execution_count": 142,
      "outputs": []
    },
    {
      "cell_type": "code",
      "metadata": {
        "id": "SlFKlzrg5IF8"
      },
      "source": [
        ""
      ],
      "execution_count": 142,
      "outputs": []
    },
    {
      "cell_type": "code",
      "metadata": {
        "id": "LfgGkBpP7Iul"
      },
      "source": [
        ""
      ],
      "execution_count": 142,
      "outputs": []
    },
    {
      "cell_type": "code",
      "metadata": {
        "colab": {
          "base_uri": "https://localhost:8080/"
        },
        "id": "7zE7qm-e7JBP",
        "outputId": "0e00ccc6-2585-4a83-a232-deef020a54d9"
      },
      "source": [
        "t_perm = np.mean(pnew) - np.mean(pold)\r\n",
        "print(t_perm)"
      ],
      "execution_count": 142,
      "outputs": [
        {
          "output_type": "stream",
          "text": [
            "-1.365853658536583\n"
          ],
          "name": "stdout"
        }
      ]
    },
    {
      "cell_type": "code",
      "metadata": {
        "id": "5tdIWsbw7JOr"
      },
      "source": [
        ""
      ],
      "execution_count": null,
      "outputs": []
    },
    {
      "cell_type": "code",
      "metadata": {
        "id": "MkxvDZG4HC0n"
      },
      "source": [
        "# Create your own function for a permutation test here (you will need it for the lab quiz!):\n",
        "def permut_test(sample1, sample2, n_permutations):\n",
        "    \"\"\"\n",
        "    sample1: 1D array\n",
        "    sample2: 1D array (note that the size of the two arrays can be different)\n",
        "    n_permutations: number of permutations to calculate the p-value\n",
        "    \"\"\"\n",
        "    return pvalue"
      ],
      "execution_count": null,
      "outputs": []
    }
  ]
}