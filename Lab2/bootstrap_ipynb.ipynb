{
 "cells": [
  {
   "cell_type": "code",
   "execution_count": 1,
   "metadata": {},
   "outputs": [],
   "source": [
    "import matplotlib\n",
    "import pandas as pd\n",
    "import seaborn as sns\n",
    "import numpy as np\n",
    "import random"
   ]
  },
  {
   "cell_type": "code",
   "execution_count": 2,
   "metadata": {},
   "outputs": [
    {
     "name": "stdout",
     "output_type": "stream",
     "text": [
      "[ 2.  8. 20. 13.  5.  9. 10.  8. 22. 10.  2.  4.  7.  9.]\n"
     ]
    }
   ],
   "source": [
    "# Load the data\n",
    "df = pd.read_csv('https://raw.githubusercontent.com/albanda/CE888/master/lab2%20-%20bootstrap/customers.csv')\n",
    "customers = df.values.T[1]\n",
    "print(customers)"
   ]
  },
  {
   "cell_type": "code",
   "execution_count": 3,
   "metadata": {},
   "outputs": [],
   "source": [
    "# Checking the notes from the lecture, create here your own bootstrap function:\n",
    "# 1. Sample from the input array x to create an array of samples of shape (n_bootstraps, sample_size)\n",
    "# Hint: Check the function random.choice() on Numpy\n",
    "# 2. Calculate and save the mean of the array (this is \"data_mean\" that is returned by the function)\n",
    "# 3. Calculate the mean from each bootstrap (i.e., row) and store it.\n",
    "# (This should be an array of n_bootstraps values)\n",
    "# 4. Calculate the lower and upper bounds for a 95% CI (hint: check the percentile function on Numpy)\n",
    "# 5. Return data_mean, and the lower and upper bounds of your interval\n",
    "def bootstrap_mean(x, sample_size, n_bootstraps):\n",
    "  #Create an empty 2d list\n",
    "  boot_array = [[random.choice(x) for i in range(sample_size)] for j in range(n_bootstraps)]\n",
    "  #2. Calculate and save the mean of the array (this is \"data_mean\" that is returned by the function)\n",
    "  for each_boots in boot_array:\n",
    "    boot_mean_array = np.mean(each_boots)\n",
    "  data_mean = np.mean(boot_mean_array)\n",
    "  # 3. Calculate the mean from each bootstrap (i.e., row) and store it.\n",
    "  #Fill the list \n",
    "  #Calculate the mean of each boot straps\n",
    "\n",
    "  # 4. Calculate the lower and upper bounds for a 95% CI (hint: check the percentile function on Numpy)\n",
    "  upper = np.percentile(boot_mean_array, 100 - ((100-ci)/2), axis =0) \n",
    "  lower = np.percentile(boot_mean_array, (100-ci)/2, axis =0) \n",
    "  return data_mean, lower, upper\n",
    "\n",
    "\n",
    "\t#return data_mean, lower, upper\n",
    "#boot = bootstrap_mean(data, data.shape[0], 10)\n",
    "#print(bootstrap_mean(data, data.shape[0], 10))"
   ]
  },
  {
   "cell_type": "code",
   "execution_count": 4,
   "metadata": {},
   "outputs": [],
   "source": [
    "# Checking the notes from the lecture, create here your own bootstrap function:\n",
    "# 1. Sample from the input array x to create an array of samples of shape (n_bootstraps, sample_size)\n",
    "# Hint: Check the function random.choice() on Numpy\n",
    "# 2. Calculate and save the mean of the array (this is \"data_mean\" that is returned by the function)\n",
    "# 3. Calculate the mean from each bootstrap (i.e., row) and store it.\n",
    "# (This should be an array of n_bootstraps values)\n",
    "# 4. Calculate the lower and upper bounds for a 95% CI (hint: check the percentile function on Numpy)\n",
    "# 5. Return data_mean, and the lower and upper bounds of your interval\n",
    "def bootstrap_mean_ci(x, sample_size, n_bootstraps,ci):\n",
    "  #Create an empty 2d list\n",
    "  boot_array = [[random.choice(x) for i in range(sample_size)] for j in range(n_bootstraps)]\n",
    "  #for()\n",
    "  #2. Calculate and save the mean of the array (this is \"data_mean\" that is returned by the function)\n",
    "  boot_mean_array = []\n",
    "  for each_boots in boot_array:\n",
    "    boot_mean_array.append(np.mean(each_boots)) \n",
    "  data_mean = np.mean(boot_mean_array)\n",
    "  # 3. Calculate the mean from each bootstrap (i.e., row) and store it.\n",
    "  #Fill the list \n",
    "  #Calculate the mean of each boot straps\n",
    "\n",
    "  # 4. Calculate the lower and upper bounds for a 95% CI (hint: check the percentile function on Numpy)\n",
    "  upper = np.percentile(boot_mean_array, 100 - ((100-ci)/2), axis =0) \n",
    "  lower = np.percentile(boot_mean_array, (100-ci)/2, axis =0) \n",
    "  \n",
    "\n",
    "  return data_mean, lower, upper\n",
    "\n",
    "\n",
    "\t#return data_mean, lower, upper\n",
    "#boot = bootstrap_mean(data, data.shape[0], 10)\n",
    "#print(bootstrap_mean(data, data.shape[0], 10))"
   ]
  },
  {
   "cell_type": "code",
   "execution_count": 5,
   "metadata": {},
   "outputs": [
    {
     "data": {
      "text/plain": [
       "(9.213907142857142, 6.428571428571429, 12.357142857142858)"
      ]
     },
     "execution_count": 5,
     "metadata": {},
     "output_type": "execute_result"
    }
   ],
   "source": [
    "#df = pd.read_csv('https://raw.githubusercontent.com/albanda/CE888/master/lab2%20-%20bootstrap/customers.csv')\n",
    "#customers dataset\n",
    "bootstrap_mean_ci(customers, customers.shape[0], 10000 ,95)"
   ]
  },
  {
   "cell_type": "code",
   "execution_count": 6,
   "metadata": {},
   "outputs": [],
   "source": [
    "fleet_data = pd.read_csv('https://raw.githubusercontent.com/albanda/CE888/master/lab2%20-%20bootstrap/vehicles.csv')"
   ]
  },
  {
   "cell_type": "code",
   "execution_count": 7,
   "metadata": {},
   "outputs": [
    {
     "name": "stdout",
     "output_type": "stream",
     "text": [
      "0      18\n",
      "1      15\n",
      "2      18\n",
      "3      16\n",
      "4      17\n",
      "       ..\n",
      "244    27\n",
      "245    27\n",
      "246    32\n",
      "247    28\n",
      "248    31\n",
      "Name: Current fleet, Length: 249, dtype: int64\n"
     ]
    }
   ],
   "source": [
    "current_fleet = fleet_data['Current fleet']\n",
    "print(current_fleet)"
   ]
  },
  {
   "cell_type": "code",
   "execution_count": 8,
   "metadata": {},
   "outputs": [
    {
     "name": "stdout",
     "output_type": "stream",
     "text": [
      "[20.14 19.44 20.85]\n"
     ]
    }
   ],
   "source": [
    "result_current_fleet = bootstrap_mean_ci(current_fleet, current_fleet.shape[0], 10000  ,92)\n",
    "print(np.round(result_current_fleet,2))"
   ]
  },
  {
   "cell_type": "code",
   "execution_count": 9,
   "metadata": {},
   "outputs": [
    {
     "name": "stdout",
     "output_type": "stream",
     "text": [
      "[20.14 19.63 20.65]\n"
     ]
    }
   ],
   "source": [
    "result_current_fleet = bootstrap_mean_ci(current_fleet, current_fleet.shape[0], 10000  ,80)\n",
    "print(np.round(result_current_fleet,2))"
   ]
  },
  {
   "cell_type": "code",
   "execution_count": 10,
   "metadata": {},
   "outputs": [],
   "source": [
    "# Checking the notes from the lecture, create here your own bootstrap function:\n",
    "# 1. Sample from the input array x to create an array of samples of shape (n_bootstraps, sample_size)\n",
    "# Hint: Check the function random.choice() on Numpy\n",
    "# 2. Calculate and save the mean of the array (this is \"data_mean\" that is returned by the function)\n",
    "# 3. Calculate the mean from each bootstrap (i.e., row) and store it.\n",
    "# (This should be an array of n_bootstraps values)\n",
    "# 4. Calculate the lower and upper bounds for a 95% CI (hint: check the percentile function on Numpy)\n",
    "# 5. Return data_mean, and the lower and upper bounds of your interval\n",
    "def bootstrap_std_ci(x, sample_size, n_bootstraps,ci):\n",
    "  #Create an empty 2d list\n",
    "  boot_array = [[random.choice(x) for i in range(sample_size)] for j in range(n_bootstraps)]\n",
    "  #2. Calculate and save the mean of the array (this is \"data_mean\" that is returned by the function)\n",
    "  boot_std_array = []\n",
    "  for each_boots in boot_array:\n",
    "    boot_std_array.append(np.std(each_boots)) \n",
    "  data_std = np.mean(boot_std_array)\n",
    "  # 3. Calculate the mean from each bootstrap (i.e., row) and store it.\n",
    "  #Fill the list \n",
    "  #Calculate the mean of each boot straps\n",
    "\n",
    "  # 4. Calculate the lower and upper bounds for a 95% CI (hint: check the percentile function on Numpy)\n",
    "  upper = np.percentile(boot_std_array, 100 - ((100-ci)/2), axis =0) \n",
    "  lower = np.percentile(boot_std_array, (100-ci)/2, axis =0) \n",
    "  \n",
    "\n",
    "  return data_std, lower, upper\n",
    "\n",
    "\n",
    "\t#return data_mean, lower, upper\n",
    "#boot = bootstrap_mean(data, data.shape[0], 10)\n",
    "#print(bootstrap_mean(data, data.shape[0], 10))"
   ]
  },
  {
   "cell_type": "code",
   "execution_count": 11,
   "metadata": {},
   "outputs": [
    {
     "name": "stdout",
     "output_type": "stream",
     "text": [
      "[6.38 6.05 6.69]\n"
     ]
    }
   ],
   "source": [
    "result_std_current_fleet = bootstrap_std_ci(current_fleet, current_fleet.shape[0], 10000   ,73)\n",
    "print(np.round(result_std_current_fleet,2))"
   ]
  },
  {
   "cell_type": "code",
   "execution_count": 12,
   "metadata": {},
   "outputs": [
    {
     "name": "stdout",
     "output_type": "stream",
     "text": [
      "[5.35 3.26 6.95]\n"
     ]
    }
   ],
   "source": [
    "result_std_customers= bootstrap_std_ci(customers, customers.shape[0], 10000 ,85)\n",
    "print(np.round(result_std_customers,2))"
   ]
  },
  {
   "cell_type": "code",
   "execution_count": 13,
   "metadata": {},
   "outputs": [
    {
     "name": "stdout",
     "output_type": "stream",
     "text": [
      "0     24.0\n",
      "1     27.0\n",
      "2     27.0\n",
      "3     25.0\n",
      "4     31.0\n",
      "      ... \n",
      "74    34.0\n",
      "75    38.0\n",
      "76    32.0\n",
      "77    38.0\n",
      "78    32.0\n",
      "Name: New Fleet, Length: 79, dtype: float64\n"
     ]
    }
   ],
   "source": [
    "import math\n",
    "new_fleet = fleet_data['New Fleet']\n",
    "#delete Nan values in numpy array \n",
    "nan_array = np.isnan(new_fleet)\n",
    "not_nan_array = ~ nan_array\n",
    "filtered_new_fleet = new_fleet[not_nan_array]\n",
    "print(filtered_new_fleet)"
   ]
  },
  {
   "cell_type": "code",
   "execution_count": 14,
   "metadata": {},
   "outputs": [
    {
     "name": "stdout",
     "output_type": "stream",
     "text": [
      "[30.48 29.13 31.84]\n"
     ]
    }
   ],
   "source": [
    "result = bootstrap_mean_ci(filtered_new_fleet, filtered_new_fleet.shape[0], 10000,95)\n",
    "print(np.round(result,2))\n"
   ]
  },
  {
   "cell_type": "code",
   "execution_count": 15,
   "metadata": {},
   "outputs": [
    {
     "name": "stdout",
     "output_type": "stream",
     "text": [
      "[18. 15. 18. 16. 17. 15. 14. 14. 14. 15. 15. 14. 15. 14. 22. 18. 21. 21.\n",
      " 10. 10. 11.  9. 28. 25. 19. 16. 17. 19. 18. 14. 14. 14. 14. 12. 13. 13.\n",
      " 18. 22. 19. 18. 23. 26. 25. 20. 21. 13. 14. 15. 14. 17. 11. 13. 12. 13.\n",
      " 15. 13. 13. 14. 22. 28. 13. 14. 13. 14. 15. 12. 13. 13. 14. 13. 12. 13.\n",
      " 18. 16. 18. 18. 23. 11. 12. 13. 12. 18. 21. 19. 21. 15. 16. 15. 11. 20.\n",
      " 21. 19. 15. 26. 25. 16. 16. 18. 16. 13. 14. 14. 14. 28. 19. 18. 15. 15.\n",
      " 16. 15. 16. 14. 17. 16. 15. 18. 21. 20. 13. 23. 20. 23. 18. 19. 25. 26.\n",
      " 18. 16. 16. 15. 22. 22. 24. 23. 29. 25. 20. 18. 19. 18. 27. 13. 17. 13.\n",
      " 13. 13. 30. 26. 18. 17. 16. 15. 18. 21. 19. 19. 16. 16. 16. 16. 25. 26.\n",
      " 31. 34. 36. 20. 19. 20. 19. 21. 20. 25. 21. 19. 21. 21. 19. 18. 19. 18.\n",
      " 18. 18. 30. 31. 23. 24. 22. 20. 22. 20. 21. 17. 18. 17. 18. 17. 16. 19.\n",
      " 19. 36. 27. 23. 24. 34. 35. 28. 29. 27. 34. 32. 28. 26. 24. 19. 28. 24.\n",
      " 27. 27. 26. 24. 30. 39. 35. 34. 30. 22. 27. 20. 18. 28. 27. 34. 31. 29.\n",
      " 27. 24. 23. 38. 36. 25. 38. 26. 22. 36. 27. 27. 32. 28. 31.]\n"
     ]
    }
   ],
   "source": [
    "# <---INSERT YOUR CODE HERE--->\n",
    "fleet_data = pd.read_csv('https://raw.githubusercontent.com/albanda/CE888/master/lab2%20-%20bootstrap/vehicles.csv')\n",
    "fleet_data_values_old = fleet_data.values.T[0]\n",
    "print(fleet_data.values.T[0])"
   ]
  },
  {
   "cell_type": "code",
   "execution_count": 16,
   "metadata": {},
   "outputs": [
    {
     "name": "stdout",
     "output_type": "stream",
     "text": [
      "[24. 27. 27. 25. 31. 35. 24. 19. 28. 23. 27. 20. 22. 18. 20. 31. 32. 31.\n",
      " 32. 24. 26. 29. 24. 24. 33. 33. 32. 28. 19. 32. 34. 26. 30. 22. 22. 33.\n",
      " 39. 36. 28. 27. 21. 24. 30. 34. 32. 38. 37. 30. 31. 37. 32. 47. 41. 45.\n",
      " 34. 33. 24. 32. 39. 35. 32. 37. 38. 34. 34. 32. 33. 32. 25. 24. 37. 31.\n",
      " 36. 36. 34. 38. 32. 38. 32.]\n"
     ]
    }
   ],
   "source": [
    "fleet_data_values_new = fleet_data.values.T[1]\n",
    "#delete Nan values in numpy array \n",
    "nan_array = np.isnan(fleet_data_values_new)\n",
    "not_nan_array = ~ nan_array\n",
    "fleet_data_values_new = fleet_data_values_new[not_nan_array]\n",
    "print(fleet_data_values_new)"
   ]
  },
  {
   "cell_type": "code",
   "execution_count": 17,
   "metadata": {},
   "outputs": [
    {
     "name": "stdout",
     "output_type": "stream",
     "text": [
      "Old data mean :  20.14457831325301 , new data mean:  30.481012658227847\n",
      "new data mean - old data mean =  10.336\n"
     ]
    }
   ],
   "source": [
    "mean_fleet_data_old = np.mean(fleet_data_values_old)\n",
    "mean_fleet_data_new = np.mean(fleet_data_values_new)\n",
    "print(\"Old data mean : \",  mean_fleet_data_old, \", new data mean: \", mean_fleet_data_new)\n",
    "t_fleet_obs = np.round(mean_fleet_data_new - mean_fleet_data_old,3)\n",
    "print(\"new data mean - old data mean = \", t_fleet_obs)"
   ]
  },
  {
   "cell_type": "code",
   "execution_count": 18,
   "metadata": {},
   "outputs": [],
   "source": [
    "concat = np.concatenate((fleet_data_values_old,fleet_data_values_new))"
   ]
  },
  {
   "cell_type": "code",
   "execution_count": 19,
   "metadata": {},
   "outputs": [],
   "source": [
    "def permutation_vehicle(permutation_amount,concat):\n",
    "    i = 0\n",
    "    for vals in range(0,permutation_amount):\n",
    "        perm = np.random.permutation(concat)\n",
    "        pold = perm[:int(len(perm)/2)]\n",
    "        pnew = perm[int(len(perm)/2):]\n",
    "        t_perm = np.mean(pnew) - np.mean(pold)\n",
    "        if t_perm > t_fleet_obs:\n",
    "            i = i + 1\n",
    "    return i"
   ]
  },
  {
   "cell_type": "code",
   "execution_count": 20,
   "metadata": {},
   "outputs": [
    {
     "name": "stdout",
     "output_type": "stream",
     "text": [
      "0\n"
     ]
    }
   ],
   "source": [
    "print(permutation_vehicle(30000,concat))"
   ]
  },
  {
   "cell_type": "code",
   "execution_count": 21,
   "metadata": {},
   "outputs": [],
   "source": [
    "# The variables below represent the percentages of democratic votes in Pennsylvania and Ohio (one value for each state).\n",
    "dem_share_PA = [60.08, 40.64, 36.07, 41.21, 31.04, 43.78, 44.08, 46.85, 44.71, 46.15, 63.10, 52.20, 43.18, 40.24, 39.92, 47.87, 37.77, 40.11, 49.85, 48.61, 38.62, 54.25, 34.84, 47.75, 43.82, 55.97, 58.23, 42.97, 42.38, 36.11, 37.53, 42.65, 50.96, 47.43, 56.24, 45.60, 46.39, 35.22, 48.56, 32.97, 57.88, 36.05, 37.72, 50.36, 32.12, 41.55, 54.66, 57.81, 54.58, 32.88, 54.37, 40.45, 47.61, 60.49, 43.11, 27.32, 44.03, 33.56, 37.26, 54.64, 43.12, 25.34, 49.79, 83.56, 40.09, 60.81, 49.81]\n",
    "dem_share_OH = [56.94, 50.46, 65.99, 45.88, 42.23, 45.26, 57.01, 53.61, 59.10, 61.48, 43.43, 44.69, 54.59, 48.36, 45.89, 48.62, 43.92, 38.23, 28.79, 63.57, 38.07, 40.18, 43.05, 41.56, 42.49, 36.06, 52.76, 46.07, 39.43, 39.26, 47.47, 27.92, 38.01, 45.45, 29.07, 28.94, 51.28, 50.10, 39.84, 36.43, 35.71, 31.47, 47.01, 40.10, 48.76, 31.56, 39.86, 45.31, 35.47, 51.38, 46.33, 48.73, 41.77, 41.32, 48.46, 53.14, 34.01, 54.74, 40.67, 38.96, 46.29, 38.25, 6.80, 31.75, 46.33, 44.90, 33.57, 38.10, 39.67, 40.47, 49.44, 37.62, 36.71, 46.73, 42.20, 53.16, 52.40, 58.36, 68.02, 38.53, 34.58, 69.64, 60.50, 53.53, 36.54, 49.58, 41.97, 38.11]"
   ]
  },
  {
   "cell_type": "code",
   "execution_count": 22,
   "metadata": {},
   "outputs": [
    {
     "name": "stdout",
     "output_type": "stream",
     "text": [
      "[60.08, 40.64, 36.07, 41.21, 31.04, 43.78, 44.08, 46.85, 44.71, 46.15, 63.1, 52.2, 43.18, 40.24, 39.92, 47.87, 37.77, 40.11, 49.85, 48.61, 38.62, 54.25, 34.84, 47.75, 43.82, 55.97, 58.23, 42.97, 42.38, 36.11, 37.53, 42.65, 50.96, 47.43, 56.24, 45.6, 46.39, 35.22, 48.56, 32.97, 57.88, 36.05, 37.72, 50.36, 32.12, 41.55, 54.66, 57.81, 54.58, 32.88, 54.37, 40.45, 47.61, 60.49, 43.11, 27.32, 44.03, 33.56, 37.26, 54.64, 43.12, 25.34, 49.79, 83.56, 40.09, 60.81, 49.81]\n"
     ]
    }
   ],
   "source": [
    "print(dem_share_PA)"
   ]
  },
  {
   "cell_type": "code",
   "execution_count": 23,
   "metadata": {},
   "outputs": [
    {
     "name": "stdout",
     "output_type": "stream",
     "text": [
      "[56.94, 50.46, 65.99, 45.88, 42.23, 45.26, 57.01, 53.61, 59.1, 61.48, 43.43, 44.69, 54.59, 48.36, 45.89, 48.62, 43.92, 38.23, 28.79, 63.57, 38.07, 40.18, 43.05, 41.56, 42.49, 36.06, 52.76, 46.07, 39.43, 39.26, 47.47, 27.92, 38.01, 45.45, 29.07, 28.94, 51.28, 50.1, 39.84, 36.43, 35.71, 31.47, 47.01, 40.1, 48.76, 31.56, 39.86, 45.31, 35.47, 51.38, 46.33, 48.73, 41.77, 41.32, 48.46, 53.14, 34.01, 54.74, 40.67, 38.96, 46.29, 38.25, 6.8, 31.75, 46.33, 44.9, 33.57, 38.1, 39.67, 40.47, 49.44, 37.62, 36.71, 46.73, 42.2, 53.16, 52.4, 58.36, 68.02, 38.53, 34.58, 69.64, 60.5, 53.53, 36.54, 49.58, 41.97, 38.11]\n"
     ]
    }
   ],
   "source": [
    "print(dem_share_OH)"
   ]
  },
  {
   "cell_type": "code",
   "execution_count": 24,
   "metadata": {},
   "outputs": [
    {
     "name": "stdout",
     "output_type": "stream",
     "text": [
      "Amount of values in PA votes array:  67\n",
      "Amount of values in OH votes array:  88\n"
     ]
    }
   ],
   "source": [
    "print(\"Amount of values in PA votes array: \" , len(dem_share_PA))\n",
    "print(\"Amount of values in OH votes array: \" , len(dem_share_OH))"
   ]
  },
  {
   "cell_type": "code",
   "execution_count": 25,
   "metadata": {},
   "outputs": [
    {
     "data": {
      "text/plain": [
       "array([44.32, 42.62, 46.06])"
      ]
     },
     "execution_count": 25,
     "metadata": {},
     "output_type": "execute_result"
    }
   ],
   "source": [
    "np.round(bootstrap_mean_ci(dem_share_OH, len(dem_share_OH), 25000  ,90),2)"
   ]
  },
  {
   "cell_type": "code",
   "execution_count": 26,
   "metadata": {},
   "outputs": [
    {
     "data": {
      "text/plain": [
       "array([45.48, 43.56, 47.49])"
      ]
     },
     "execution_count": 26,
     "metadata": {},
     "output_type": "execute_result"
    }
   ],
   "source": [
    "np.round(bootstrap_mean_ci(dem_share_PA, len(dem_share_PA), 25000  ,90),2)"
   ]
  },
  {
   "cell_type": "code",
   "execution_count": 27,
   "metadata": {},
   "outputs": [
    {
     "name": "stdout",
     "output_type": "stream",
     "text": [
      "Ohio data mean :  44.31818181818182 , Pennsylvania mean:  45.476417910447765\n",
      "new data mean - old data mean =  1.158\n"
     ]
    }
   ],
   "source": [
    "mean_hare_OH = np.mean(dem_share_OH)\n",
    "mean_hare_PA = np.mean(dem_share_PA)\n",
    "print(\"Ohio data mean : \",  mean_hare_OH, \", Pennsylvania mean: \", mean_hare_PA)\n",
    "t_fleet_obs = np.round(mean_hare_OH - mean_hare_PA,3)\n",
    "if(t_fleet_obs < -1):\n",
    "    t_fleet_obs *= -1\n",
    "    \n",
    "print(\"new data mean - old data mean = \", t_fleet_obs)\n",
    "concat = np.concatenate((dem_share_OH,dem_share_PA))"
   ]
  },
  {
   "cell_type": "code",
   "execution_count": 28,
   "metadata": {},
   "outputs": [],
   "source": [
    "def permutation_vehicle(permutation_amount,concat):\n",
    "    i = 0\n",
    "    for vals in range(0,permutation_amount):\n",
    "        perm = np.random.permutation(concat)\n",
    "        pold = perm[:int(len(perm)/2)]\n",
    "        pnew = perm[int(len(perm)/2):]\n",
    "        t_perm = np.mean(pnew) - np.mean(pold)\n",
    "        if t_perm > t_fleet_obs:\n",
    "            i = i + 1\n",
    "    return i"
   ]
  },
  {
   "cell_type": "code",
   "execution_count": 29,
   "metadata": {},
   "outputs": [
    {
     "name": "stdout",
     "output_type": "stream",
     "text": [
      "0.23\n"
     ]
    }
   ],
   "source": [
    "print(np.round(permutation_vehicle(20000 ,concat)/20000,2))"
   ]
  },
  {
   "cell_type": "code",
   "execution_count": null,
   "metadata": {},
   "outputs": [],
   "source": []
  }
 ],
 "metadata": {
  "kernelspec": {
   "display_name": "Python 3",
   "language": "python",
   "name": "python3"
  },
  "language_info": {
   "codemirror_mode": {
    "name": "ipython",
    "version": 3
   },
   "file_extension": ".py",
   "mimetype": "text/x-python",
   "name": "python",
   "nbconvert_exporter": "python",
   "pygments_lexer": "ipython3",
   "version": "3.7.6"
  }
 },
 "nbformat": 4,
 "nbformat_minor": 4
}
