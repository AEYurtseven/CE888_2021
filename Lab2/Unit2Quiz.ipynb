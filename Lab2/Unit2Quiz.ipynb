{
 "cells": [
  {
   "cell_type": "code",
   "execution_count": 1,
   "metadata": {},
   "outputs": [],
   "source": [
    "import matplotlib\n",
    "import pandas as pd\n",
    "import seaborn as sns\n",
    "import numpy as np\n",
    "import random\n"
   ]
  },
  {
   "cell_type": "code",
   "execution_count": 29,
   "metadata": {},
   "outputs": [
    {
     "name": "stdout",
     "output_type": "stream",
     "text": [
      "[ 2.  8. 20. 13.  5.  9. 10.  8. 22. 10.  2.  4.  7.  9.]\n"
     ]
    }
   ],
   "source": [
    "# Load the data\n",
    "df = pd.read_csv('https://raw.githubusercontent.com/albanda/CE888/master/lab2%20-%20bootstrap/customers.csv')\n",
    "data = df.values.T[1]\n",
    "print(data)"
   ]
  },
  {
   "cell_type": "code",
   "execution_count": 30,
   "metadata": {},
   "outputs": [],
   "source": [
    "# Checking the notes from the lecture, create here your own bootstrap function:\n",
    "# 1. Sample from the input array x to create an array of samples of shape (n_bootstraps, sample_size)\n",
    "# Hint: Check the function random.choice() on Numpy\n",
    "# 2. Calculate and save the mean of the array (this is \"data_mean\" that is returned by the function)\n",
    "# 3. Calculate the mean from each bootstrap (i.e., row) and store it.\n",
    "# (This should be an array of n_bootstraps values)\n",
    "# 4. Calculate the lower and upper bounds for a 95% CI (hint: check the percentile function on Numpy)\n",
    "# 5. Return data_mean, and the lower and upper bounds of your interval\n",
    "def bootstrap_mean(x, sample_size, n_bootstraps):\n",
    "  #Create an empty 2d list\n",
    "  boot_array = [[random.choice(x) for i in range(sample_size)] for j in range(n_bootstraps)]\n",
    "  #2. Calculate and save the mean of the array (this is \"data_mean\" that is returned by the function)\n",
    "  data_mean = np.mean(x)\n",
    "  # 3. Calculate the mean from each bootstrap (i.e., row) and store it.\n",
    "  #Fill the list \n",
    "  boot_mean = np.mean(x)\n",
    "  #Calculate the mean of each boot straps\n",
    "  bootstrap_mean = []\n",
    "  for each_bootstraps in boot_array:\n",
    "      bootstrap_mean.append(np.mean(each_bootstraps))\n",
    "\n",
    "  # 4. Calculate the lower and upper bounds for a 95% CI (hint: check the percentile function on Numpy)\n",
    "  upper = np.percentile(bootstrap_mean, 95, axis =0) \n",
    "  lower = np.percentile(bootstrap_mean, 5, axis =0) \n",
    "  return data_mean, lower, upper\n",
    "\n",
    "\n",
    "\t#return data_mean, lower, upper\n",
    "#boot = bootstrap_mean(data, data.shape[0], 10)\n",
    "#print(bootstrap_mean(data, data.shape[0], 10))"
   ]
  },
  {
   "cell_type": "code",
   "execution_count": 31,
   "metadata": {},
   "outputs": [],
   "source": [
    "def bootstrap_mean_ci(sample, sample_size, n_bootstraps, ci):\n",
    "\t#Create an empty 2d list\n",
    "  boot_array = [[random.choice(sample) for i in range(sample_size)] for j in range(n_bootstraps)]\n",
    "  #2. Calculate and save the mean of the array (this is \"data_mean\" that is returned by the function)\n",
    "  data_mean = np.mean(sample)\n",
    "  # 3. Calculate the mean from each bootstrap (i.e., row) and store it.\n",
    "  #Fill the list \n",
    "  boot_mean = np.mean(sample)\n",
    "  #Calculate the mean of each boot straps\n",
    "  bootstrap_mean = []\n",
    "  for each_bootstraps in boot_array:\n",
    "      bootstrap_mean.append(np.mean(each_bootstraps))\n",
    "\n",
    "  # 4. Calculate the lower and upper bounds for a 95% CI (hint: check the percentile function on Numpy)\n",
    "  upper = np.percentile(bootstrap_mean, ci, axis =0) \n",
    "  lower = np.percentile(bootstrap_mean, 100 - ci, axis =0) \n",
    "  return data_mean, lower, upper\n",
    "\t#return data_mean,lower,upper\n",
    "\n"
   ]
  },
  {
   "cell_type": "code",
   "execution_count": 32,
   "metadata": {},
   "outputs": [
    {
     "data": {
      "text/plain": [
       "(9.214285714285714, 6.857142857142857, 11.785714285714286)"
      ]
     },
     "execution_count": 32,
     "metadata": {},
     "output_type": "execute_result"
    }
   ],
   "source": [
    "#df = pd.read_csv('https://raw.githubusercontent.com/albanda/CE888/master/lab2%20-%20bootstrap/customers.csv')\n",
    "#customers dataset\n",
    "bootstrap_mean_ci(data, data.shape[0], 10000 ,95)"
   ]
  },
  {
   "cell_type": "code",
   "execution_count": 33,
   "metadata": {},
   "outputs": [],
   "source": [
    "fleet_data = pd.read_csv('https://raw.githubusercontent.com/albanda/CE888/master/lab2%20-%20bootstrap/vehicles.csv')"
   ]
  },
  {
   "cell_type": "code",
   "execution_count": 34,
   "metadata": {},
   "outputs": [
    {
     "name": "stdout",
     "output_type": "stream",
     "text": [
      "     Current fleet  New Fleet\n",
      "0               18       24.0\n",
      "1               15       27.0\n",
      "2               18       27.0\n",
      "3               16       25.0\n",
      "4               17       31.0\n",
      "..             ...        ...\n",
      "244             27        NaN\n",
      "245             27        NaN\n",
      "246             32        NaN\n",
      "247             28        NaN\n",
      "248             31        NaN\n",
      "\n",
      "[249 rows x 2 columns]\n"
     ]
    }
   ],
   "source": [
    "print(fleet_data)"
   ]
  },
  {
   "cell_type": "code",
   "execution_count": 38,
   "metadata": {},
   "outputs": [
    {
     "name": "stdout",
     "output_type": "stream",
     "text": [
      "0     24.0\n",
      "1     27.0\n",
      "2     27.0\n",
      "3     25.0\n",
      "4     31.0\n",
      "      ... \n",
      "74    34.0\n",
      "75    38.0\n",
      "76    32.0\n",
      "77    38.0\n",
      "78    32.0\n",
      "Name: New Fleet, Length: 79, dtype: float64\n"
     ]
    }
   ],
   "source": [
    "new_fleet = fleet_data['New Fleet']\n",
    "new_fleet = new_fleet[:79]\n",
    "print(new_fleet)"
   ]
  },
  {
   "cell_type": "code",
   "execution_count": 39,
   "metadata": {},
   "outputs": [
    {
     "data": {
      "text/plain": [
       "(30.481012658227847, 27.785714285714285, 33.07142857142857)"
      ]
     },
     "execution_count": 39,
     "metadata": {},
     "output_type": "execute_result"
    }
   ],
   "source": [
    "bootstrap_mean_ci(new_fleet, data.shape[0], 10000,95)"
   ]
  },
  {
   "cell_type": "code",
   "execution_count": 40,
   "metadata": {},
   "outputs": [],
   "source": [
    "def bootstrap_std_ci(sample, sample_size, n_bootstraps, ci):\n",
    "\t#Create an empty 2d list\n",
    "  boot_array = [[random.choice(sample) for i in range(sample_size)] for j in range(n_bootstraps)]\n",
    "  #2. Calculate and save the mean of the array (this is \"data_mean\" that is returned by the function)\n",
    "  data_mean = np.std(sample)\n",
    "  # 3. Calculate the mean from each bootstrap (i.e., row) and store it.\n",
    "  #Fill the list \n",
    "  #Calculate the mean of each boot straps\n",
    "  bootstrap_mean = []\n",
    "  for each_bootstraps in boot_array:\n",
    "      bootstrap_mean.append(np.std(each_bootstraps))\n",
    "\n",
    "  # 4. Calculate the lower and upper bounds for a 95% CI (hint: check the percentile function on Numpy)\n",
    "  upper = np.percentile(bootstrap_mean, ci, axis =0) \n",
    "  lower = np.percentile(bootstrap_mean, 100 - ci, axis =0) \n",
    "  return data_mean, lower, upper\n",
    "\t#return data_mean,lower,upper\n",
    "\n"
   ]
  },
  {
   "cell_type": "code",
   "execution_count": 42,
   "metadata": {},
   "outputs": [
    {
     "name": "stdout",
     "output_type": "stream",
     "text": [
      "[ 2.  8. 20. 13.  5.  9. 10.  8. 22. 10.  2.  4.  7.  9.]\n"
     ]
    },
    {
     "data": {
      "text/plain": [
       "(6.401805462179708, 3.9974481656094922, 8.046104393951605)"
      ]
     },
     "execution_count": 42,
     "metadata": {},
     "output_type": "execute_result"
    }
   ],
   "source": [
    "#Customer\n",
    "customer = data\n",
    "print(data)\n",
    "bootstrap_std_ci(old_fleet, data.shape[0], 10000,95)"
   ]
  },
  {
   "cell_type": "code",
   "execution_count": 43,
   "metadata": {},
   "outputs": [
    {
     "name": "stdout",
     "output_type": "stream",
     "text": [
      "0     24.0\n",
      "1     27.0\n",
      "2     27.0\n",
      "3     25.0\n",
      "4     31.0\n",
      "      ... \n",
      "74    34.0\n",
      "75    38.0\n",
      "76    32.0\n",
      "77    38.0\n",
      "78    32.0\n",
      "Name: New Fleet, Length: 79, dtype: float64\n"
     ]
    }
   ],
   "source": [
    "new_fleet = fleet_data['New Fleet']\n",
    "new_fleet = new_fleet[:79]\n",
    "print(new_fleet)"
   ]
  },
  {
   "cell_type": "code",
   "execution_count": 44,
   "metadata": {},
   "outputs": [
    {
     "data": {
      "text/plain": [
       "(6.068930545150859, 4.06816908461175, 7.601020339670302)"
      ]
     },
     "execution_count": 44,
     "metadata": {},
     "output_type": "execute_result"
    }
   ],
   "source": [
    "bootstrap_std_ci(new_fleet, data.shape[0], 10000,95)"
   ]
  },
  {
   "cell_type": "code",
   "execution_count": null,
   "metadata": {},
   "outputs": [],
   "source": []
  },
  {
   "cell_type": "code",
   "execution_count": null,
   "metadata": {},
   "outputs": [],
   "source": []
  },
  {
   "cell_type": "code",
   "execution_count": null,
   "metadata": {},
   "outputs": [],
   "source": []
  }
 ],
 "metadata": {
  "kernelspec": {
   "display_name": "Python 3",
   "language": "python",
   "name": "python3"
  },
  "language_info": {
   "codemirror_mode": {
    "name": "ipython",
    "version": 3
   },
   "file_extension": ".py",
   "mimetype": "text/x-python",
   "name": "python",
   "nbconvert_exporter": "python",
   "pygments_lexer": "ipython3",
   "version": "3.7.6"
  }
 },
 "nbformat": 4,
 "nbformat_minor": 4
}
