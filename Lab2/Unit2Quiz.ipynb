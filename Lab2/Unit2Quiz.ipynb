{
 "cells": [
  {
   "cell_type": "code",
   "execution_count": 75,
   "metadata": {},
   "outputs": [],
   "source": [
    "import matplotlib\n",
    "import pandas as pd\n",
    "import seaborn as sns\n",
    "import numpy as np\n",
    "import random\n"
   ]
  },
  {
   "cell_type": "code",
   "execution_count": 76,
   "metadata": {},
   "outputs": [
    {
     "name": "stdout",
     "output_type": "stream",
     "text": [
      "[ 2.  8. 20. 13.  5.  9. 10.  8. 22. 10.  2.  4.  7.  9.]\n"
     ]
    }
   ],
   "source": [
    "# Load the data\n",
    "df = pd.read_csv('https://raw.githubusercontent.com/albanda/CE888/master/lab2%20-%20bootstrap/customers.csv')\n",
    "customers = df.values.T[1]\n",
    "print(customers)"
   ]
  },
  {
   "cell_type": "code",
   "execution_count": 77,
   "metadata": {},
   "outputs": [],
   "source": [
    "# Checking the notes from the lecture, create here your own bootstrap function:\n",
    "# 1. Sample from the input array x to create an array of samples of shape (n_bootstraps, sample_size)\n",
    "# Hint: Check the function random.choice() on Numpy\n",
    "# 2. Calculate and save the mean of the array (this is \"data_mean\" that is returned by the function)\n",
    "# 3. Calculate the mean from each bootstrap (i.e., row) and store it.\n",
    "# (This should be an array of n_bootstraps values)\n",
    "# 4. Calculate the lower and upper bounds for a 95% CI (hint: check the percentile function on Numpy)\n",
    "# 5. Return data_mean, and the lower and upper bounds of your interval\n",
    "def bootstrap_mean(x, sample_size, n_bootstraps):\n",
    "  #Create an empty 2d list\n",
    "  boot_array = [[random.choice(x) for i in range(sample_size)] for j in range(n_bootstraps)]\n",
    "  #2. Calculate and save the mean of the array (this is \"data_mean\" that is returned by the function)\n",
    "  for each_boots in boot_array:\n",
    "    boot_mean_array = np.mean(each_boots)\n",
    "  data_mean = np.mean(boot_mean_array)\n",
    "  # 3. Calculate the mean from each bootstrap (i.e., row) and store it.\n",
    "  #Fill the list \n",
    "  #Calculate the mean of each boot straps\n",
    "\n",
    "  # 4. Calculate the lower and upper bounds for a 95% CI (hint: check the percentile function on Numpy)\n",
    "  upper = np.percentile(boot_mean_array, 100 - ((100-ci)/2), axis =0) \n",
    "  lower = np.percentile(boot_mean_array, (100-ci)/2, axis =0) \n",
    "  return data_mean, lower, upper\n",
    "\n",
    "\n",
    "\t#return data_mean, lower, upper\n",
    "#boot = bootstrap_mean(data, data.shape[0], 10)\n",
    "#print(bootstrap_mean(data, data.shape[0], 10))"
   ]
  },
  {
   "cell_type": "code",
   "execution_count": 78,
   "metadata": {},
   "outputs": [],
   "source": [
    "# Checking the notes from the lecture, create here your own bootstrap function:\n",
    "# 1. Sample from the input array x to create an array of samples of shape (n_bootstraps, sample_size)\n",
    "# Hint: Check the function random.choice() on Numpy\n",
    "# 2. Calculate and save the mean of the array (this is \"data_mean\" that is returned by the function)\n",
    "# 3. Calculate the mean from each bootstrap (i.e., row) and store it.\n",
    "# (This should be an array of n_bootstraps values)\n",
    "# 4. Calculate the lower and upper bounds for a 95% CI (hint: check the percentile function on Numpy)\n",
    "# 5. Return data_mean, and the lower and upper bounds of your interval\n",
    "def bootstrap_mean_ci(x, sample_size, n_bootstraps,ci):\n",
    "  #Create an empty 2d list\n",
    "  boot_array = [[random.choice(x) for i in range(sample_size)] for j in range(n_bootstraps)]\n",
    "  #2. Calculate and save the mean of the array (this is \"data_mean\" that is returned by the function)\n",
    "  boot_mean_array = []\n",
    "  for each_boots in boot_array:\n",
    "    boot_mean_array.append(np.mean(each_boots)) \n",
    "  data_mean = np.mean(boot_mean_array)\n",
    "  # 3. Calculate the mean from each bootstrap (i.e., row) and store it.\n",
    "  #Fill the list \n",
    "  #Calculate the mean of each boot straps\n",
    "\n",
    "  # 4. Calculate the lower and upper bounds for a 95% CI (hint: check the percentile function on Numpy)\n",
    "  upper = np.percentile(boot_mean_array, 100 - ((100-ci)/2), axis =0) \n",
    "  lower = np.percentile(boot_mean_array, (100-ci)/2, axis =0) \n",
    "  \n",
    "\n",
    "  return data_mean, lower, upper\n",
    "\n",
    "\n",
    "\t#return data_mean, lower, upper\n",
    "#boot = bootstrap_mean(data, data.shape[0], 10)\n",
    "#print(bootstrap_mean(data, data.shape[0], 10))"
   ]
  },
  {
   "cell_type": "code",
   "execution_count": 79,
   "metadata": {},
   "outputs": [
    {
     "data": {
      "text/plain": [
       "(9.199535714285716, 7.285714285714286, 11.142857142857142)"
      ]
     },
     "execution_count": 79,
     "metadata": {},
     "output_type": "execute_result"
    }
   ],
   "source": [
    "#df = pd.read_csv('https://raw.githubusercontent.com/albanda/CE888/master/lab2%20-%20bootstrap/customers.csv')\n",
    "#customers dataset\n",
    "bootstrap_mean_ci(customers, customers.shape[0], 10000 ,80)"
   ]
  },
  {
   "cell_type": "code",
   "execution_count": 80,
   "metadata": {},
   "outputs": [],
   "source": [
    "fleet_data = pd.read_csv('https://raw.githubusercontent.com/albanda/CE888/master/lab2%20-%20bootstrap/vehicles.csv')"
   ]
  },
  {
   "cell_type": "code",
   "execution_count": 58,
   "metadata": {},
   "outputs": [
    {
     "name": "stdout",
     "output_type": "stream",
     "text": [
      "     Current fleet  New Fleet\n",
      "0               18       24.0\n",
      "1               15       27.0\n",
      "2               18       27.0\n",
      "3               16       25.0\n",
      "4               17       31.0\n",
      "..             ...        ...\n",
      "244             27        NaN\n",
      "245             27        NaN\n",
      "246             32        NaN\n",
      "247             28        NaN\n",
      "248             31        NaN\n",
      "\n",
      "[249 rows x 2 columns]\n"
     ]
    }
   ],
   "source": [
    "print(fleet_data)"
   ]
  },
  {
   "cell_type": "code",
   "execution_count": 81,
   "metadata": {},
   "outputs": [
    {
     "name": "stdout",
     "output_type": "stream",
     "text": [
      "0     24.0\n",
      "1     27.0\n",
      "2     27.0\n",
      "3     25.0\n",
      "4     31.0\n",
      "      ... \n",
      "74    34.0\n",
      "75    38.0\n",
      "76    32.0\n",
      "77    38.0\n",
      "78    32.0\n",
      "Name: New Fleet, Length: 79, dtype: float64\n"
     ]
    }
   ],
   "source": [
    "new_fleet = fleet_data['New Fleet']\n",
    "new_fleet = new_fleet[:79]\n",
    "print(new_fleet)"
   ]
  },
  {
   "cell_type": "code",
   "execution_count": 82,
   "metadata": {},
   "outputs": [
    {
     "data": {
      "text/plain": [
       "(30.47125714285714, 28.428571428571423, 32.57142857142857)"
      ]
     },
     "execution_count": 82,
     "metadata": {},
     "output_type": "execute_result"
    }
   ],
   "source": [
    "bootstrap_mean_ci(new_fleet, data.shape[0], 10000 ,80)"
   ]
  },
  {
   "cell_type": "code",
   "execution_count": 72,
   "metadata": {},
   "outputs": [
    {
     "name": "stdout",
     "output_type": "stream",
     "text": [
      "0      18\n",
      "1      15\n",
      "2      18\n",
      "3      16\n",
      "4      17\n",
      "       ..\n",
      "244    27\n",
      "245    27\n",
      "246    32\n",
      "247    28\n",
      "248    31\n",
      "Name: Current fleet, Length: 249, dtype: int64\n"
     ]
    }
   ],
   "source": [
    "current_fleet = fleet_data['Current fleet']\n",
    "print(current_fleet)"
   ]
  },
  {
   "cell_type": "code",
   "execution_count": 61,
   "metadata": {},
   "outputs": [
    {
     "data": {
      "text/plain": [
       "(20.15123734939759, 19.570281124497992, 20.73895582329317)"
      ]
     },
     "execution_count": 61,
     "metadata": {},
     "output_type": "execute_result"
    }
   ],
   "source": [
    "bootstrap_mean_ci(current_fleet, current_fleet.shape[0], 10000  ,85)"
   ]
  },
  {
   "cell_type": "code",
   "execution_count": 43,
   "metadata": {},
   "outputs": [
    {
     "name": "stdout",
     "output_type": "stream",
     "text": [
      "0     24.0\n",
      "1     27.0\n",
      "2     27.0\n",
      "3     25.0\n",
      "4     31.0\n",
      "      ... \n",
      "74    34.0\n",
      "75    38.0\n",
      "76    32.0\n",
      "77    38.0\n",
      "78    32.0\n",
      "Name: New Fleet, Length: 79, dtype: float64\n"
     ]
    }
   ],
   "source": [
    "new_fleet = fleet_data['New Fleet']\n",
    "new_fleet = new_fleet[:79]\n",
    "print(new_fleet)"
   ]
  },
  {
   "cell_type": "code",
   "execution_count": 44,
   "metadata": {},
   "outputs": [
    {
     "data": {
      "text/plain": [
       "(6.068930545150859, 4.06816908461175, 7.601020339670302)"
      ]
     },
     "execution_count": 44,
     "metadata": {},
     "output_type": "execute_result"
    }
   ],
   "source": [
    "bootstrap_std_ci(new_fleet, data.shape[0], 10000,95)"
   ]
  },
  {
   "cell_type": "code",
   "execution_count": 70,
   "metadata": {},
   "outputs": [],
   "source": [
    "# Checking the notes from the lecture, create here your own bootstrap function:\n",
    "# 1. Sample from the input array x to create an array of samples of shape (n_bootstraps, sample_size)\n",
    "# Hint: Check the function random.choice() on Numpy\n",
    "# 2. Calculate and save the mean of the array (this is \"data_mean\" that is returned by the function)\n",
    "# 3. Calculate the mean from each bootstrap (i.e., row) and store it.\n",
    "# (This should be an array of n_bootstraps values)\n",
    "# 4. Calculate the lower and upper bounds for a 95% CI (hint: check the percentile function on Numpy)\n",
    "# 5. Return data_mean, and the lower and upper bounds of your interval\n",
    "def bootstrap_std_ci(x, sample_size, n_bootstraps,ci):\n",
    "  #Create an empty 2d list\n",
    "  boot_array = [[random.choice(x) for i in range(sample_size)] for j in range(n_bootstraps)]\n",
    "  #2. Calculate and save the mean of the array (this is \"data_mean\" that is returned by the function)\n",
    "  boot_mean_array = []\n",
    "  for each_boots in boot_array:\n",
    "    boot_mean_array.append(np.std(each_boots)) \n",
    "  data_std = np.std(boot_mean_array)\n",
    "  # 3. Calculate the mean from each bootstrap (i.e., row) and store it.\n",
    "  #Fill the list \n",
    "  #Calculate the mean of each boot straps\n",
    "\n",
    "  # 4. Calculate the lower and upper bounds for a 95% CI (hint: check the percentile function on Numpy)\n",
    "  upper = np.percentile(boot_mean_array, 100 - ((100-ci)/2), axis =0) \n",
    "  lower = np.percentile(boot_mean_array, (100-ci)/2, axis =0) \n",
    "  \n",
    "\n",
    "  return data_std, lower, upper\n",
    "\n",
    "\n",
    "\t#return data_mean, lower, upper\n",
    "#boot = bootstrap_mean(data, data.shape[0], 10)\n",
    "#print(bootstrap_mean(data, data.shape[0], 10))"
   ]
  },
  {
   "cell_type": "code",
   "execution_count": 84,
   "metadata": {},
   "outputs": [
    {
     "data": {
      "text/plain": [
       "(1.2041703998601085, 3.0110341297654277, 7.099870651308101)"
      ]
     },
     "execution_count": 84,
     "metadata": {},
     "output_type": "execute_result"
    }
   ],
   "source": [
    "bootstrap_std_ci(customers, customers.shape[0], 10000 ,90)"
   ]
  },
  {
   "cell_type": "code",
   "execution_count": 83,
   "metadata": {},
   "outputs": [
    {
     "data": {
      "text/plain": [
       "(0.2897033911672902, 5.804528135756864, 6.948531192475184)"
      ]
     },
     "execution_count": 83,
     "metadata": {},
     "output_type": "execute_result"
    }
   ],
   "source": [
    "bootstrap_std_ci(current_fleet, current_fleet.shape[0], 10000 ,95)"
   ]
  },
  {
   "cell_type": "code",
   "execution_count": null,
   "metadata": {},
   "outputs": [],
   "source": []
  }
 ],
 "metadata": {
  "kernelspec": {
   "display_name": "Python 3",
   "language": "python",
   "name": "python3"
  },
  "language_info": {
   "codemirror_mode": {
    "name": "ipython",
    "version": 3
   },
   "file_extension": ".py",
   "mimetype": "text/x-python",
   "name": "python",
   "nbconvert_exporter": "python",
   "pygments_lexer": "ipython3",
   "version": "3.7.6"
  }
 },
 "nbformat": 4,
 "nbformat_minor": 4
}
