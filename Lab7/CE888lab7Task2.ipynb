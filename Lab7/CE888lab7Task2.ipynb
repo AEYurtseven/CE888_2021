{
  "nbformat": 4,
  "nbformat_minor": 0,
  "metadata": {
    "colab": {
      "name": "CE888lab7Task2.ipynb",
      "provenance": [],
      "collapsed_sections": []
    },
    "kernelspec": {
      "name": "python3",
      "display_name": "Python 3"
    }
  },
  "cells": [
    {
      "cell_type": "code",
      "metadata": {
        "id": "8no9QXb6zwTj"
      },
      "source": [
        "#Dogs vs. Cats\n",
        "import os\n",
        "from google.colab import drive\n"
      ],
      "execution_count": null,
      "outputs": []
    },
    {
      "cell_type": "code",
      "metadata": {
        "id": "TjvZaP0414gn",
        "colab": {
          "base_uri": "https://localhost:8080/"
        },
        "outputId": "08fc7a43-8a7f-46e0-8305-5f495d1ca3f9"
      },
      "source": [
        "drive.mount('/content/gdrive')\n"
      ],
      "execution_count": null,
      "outputs": [
        {
          "output_type": "stream",
          "text": [
            "Mounted at /content/gdrive\n"
          ],
          "name": "stdout"
        }
      ]
    },
    {
      "cell_type": "code",
      "metadata": {
        "id": "703TfRLk2y8R"
      },
      "source": [
        "os.environ['KAGGLE_USERNAME'] = \"leechdumb565\" # username from the json file\n",
        "os.environ['KAGGLE_KEY'] = \"a6a09f98c630e4975a3bfbb51087e776\" # key from the json file"
      ],
      "execution_count": null,
      "outputs": []
    },
    {
      "cell_type": "code",
      "metadata": {
        "colab": {
          "base_uri": "https://localhost:8080/"
        },
        "id": "VM0d2zES33N9",
        "outputId": "e38d6664-2bc2-48ec-cbe6-4f662a9285c8"
      },
      "source": [
        "!kaggle competitions download -c dogs-vs-cats # api copied from kaggle (https://www.kaggle.com/c/dogs-vs-cats/data)"
      ],
      "execution_count": null,
      "outputs": [
        {
          "output_type": "stream",
          "text": [
            "Warning: Looks like you're using an outdated API Version, please consider updating (server 1.5.12 / client 1.5.4)\n",
            "Downloading train.zip to /content\n",
            " 96% 521M/543M [00:11<00:00, 68.0MB/s]\n",
            "100% 543M/543M [00:11<00:00, 50.1MB/s]\n",
            "Downloading test1.zip to /content\n",
            " 97% 264M/271M [00:03<00:00, 75.5MB/s]\n",
            "100% 271M/271M [00:04<00:00, 70.5MB/s]\n",
            "Downloading sampleSubmission.csv to /content\n",
            "  0% 0.00/86.8k [00:00<?, ?B/s]\n",
            "100% 86.8k/86.8k [00:00<00:00, 76.2MB/s]\n"
          ],
          "name": "stdout"
        }
      ]
    },
    {
      "cell_type": "code",
      "metadata": {
        "colab": {
          "base_uri": "https://localhost:8080/"
        },
        "id": "yzKqfSQx36dX",
        "outputId": "a0646404-298b-4295-d600-9172e2adeee7"
      },
      "source": [
        "# Unzip training data\n",
        "from zipfile import ZipFile\n",
        "file_name = \"/content/train.zip\"\n",
        "with ZipFile(file_name, 'r') as zip:\n",
        "  zip.extractall()\n",
        "  print('done')"
      ],
      "execution_count": null,
      "outputs": [
        {
          "output_type": "stream",
          "text": [
            "done\n"
          ],
          "name": "stdout"
        }
      ]
    },
    {
      "cell_type": "code",
      "metadata": {
        "colab": {
          "base_uri": "https://localhost:8080/"
        },
        "id": "m3ltxgbw4tM5",
        "outputId": "336b391d-fd77-4381-b891-68358b41be4c"
      },
      "source": [
        "# Get all the paths\n",
        "data_dir_list = os.listdir('/content/train')\n",
        "#print(data_dir_list)\n",
        "path, dirs, files = next(os.walk(\"/content/train\"))\n",
        "file_count = len(files)\n",
        "print(file_count)"
      ],
      "execution_count": null,
      "outputs": [
        {
          "output_type": "stream",
          "text": [
            "25000\n"
          ],
          "name": "stdout"
        }
      ]
    },
    {
      "cell_type": "code",
      "metadata": {
        "id": "fZfbRmbV4wjb"
      },
      "source": [
        "# Make new base directory\n",
        "original_dataset_dir = '/content/train'\n",
        "base_dir = '/content/cats_and_dogs_small'\n",
        "os.mkdir(base_dir)"
      ],
      "execution_count": null,
      "outputs": []
    },
    {
      "cell_type": "code",
      "metadata": {
        "id": "gZzC0Uij5C20"
      },
      "source": [
        "train_dir = os.path.join(base_dir, 'train')\n",
        "os.mkdir(train_dir)\n",
        "\n",
        "validation_dir = os.path.join(base_dir, 'validation')\n",
        "os.mkdir(validation_dir)\n",
        "\n",
        "test_dir = os.path.join(base_dir, 'test')\n",
        "os.mkdir(test_dir)\n",
        "\n",
        "train_cats_dir = os.path.join(train_dir, 'cats')\n",
        "os.mkdir(train_cats_dir)\n",
        "\n",
        "train_dogs_dir = os.path.join(train_dir, 'dogs')\n",
        "os.mkdir(train_dogs_dir)\n",
        "\n",
        "validation_cats_dir = os.path.join(validation_dir, 'cats')\n",
        "os.mkdir(validation_cats_dir)\n",
        "\n",
        "validation_dogs_dir = os.path.join(validation_dir, 'dogs')\n",
        "os.mkdir(validation_dogs_dir)\n",
        "\n",
        "test_cats_dir = os.path.join(test_dir, 'cats')\n",
        "os.mkdir(test_cats_dir)\n",
        "\n",
        "test_dogs_dir = os.path.join(test_dir, 'dogs')\n",
        "os.mkdir(test_dogs_dir)"
      ],
      "execution_count": null,
      "outputs": []
    },
    {
      "cell_type": "code",
      "metadata": {
        "id": "ou9WbYck5b-J"
      },
      "source": [
        "import shutil\n",
        "fnames = ['cat.{}.jpg'.format(i) for i in range(1000)]\n",
        "for fname in fnames:\n",
        "    src = os.path.join(original_dataset_dir, fname)\n",
        "    dst = os.path.join(train_cats_dir, fname)\n",
        "    #print(src,dst)\n",
        "    shutil.copyfile(src, dst)\n",
        "    \n",
        "fnames = ['cat.{}.jpg'.format(i) for i in range(1000, 1500)]\n",
        "for fname in fnames:\n",
        "    src = os.path.join(original_dataset_dir, fname)\n",
        "    dst = os.path.join(validation_cats_dir, fname)\n",
        "    shutil.copyfile(src, dst)\n",
        "\n",
        "fnames = ['cat.{}.jpg'.format(i) for i in range(1500, 2000)]\n",
        "for fname in fnames:\n",
        "    src = os.path.join(original_dataset_dir, fname)\n",
        "    dst = os.path.join(test_cats_dir, fname)\n",
        "    shutil.copyfile(src, dst)\n",
        "    \n",
        "fnames = ['dog.{}.jpg'.format(i) for i in range(1000)]\n",
        "for fname in fnames:\n",
        "    src = os.path.join(original_dataset_dir, fname)\n",
        "    dst = os.path.join(train_dogs_dir, fname)\n",
        "    shutil.copyfile(src, dst)\n",
        "\n",
        "fnames = ['dog.{}.jpg'.format(i) for i in range(1000, 1500)]\n",
        "for fname in fnames:\n",
        "    src = os.path.join(original_dataset_dir, fname)\n",
        "    dst = os.path.join(validation_dogs_dir, fname)\n",
        "    shutil.copyfile(src, dst)\n",
        "\n",
        "fnames = ['dog.{}.jpg'.format(i) for i in range(1500, 2000)]\n",
        "for fname in fnames:\n",
        "    src = os.path.join(original_dataset_dir, fname)\n",
        "    dst = os.path.join(test_dogs_dir, fname)\n",
        "    shutil.copyfile(src, dst)"
      ],
      "execution_count": null,
      "outputs": []
    },
    {
      "cell_type": "code",
      "metadata": {
        "colab": {
          "base_uri": "https://localhost:8080/"
        },
        "id": "FS6I0R4d6MyV",
        "outputId": "5b77d1b0-6a47-4668-cbd0-8d94dcf3a497"
      },
      "source": [
        "print('total training cat images:', len(os.listdir(train_cats_dir)))\n",
        "print('total training dog images:', len(os.listdir(train_dogs_dir)))\n",
        "print('total validation cat images:', len(os.listdir(validation_cats_dir)))\n",
        "\n",
        "print('total validation dog images:', len(os.listdir(validation_dogs_dir)))\n",
        "print('total test cat images:', len(os.listdir(test_cats_dir)))\n",
        "print('total test dog images:', len(os.listdir(test_dogs_dir)))"
      ],
      "execution_count": null,
      "outputs": [
        {
          "output_type": "stream",
          "text": [
            "total training cat images: 1000\n",
            "total training dog images: 1000\n",
            "total validation cat images: 500\n",
            "total validation dog images: 500\n",
            "total test cat images: 500\n",
            "total test dog images: 500\n"
          ],
          "name": "stdout"
        }
      ]
    },
    {
      "cell_type": "code",
      "metadata": {
        "colab": {
          "base_uri": "https://localhost:8080/"
        },
        "id": "k6E-By8f6Ph9",
        "outputId": "1a21c4d9-389e-40c0-d210-dce6f19e1774"
      },
      "source": [
        "from keras import layers\n",
        "from keras import models\n",
        "\n",
        "model = models.Sequential()\n",
        "model.add(layers.Conv2D(32, (3, 3), activation='relu', input_shape=(150, 150, 3)))\n",
        "model.add(layers.MaxPooling2D((2, 2)))\n",
        "model.add(layers.Conv2D(64, (3, 3), activation='relu'))\n",
        "model.add(layers.MaxPooling2D((2, 2)))\n",
        "model.add(layers.Conv2D(128, (3, 3), activation='relu'))\n",
        "model.add(layers.MaxPooling2D((2, 2)))\n",
        "model.add(layers.Conv2D(128, (3, 3), activation='relu'))\n",
        "model.add(layers.MaxPooling2D((2, 2)))\n",
        "model.add(layers.Flatten())\n",
        "model.add(layers.Dropout(0.5))\n",
        "model.add(layers.Dense(512, activation='relu'))\n",
        "model.add(layers.Dense(1, activation='sigmoid'))\n",
        "model.summary()"
      ],
      "execution_count": null,
      "outputs": [
        {
          "output_type": "stream",
          "text": [
            "Model: \"sequential\"\n",
            "_________________________________________________________________\n",
            "Layer (type)                 Output Shape              Param #   \n",
            "=================================================================\n",
            "conv2d (Conv2D)              (None, 148, 148, 32)      896       \n",
            "_________________________________________________________________\n",
            "max_pooling2d (MaxPooling2D) (None, 74, 74, 32)        0         \n",
            "_________________________________________________________________\n",
            "conv2d_1 (Conv2D)            (None, 72, 72, 64)        18496     \n",
            "_________________________________________________________________\n",
            "max_pooling2d_1 (MaxPooling2 (None, 36, 36, 64)        0         \n",
            "_________________________________________________________________\n",
            "conv2d_2 (Conv2D)            (None, 34, 34, 128)       73856     \n",
            "_________________________________________________________________\n",
            "max_pooling2d_2 (MaxPooling2 (None, 17, 17, 128)       0         \n",
            "_________________________________________________________________\n",
            "conv2d_3 (Conv2D)            (None, 15, 15, 128)       147584    \n",
            "_________________________________________________________________\n",
            "max_pooling2d_3 (MaxPooling2 (None, 7, 7, 128)         0         \n",
            "_________________________________________________________________\n",
            "flatten (Flatten)            (None, 6272)              0         \n",
            "_________________________________________________________________\n",
            "dropout (Dropout)            (None, 6272)              0         \n",
            "_________________________________________________________________\n",
            "dense (Dense)                (None, 512)               3211776   \n",
            "_________________________________________________________________\n",
            "dense_1 (Dense)              (None, 1)                 513       \n",
            "=================================================================\n",
            "Total params: 3,453,121\n",
            "Trainable params: 3,453,121\n",
            "Non-trainable params: 0\n",
            "_________________________________________________________________\n"
          ],
          "name": "stdout"
        }
      ]
    },
    {
      "cell_type": "code",
      "metadata": {
        "id": "rTr6ICyC7AeT"
      },
      "source": [
        "from keras import optimizers\n",
        "model.compile(loss='binary_crossentropy', \n",
        "              optimizer=optimizers.RMSprop(lr=1e-4),\n",
        "              metrics=['acc'])"
      ],
      "execution_count": null,
      "outputs": []
    },
    {
      "cell_type": "code",
      "metadata": {
        "colab": {
          "base_uri": "https://localhost:8080/"
        },
        "id": "k4nM_np07UVE",
        "outputId": "34558970-b8d1-4de3-daf3-3aa280c6051a"
      },
      "source": [
        "from keras.preprocessing.image import ImageDataGenerator\n",
        "\n",
        "train_datagen = ImageDataGenerator(rescale=1./255)\n",
        "test_datagen = ImageDataGenerator(rescale=1./255)\n",
        "\n",
        "train_generator = train_datagen.flow_from_directory(train_dir,\n",
        "                                                    target_size=(150, 150), \n",
        "                                                    batch_size=20,\n",
        "                                                    class_mode='binary')\n",
        "\n",
        "validation_generator = test_datagen.flow_from_directory(validation_dir,\n",
        "                                                        target_size=(150, 150),\n",
        "                                                        batch_size=20,\n",
        "                                                        class_mode='binary')"
      ],
      "execution_count": null,
      "outputs": [
        {
          "output_type": "stream",
          "text": [
            "Found 2000 images belonging to 2 classes.\n",
            "Found 1000 images belonging to 2 classes.\n"
          ],
          "name": "stdout"
        }
      ]
    },
    {
      "cell_type": "code",
      "metadata": {
        "colab": {
          "base_uri": "https://localhost:8080/"
        },
        "id": "drXof7GA74Lw",
        "outputId": "96762142-479d-4950-84dc-debb985fa092"
      },
      "source": [
        "history = model.fit_generator(train_generator,\n",
        "                              steps_per_epoch=100,\n",
        "                              epochs=29,\n",
        "                              validation_data=validation_generator,\n",
        "                              validation_steps=10)"
      ],
      "execution_count": null,
      "outputs": [
        {
          "output_type": "stream",
          "text": [
            "/usr/local/lib/python3.7/dist-packages/tensorflow/python/keras/engine/training.py:1844: UserWarning: `Model.fit_generator` is deprecated and will be removed in a future version. Please use `Model.fit`, which supports generators.\n",
            "  warnings.warn('`Model.fit_generator` is deprecated and '\n"
          ],
          "name": "stderr"
        },
        {
          "output_type": "stream",
          "text": [
            "Epoch 1/29\n",
            "100/100 [==============================] - 94s 940ms/step - loss: 0.0839 - acc: 0.9645 - val_loss: 0.7005 - val_acc: 0.7700\n",
            "Epoch 2/29\n",
            "100/100 [==============================] - 94s 937ms/step - loss: 0.0757 - acc: 0.9765 - val_loss: 0.7497 - val_acc: 0.7550\n",
            "Epoch 3/29\n",
            "100/100 [==============================] - 95s 947ms/step - loss: 0.0724 - acc: 0.9730 - val_loss: 1.0951 - val_acc: 0.7050\n",
            "Epoch 4/29\n",
            "100/100 [==============================] - 93s 931ms/step - loss: 0.0754 - acc: 0.9720 - val_loss: 0.8447 - val_acc: 0.7300\n",
            "Epoch 5/29\n",
            "100/100 [==============================] - 92s 924ms/step - loss: 0.0649 - acc: 0.9795 - val_loss: 0.7775 - val_acc: 0.7900\n",
            "Epoch 6/29\n",
            "100/100 [==============================] - 94s 940ms/step - loss: 0.0606 - acc: 0.9780 - val_loss: 0.8161 - val_acc: 0.7500\n",
            "Epoch 7/29\n",
            "100/100 [==============================] - 94s 937ms/step - loss: 0.0646 - acc: 0.9755 - val_loss: 1.1678 - val_acc: 0.6950\n",
            "Epoch 8/29\n",
            "100/100 [==============================] - 93s 928ms/step - loss: 0.0521 - acc: 0.9825 - val_loss: 0.8726 - val_acc: 0.7300\n",
            "Epoch 9/29\n",
            "100/100 [==============================] - 93s 931ms/step - loss: 0.0617 - acc: 0.9790 - val_loss: 0.8453 - val_acc: 0.7350\n",
            "Epoch 10/29\n",
            "100/100 [==============================] - 94s 941ms/step - loss: 0.0644 - acc: 0.9750 - val_loss: 0.8195 - val_acc: 0.7600\n",
            "Epoch 11/29\n",
            "100/100 [==============================] - 92s 923ms/step - loss: 0.0558 - acc: 0.9810 - val_loss: 0.9391 - val_acc: 0.7600\n",
            "Epoch 12/29\n",
            "100/100 [==============================] - 92s 920ms/step - loss: 0.0669 - acc: 0.9775 - val_loss: 1.0293 - val_acc: 0.7650\n",
            "Epoch 13/29\n",
            "100/100 [==============================] - 92s 919ms/step - loss: 0.0606 - acc: 0.9750 - val_loss: 0.7835 - val_acc: 0.7600\n",
            "Epoch 14/29\n",
            "100/100 [==============================] - 92s 922ms/step - loss: 0.0487 - acc: 0.9840 - val_loss: 0.8522 - val_acc: 0.7850\n",
            "Epoch 15/29\n",
            "100/100 [==============================] - 94s 939ms/step - loss: 0.0403 - acc: 0.9900 - val_loss: 1.1533 - val_acc: 0.7550\n",
            "Epoch 16/29\n",
            "100/100 [==============================] - 94s 937ms/step - loss: 0.0411 - acc: 0.9875 - val_loss: 1.0510 - val_acc: 0.7150\n",
            "Epoch 17/29\n",
            "100/100 [==============================] - 94s 936ms/step - loss: 0.0464 - acc: 0.9855 - val_loss: 0.8254 - val_acc: 0.7600\n",
            "Epoch 18/29\n",
            "100/100 [==============================] - 94s 935ms/step - loss: 0.0475 - acc: 0.9835 - val_loss: 1.1568 - val_acc: 0.7450\n",
            "Epoch 19/29\n",
            "100/100 [==============================] - 92s 919ms/step - loss: 0.0386 - acc: 0.9860 - val_loss: 0.7816 - val_acc: 0.8050\n",
            "Epoch 20/29\n",
            "100/100 [==============================] - 92s 920ms/step - loss: 0.0388 - acc: 0.9870 - val_loss: 0.9640 - val_acc: 0.7750\n",
            "Epoch 21/29\n",
            "100/100 [==============================] - 92s 919ms/step - loss: 0.0454 - acc: 0.9835 - val_loss: 1.1382 - val_acc: 0.7550\n",
            "Epoch 22/29\n",
            "100/100 [==============================] - 92s 919ms/step - loss: 0.0445 - acc: 0.9850 - val_loss: 0.9188 - val_acc: 0.7850\n",
            "Epoch 23/29\n",
            "100/100 [==============================] - 92s 924ms/step - loss: 0.0354 - acc: 0.9870 - val_loss: 0.9693 - val_acc: 0.7450\n",
            "Epoch 24/29\n",
            "100/100 [==============================] - 93s 927ms/step - loss: 0.0380 - acc: 0.9875 - val_loss: 1.5233 - val_acc: 0.7250\n",
            "Epoch 25/29\n",
            "100/100 [==============================] - 93s 927ms/step - loss: 0.0344 - acc: 0.9860 - val_loss: 0.9809 - val_acc: 0.7350\n",
            "Epoch 26/29\n",
            "100/100 [==============================] - 93s 933ms/step - loss: 0.0326 - acc: 0.9905 - val_loss: 1.1806 - val_acc: 0.7700\n",
            "Epoch 27/29\n",
            "100/100 [==============================] - 94s 938ms/step - loss: 0.0350 - acc: 0.9870 - val_loss: 0.9997 - val_acc: 0.7300\n",
            "Epoch 28/29\n",
            "100/100 [==============================] - 95s 945ms/step - loss: 0.0409 - acc: 0.9860 - val_loss: 0.9439 - val_acc: 0.7700\n",
            "Epoch 29/29\n",
            "100/100 [==============================] - 95s 947ms/step - loss: 0.0431 - acc: 0.9855 - val_loss: 1.2359 - val_acc: 0.7850\n"
          ],
          "name": "stdout"
        }
      ]
    },
    {
      "cell_type": "code",
      "metadata": {
        "colab": {
          "base_uri": "https://localhost:8080/",
          "height": 545
        },
        "id": "Bbwy2uxk74kO",
        "outputId": "6507245f-d42a-4970-ded5-bbdd56d9531d"
      },
      "source": [
        "model.save('cats_and_dogs_small_1.h5')\n",
        "\n",
        "import matplotlib.pyplot as plt\n",
        "\n",
        "acc = history.history['acc']\n",
        "val_acc = history.history['val_acc']\n",
        "loss = history.history['loss']\n",
        "val_loss = history.history['val_loss']\n",
        "\n",
        "epochs = range(1, len(acc) + 1)\n",
        "\n",
        "plt.plot(epochs, acc, 'bo', label='Training acc')\n",
        "plt.plot(epochs, val_acc, 'b', label='Validation acc')\n",
        "plt.title('Training and validation accuracy')\n",
        "plt.legend()\n",
        "\n",
        "plt.figure()\n",
        "\n",
        "plt.plot(epochs, loss, 'bo', label='Training loss')\n",
        "plt.plot(epochs, val_loss, 'b', label='Validation loss')\n",
        "plt.title('Training and validation loss')\n",
        "plt.legend()\n",
        "\n",
        "plt.show()"
      ],
      "execution_count": null,
      "outputs": [
        {
          "output_type": "display_data",
          "data": {
            "image/png": "[encoded data removed]",
            "text/plain": [
              "<Figure size 432x288 with 1 Axes>"
            ]
          },
          "metadata": {
            "tags": [],
            "needs_background": "light"
          }
        },
        {
          "output_type": "display_data",
          "data": {
            "image/png": "[encoded data removed]",
            "text/plain": [
              "<Figure size 432x288 with 1 Axes>"
            ]
          },
          "metadata": {
            "tags": [],
            "needs_background": "light"
          }
        }
      ]
    },
    {
      "cell_type": "code",
      "metadata": {
        "id": "Ao9QT6miG57D"
      },
      "source": [
        ""
      ],
      "execution_count": null,
      "outputs": []
    }
  ]
}