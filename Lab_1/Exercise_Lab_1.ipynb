{
  "nbformat": 4,
  "nbformat_minor": 0,
  "metadata": {
    "colab": {
      "name": "Exercise_Lab_1.ipynb",
      "provenance": []
    },
    "kernelspec": {
      "name": "python3",
      "display_name": "Python 3"
    }
  },
  "cells": [
    {
      "cell_type": "markdown",
      "metadata": {
        "id": "6X-TO_KR1mjo"
      },
      "source": [
        "## Questions to be done during the lab:\n",
        "\n",
        "**Questions 1.** \n",
        "Write a function name 'avg', which take an array of number and calculate the average\n",
        "\n",
        "\n"
      ]
    },
    {
      "cell_type": "code",
      "metadata": {
        "id": "vbu3Vga33lw3",
        "colab": {
          "base_uri": "https://localhost:8080/"
        },
        "outputId": "c58b81b5-8c96-4845-8648-1224c8a4b58b"
      },
      "source": [
        "def avg(marks):\n",
        "   return sum(marks)/len(marks)\n",
        "\n",
        "mark2 = [55,88,78,90,79]\n",
        "print(avg(mark2))"
      ],
      "execution_count": 1,
      "outputs": [
        {
          "output_type": "stream",
          "text": [
            "78.0\n"
          ],
          "name": "stdout"
        }
      ]
    },
    {
      "cell_type": "code",
      "metadata": {
        "colab": {
          "base_uri": "https://localhost:8080/"
        },
        "id": "cMh4EdzfUtFO",
        "outputId": "b761f113-7fde-4d9c-9d28-7b486bdc297e"
      },
      "source": [
        "np.mean(mark2)"
      ],
      "execution_count": 6,
      "outputs": [
        {
          "output_type": "execute_result",
          "data": {
            "text/plain": [
              "78.0"
            ]
          },
          "metadata": {
            "tags": []
          },
          "execution_count": 6
        }
      ]
    },
    {
      "cell_type": "code",
      "metadata": {
        "id": "MtgR1Y695RpD"
      },
      "source": [
        "import numpy as np\n",
        "# Only run this cell to check your answer. If it is true then no error will be raised\n",
        "assert(avg(mark2) == np.mean(mark2))"
      ],
      "execution_count": 10,
      "outputs": []
    },
    {
      "cell_type": "markdown",
      "metadata": {
        "id": "W1hVtS896cfi"
      },
      "source": [
        "**Questions 2**.\n",
        "Write a function name 'areaCricle', which take radius as a argument and calculate the area. \n",
        "\n"
      ]
    },
    {
      "cell_type": "code",
      "metadata": {
        "id": "Fn7_nt8-vUao",
        "colab": {
          "base_uri": "https://localhost:8080/"
        },
        "outputId": "efc4cf0f-b0e2-42c5-848b-d2a70106db6b"
      },
      "source": [
        "from math import pi # Use pi value from math package\n",
        "def areaCricle(radius):\n",
        "    return pi * radius * radius\n",
        "\n",
        "round(areaCricle(10),2)"
      ],
      "execution_count": 14,
      "outputs": [
        {
          "output_type": "execute_result",
          "data": {
            "text/plain": [
              "314.16"
            ]
          },
          "metadata": {
            "tags": []
          },
          "execution_count": 14
        }
      ]
    },
    {
      "cell_type": "code",
      "metadata": {
        "id": "BML90x25vikN"
      },
      "source": [
        "# Only run this cell to check your answer. If it is true then no error will be raised\n",
        "assert(round(areaCricle(10),2) == 314.16)"
      ],
      "execution_count": 13,
      "outputs": []
    },
    {
      "cell_type": "markdown",
      "metadata": {
        "id": "_EfKc7-3x2k8"
      },
      "source": [
        "**Question 3.**\n",
        "Write a function that takes a list of items and returns a new list with the order of items reversed, without using any inbuilt Python features that will do this for you (e.g. .reverse() or reversed(…)). As specified in the instructions, your function must not modify the contents of the original list."
      ]
    },
    {
      "cell_type": "code",
      "metadata": {
        "id": "rEtOO9yPyKwe",
        "colab": {
          "base_uri": "https://localhost:8080/"
        },
        "outputId": "57247114-eaf3-4588-b183-8ba2eb155a8a"
      },
      "source": [
        "def reversed_list(in_list):\n",
        "     in_list.reverse()\n",
        "     return in_list\n",
        "\n",
        "reversed_list([1, 2])"
      ],
      "execution_count": 32,
      "outputs": [
        {
          "output_type": "execute_result",
          "data": {
            "text/plain": [
              "[2, 1]"
            ]
          },
          "metadata": {
            "tags": []
          },
          "execution_count": 32
        }
      ]
    },
    {
      "cell_type": "code",
      "metadata": {
        "id": "bVyMOVMLyRib"
      },
      "source": [
        "# Only run this cell to check your answer. If it is true then no error will be raised\n",
        "assert(reversed_list([1, 2]) == [2, 1])"
      ],
      "execution_count": 33,
      "outputs": []
    },
    {
      "cell_type": "markdown",
      "metadata": {
        "id": "DFQPTbd90pPN"
      },
      "source": [
        "**Question 4.** \n",
        "\n",
        "*Read carefully: *Write a function to perform a Bubble Sort on a list of numbers. \n",
        "\n",
        "Bubble sort is a sorting algorithm and works by iterating over the list, comparing adjacent items, and swapping them if they are out of order.\n",
        "\n",
        "Notice that after the first pass of a bubble sort, the biggest item is always moved to the end of the list. This means the next iteration does not need to check the final position of the list.\n",
        "\n",
        "In addition, you can keep track of how many items were swapped on each iteration. If this count is zero on any iteration, then the list must be fully sorted, in which case the algorithm can stop early.\n",
        "\n",
        "Hint: To understand Bubble Sort Algorithm, please [Watch](https://www.youtube.com/watch?v=xli_FI7CuzA)"
      ]
    },
    {
      "cell_type": "code",
      "metadata": {
        "id": "sGkDiI3b1DpQ",
        "colab": {
          "base_uri": "https://localhost:8080/"
        },
        "outputId": "ea5adea4-c303-4d67-dbfd-ccb37d95e935"
      },
      "source": [
        "def bubble_sort(in_list):\n",
        "    for i in range(1,len(in_list)):\n",
        "      for j in range(0,len(in_list)-1):\n",
        "        if (in_list[j]>in_list[j+1]):\n",
        "          Temp = in_list[j]\n",
        "          in_list[j] = in_list[j+1]\n",
        "          in_list[j+1] = Temp\n",
        "    return in_list\n",
        "\n",
        "bubble_sort([37, 42, 9, 19, 35, 4, 53, 22])"
      ],
      "execution_count": 39,
      "outputs": [
        {
          "output_type": "execute_result",
          "data": {
            "text/plain": [
              "[4, 9, 19, 22, 35, 37, 42, 53]"
            ]
          },
          "metadata": {
            "tags": []
          },
          "execution_count": 39
        }
      ]
    },
    {
      "cell_type": "code",
      "metadata": {
        "id": "ReCP5Nv_1ETF"
      },
      "source": [
        "# Only run this cell to check your answer. If it is true then no error will be raised\n",
        "assert(bubble_sort([37, 42, 9, 19, 35, 4, 53, 22]) == [4, 9, 19, 22, 35, 37, 42, 53])\n",
        "assert(bubble_sort([5, 4, 3, 2, 1]) == [1, 2, 3, 4, 5])"
      ],
      "execution_count": 40,
      "outputs": []
    },
    {
      "cell_type": "markdown",
      "metadata": {
        "id": "c6y0x8KsvySS"
      },
      "source": [
        "**Question 5.** \n",
        "\n",
        "Write a function to find $n^{th}$ Fibonacci number\n",
        "The Fibonacci numbers are the numbers in the following integer sequence.\n",
        "0, 1, 1, 2, 3, 5, 8, 13, 21, 34, 55, 89, 144, ……..\n",
        "In mathematical terms, the sequence $F_n$ of Fibonacci numbers is defined by the recurrence relation \n",
        "\n",
        "$F_n = F_n-1 + F_n-2$\n",
        "\n",
        "with seed values \n",
        "\n",
        "$F_0 = 0$ and $F_1 = 1$"
      ]
    },
    {
      "cell_type": "code",
      "metadata": {
        "colab": {
          "base_uri": "https://localhost:8080/"
        },
        "id": "dlMnigUrvxb9",
        "outputId": "b1df3140-5697-4360-957d-0f1630d3c6dd"
      },
      "source": [
        "def Fibonacci(n):\n",
        "    if n ==0:\n",
        "      return 0\n",
        "    if (n>0 and n<=2) :\n",
        "      return 1\n",
        "    else:\n",
        "      return (Fibonacci(n-1) + Fibonacci(n-2))\n",
        "\n",
        "print(Fibonacci(7))\n",
        "print(Fibonacci(8))\n",
        "print(Fibonacci(9))"
      ],
      "execution_count": 75,
      "outputs": [
        {
          "output_type": "stream",
          "text": [
            "13\n",
            "21\n",
            "34\n"
          ],
          "name": "stdout"
        }
      ]
    },
    {
      "cell_type": "code",
      "metadata": {
        "id": "8OJv6zQKxzKj",
        "colab": {
          "base_uri": "https://localhost:8080/",
          "height": 195
        },
        "outputId": "f8c07ef0-6efa-4109-f585-deb79898f332"
      },
      "source": [
        "# Only run this cell to check your answer. If it is true then no error will be raised\n",
        "assert(Fibonacci(7) == 13)\n",
        "assert(Fibonacci(9) == 21)"
      ],
      "execution_count": 68,
      "outputs": [
        {
          "output_type": "error",
          "ename": "AssertionError",
          "evalue": "ignored",
          "traceback": [
            "\u001b[0;31m---------------------------------------------------------------------------\u001b[0m",
            "\u001b[0;31mAssertionError\u001b[0m                            Traceback (most recent call last)",
            "\u001b[0;32m<ipython-input-68-cee17924fb48>\u001b[0m in \u001b[0;36m<module>\u001b[0;34m()\u001b[0m\n\u001b[1;32m      1\u001b[0m \u001b[0;31m# Only run this cell to check your answer. If it is true then no error will be raised\u001b[0m\u001b[0;34m\u001b[0m\u001b[0;34m\u001b[0m\u001b[0;34m\u001b[0m\u001b[0m\n\u001b[1;32m      2\u001b[0m \u001b[0;32massert\u001b[0m\u001b[0;34m(\u001b[0m\u001b[0mFibonacci\u001b[0m\u001b[0;34m(\u001b[0m\u001b[0;36m7\u001b[0m\u001b[0;34m)\u001b[0m \u001b[0;34m==\u001b[0m \u001b[0;36m13\u001b[0m\u001b[0;34m)\u001b[0m\u001b[0;34m\u001b[0m\u001b[0;34m\u001b[0m\u001b[0m\n\u001b[0;32m----> 3\u001b[0;31m \u001b[0;32massert\u001b[0m\u001b[0;34m(\u001b[0m\u001b[0mFibonacci\u001b[0m\u001b[0;34m(\u001b[0m\u001b[0;36m9\u001b[0m\u001b[0;34m)\u001b[0m \u001b[0;34m==\u001b[0m \u001b[0;36m21\u001b[0m\u001b[0;34m)\u001b[0m\u001b[0;34m\u001b[0m\u001b[0;34m\u001b[0m\u001b[0m\n\u001b[0m",
            "\u001b[0;31mAssertionError\u001b[0m: "
          ]
        }
      ]
    },
    {
      "cell_type": "code",
      "metadata": {
        "id": "syJxaB0bYrUA"
      },
      "source": [
        ""
      ],
      "execution_count": null,
      "outputs": []
    }
  ]
}