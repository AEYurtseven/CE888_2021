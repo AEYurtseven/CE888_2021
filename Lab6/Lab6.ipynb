{
 "cells": [
  {
   "cell_type": "code",
   "execution_count": 1,
   "metadata": {},
   "outputs": [
    {
     "data": {
      "text/html": [
       "<div>\n",
       "<style scoped>\n",
       "    .dataframe tbody tr th:only-of-type {\n",
       "        vertical-align: middle;\n",
       "    }\n",
       "\n",
       "    .dataframe tbody tr th {\n",
       "        vertical-align: top;\n",
       "    }\n",
       "\n",
       "    .dataframe thead th {\n",
       "        text-align: right;\n",
       "    }\n",
       "</style>\n",
       "<table border=\"1\" class=\"dataframe\">\n",
       "  <thead>\n",
       "    <tr style=\"text-align: right;\">\n",
       "      <th></th>\n",
       "      <th>Class label</th>\n",
       "      <th>Alcohol</th>\n",
       "      <th>Malic acid</th>\n",
       "      <th>Ash</th>\n",
       "      <th>Alcalinity of ash</th>\n",
       "      <th>Magnesium</th>\n",
       "      <th>Total phenols</th>\n",
       "      <th>Flavanoids</th>\n",
       "      <th>Nonflavanoid phenols</th>\n",
       "      <th>Proanthocyanins</th>\n",
       "      <th>Color intensity</th>\n",
       "      <th>Hue</th>\n",
       "      <th>OD280/OD315 of diluted wines</th>\n",
       "      <th>Proline</th>\n",
       "    </tr>\n",
       "  </thead>\n",
       "  <tbody>\n",
       "    <tr>\n",
       "      <th>0</th>\n",
       "      <td>1</td>\n",
       "      <td>14.23</td>\n",
       "      <td>1.71</td>\n",
       "      <td>2.43</td>\n",
       "      <td>15.6</td>\n",
       "      <td>127</td>\n",
       "      <td>2.80</td>\n",
       "      <td>3.06</td>\n",
       "      <td>0.28</td>\n",
       "      <td>2.29</td>\n",
       "      <td>5.64</td>\n",
       "      <td>1.04</td>\n",
       "      <td>3.92</td>\n",
       "      <td>1065</td>\n",
       "    </tr>\n",
       "    <tr>\n",
       "      <th>1</th>\n",
       "      <td>1</td>\n",
       "      <td>13.20</td>\n",
       "      <td>1.78</td>\n",
       "      <td>2.14</td>\n",
       "      <td>11.2</td>\n",
       "      <td>100</td>\n",
       "      <td>2.65</td>\n",
       "      <td>2.76</td>\n",
       "      <td>0.26</td>\n",
       "      <td>1.28</td>\n",
       "      <td>4.38</td>\n",
       "      <td>1.05</td>\n",
       "      <td>3.40</td>\n",
       "      <td>1050</td>\n",
       "    </tr>\n",
       "    <tr>\n",
       "      <th>2</th>\n",
       "      <td>1</td>\n",
       "      <td>13.16</td>\n",
       "      <td>2.36</td>\n",
       "      <td>2.67</td>\n",
       "      <td>18.6</td>\n",
       "      <td>101</td>\n",
       "      <td>2.80</td>\n",
       "      <td>3.24</td>\n",
       "      <td>0.30</td>\n",
       "      <td>2.81</td>\n",
       "      <td>5.68</td>\n",
       "      <td>1.03</td>\n",
       "      <td>3.17</td>\n",
       "      <td>1185</td>\n",
       "    </tr>\n",
       "    <tr>\n",
       "      <th>3</th>\n",
       "      <td>1</td>\n",
       "      <td>14.37</td>\n",
       "      <td>1.95</td>\n",
       "      <td>2.50</td>\n",
       "      <td>16.8</td>\n",
       "      <td>113</td>\n",
       "      <td>3.85</td>\n",
       "      <td>3.49</td>\n",
       "      <td>0.24</td>\n",
       "      <td>2.18</td>\n",
       "      <td>7.80</td>\n",
       "      <td>0.86</td>\n",
       "      <td>3.45</td>\n",
       "      <td>1480</td>\n",
       "    </tr>\n",
       "    <tr>\n",
       "      <th>4</th>\n",
       "      <td>1</td>\n",
       "      <td>13.24</td>\n",
       "      <td>2.59</td>\n",
       "      <td>2.87</td>\n",
       "      <td>21.0</td>\n",
       "      <td>118</td>\n",
       "      <td>2.80</td>\n",
       "      <td>2.69</td>\n",
       "      <td>0.39</td>\n",
       "      <td>1.82</td>\n",
       "      <td>4.32</td>\n",
       "      <td>1.04</td>\n",
       "      <td>2.93</td>\n",
       "      <td>735</td>\n",
       "    </tr>\n",
       "  </tbody>\n",
       "</table>\n",
       "</div>"
      ],
      "text/plain": [
       "   Class label  Alcohol  Malic acid   Ash  Alcalinity of ash  Magnesium  \\\n",
       "0            1    14.23        1.71  2.43               15.6        127   \n",
       "1            1    13.20        1.78  2.14               11.2        100   \n",
       "2            1    13.16        2.36  2.67               18.6        101   \n",
       "3            1    14.37        1.95  2.50               16.8        113   \n",
       "4            1    13.24        2.59  2.87               21.0        118   \n",
       "\n",
       "   Total phenols  Flavanoids  Nonflavanoid phenols  Proanthocyanins  \\\n",
       "0           2.80        3.06                  0.28             2.29   \n",
       "1           2.65        2.76                  0.26             1.28   \n",
       "2           2.80        3.24                  0.30             2.81   \n",
       "3           3.85        3.49                  0.24             2.18   \n",
       "4           2.80        2.69                  0.39             1.82   \n",
       "\n",
       "   Color intensity   Hue  OD280/OD315 of diluted wines  Proline  \n",
       "0             5.64  1.04                          3.92     1065  \n",
       "1             4.38  1.05                          3.40     1050  \n",
       "2             5.68  1.03                          3.17     1185  \n",
       "3             7.80  0.86                          3.45     1480  \n",
       "4             4.32  1.04                          2.93      735  "
      ]
     },
     "execution_count": 1,
     "metadata": {},
     "output_type": "execute_result"
    }
   ],
   "source": [
    "import pandas as pd\n",
    "import numpy as np\n",
    "import warnings\n",
    "warnings.filterwarnings('ignore')\n",
    "\n",
    "df_wine = pd.read_csv('https://archive.ics.uci.edu/ml/'\n",
    "                      'machine-learning-databases/wine/wine.data',\n",
    "                      header=None)\n",
    "\n",
    "# if the Wine dataset is temporarily unavailable from the\n",
    "# UCI machine learning repository, un-comment the following line\n",
    "# of code to load the dataset from a local path:\n",
    "\n",
    "# df_wine = pd.read_csv('wine.data', header=None)\n",
    "\n",
    "df_wine.columns = ['Class label', 'Alcohol', 'Malic acid', 'Ash',\n",
    "                   'Alcalinity of ash', 'Magnesium', 'Total phenols',\n",
    "                   'Flavanoids', 'Nonflavanoid phenols', 'Proanthocyanins',\n",
    "                   'Color intensity', 'Hue',\n",
    "                   'OD280/OD315 of diluted wines', 'Proline']\n",
    "\n",
    "df_wine.head()"
   ]
  },
  {
   "cell_type": "code",
   "execution_count": 2,
   "metadata": {},
   "outputs": [
    {
     "name": "stdout",
     "output_type": "stream",
     "text": [
      "Index(['Alcohol', 'Malic acid', 'Ash', 'Alcalinity of ash', 'Magnesium',\n",
      "       'Total phenols', 'Flavanoids', 'Nonflavanoid phenols',\n",
      "       'Proanthocyanins', 'Color intensity', 'Hue',\n",
      "       'OD280/OD315 of diluted wines', 'Proline'],\n",
      "      dtype='object')\n",
      "Index(['Class label'], dtype='object')\n"
     ]
    }
   ],
   "source": [
    "# Fetch data into x and y variables\n",
    "x=df_wine.iloc[:,1:14] # Covariates or input\n",
    "y=df_wine.iloc[:,:1] # Labels or classes or output\n",
    "print(x.columns)\n",
    "print(y.columns)"
   ]
  },
  {
   "cell_type": "code",
   "execution_count": 3,
   "metadata": {},
   "outputs": [
    {
     "data": {
      "text/html": [
       "<div>\n",
       "<style scoped>\n",
       "    .dataframe tbody tr th:only-of-type {\n",
       "        vertical-align: middle;\n",
       "    }\n",
       "\n",
       "    .dataframe tbody tr th {\n",
       "        vertical-align: top;\n",
       "    }\n",
       "\n",
       "    .dataframe thead th {\n",
       "        text-align: right;\n",
       "    }\n",
       "</style>\n",
       "<table border=\"1\" class=\"dataframe\">\n",
       "  <thead>\n",
       "    <tr style=\"text-align: right;\">\n",
       "      <th></th>\n",
       "      <th>Alcohol</th>\n",
       "      <th>Malic acid</th>\n",
       "      <th>Ash</th>\n",
       "      <th>Alcalinity of ash</th>\n",
       "      <th>Magnesium</th>\n",
       "      <th>Total phenols</th>\n",
       "      <th>Flavanoids</th>\n",
       "      <th>Nonflavanoid phenols</th>\n",
       "      <th>Proanthocyanins</th>\n",
       "      <th>Color intensity</th>\n",
       "      <th>Hue</th>\n",
       "      <th>OD280/OD315 of diluted wines</th>\n",
       "      <th>Proline</th>\n",
       "    </tr>\n",
       "  </thead>\n",
       "  <tbody>\n",
       "    <tr>\n",
       "      <th>0</th>\n",
       "      <td>14.23</td>\n",
       "      <td>1.71</td>\n",
       "      <td>2.43</td>\n",
       "      <td>15.6</td>\n",
       "      <td>127</td>\n",
       "      <td>2.80</td>\n",
       "      <td>3.06</td>\n",
       "      <td>0.28</td>\n",
       "      <td>2.29</td>\n",
       "      <td>5.64</td>\n",
       "      <td>1.04</td>\n",
       "      <td>3.92</td>\n",
       "      <td>1065</td>\n",
       "    </tr>\n",
       "    <tr>\n",
       "      <th>1</th>\n",
       "      <td>13.20</td>\n",
       "      <td>1.78</td>\n",
       "      <td>2.14</td>\n",
       "      <td>11.2</td>\n",
       "      <td>100</td>\n",
       "      <td>2.65</td>\n",
       "      <td>2.76</td>\n",
       "      <td>0.26</td>\n",
       "      <td>1.28</td>\n",
       "      <td>4.38</td>\n",
       "      <td>1.05</td>\n",
       "      <td>3.40</td>\n",
       "      <td>1050</td>\n",
       "    </tr>\n",
       "    <tr>\n",
       "      <th>2</th>\n",
       "      <td>13.16</td>\n",
       "      <td>2.36</td>\n",
       "      <td>2.67</td>\n",
       "      <td>18.6</td>\n",
       "      <td>101</td>\n",
       "      <td>2.80</td>\n",
       "      <td>3.24</td>\n",
       "      <td>0.30</td>\n",
       "      <td>2.81</td>\n",
       "      <td>5.68</td>\n",
       "      <td>1.03</td>\n",
       "      <td>3.17</td>\n",
       "      <td>1185</td>\n",
       "    </tr>\n",
       "    <tr>\n",
       "      <th>3</th>\n",
       "      <td>14.37</td>\n",
       "      <td>1.95</td>\n",
       "      <td>2.50</td>\n",
       "      <td>16.8</td>\n",
       "      <td>113</td>\n",
       "      <td>3.85</td>\n",
       "      <td>3.49</td>\n",
       "      <td>0.24</td>\n",
       "      <td>2.18</td>\n",
       "      <td>7.80</td>\n",
       "      <td>0.86</td>\n",
       "      <td>3.45</td>\n",
       "      <td>1480</td>\n",
       "    </tr>\n",
       "    <tr>\n",
       "      <th>4</th>\n",
       "      <td>13.24</td>\n",
       "      <td>2.59</td>\n",
       "      <td>2.87</td>\n",
       "      <td>21.0</td>\n",
       "      <td>118</td>\n",
       "      <td>2.80</td>\n",
       "      <td>2.69</td>\n",
       "      <td>0.39</td>\n",
       "      <td>1.82</td>\n",
       "      <td>4.32</td>\n",
       "      <td>1.04</td>\n",
       "      <td>2.93</td>\n",
       "      <td>735</td>\n",
       "    </tr>\n",
       "    <tr>\n",
       "      <th>...</th>\n",
       "      <td>...</td>\n",
       "      <td>...</td>\n",
       "      <td>...</td>\n",
       "      <td>...</td>\n",
       "      <td>...</td>\n",
       "      <td>...</td>\n",
       "      <td>...</td>\n",
       "      <td>...</td>\n",
       "      <td>...</td>\n",
       "      <td>...</td>\n",
       "      <td>...</td>\n",
       "      <td>...</td>\n",
       "      <td>...</td>\n",
       "    </tr>\n",
       "    <tr>\n",
       "      <th>173</th>\n",
       "      <td>13.71</td>\n",
       "      <td>5.65</td>\n",
       "      <td>2.45</td>\n",
       "      <td>20.5</td>\n",
       "      <td>95</td>\n",
       "      <td>1.68</td>\n",
       "      <td>0.61</td>\n",
       "      <td>0.52</td>\n",
       "      <td>1.06</td>\n",
       "      <td>7.70</td>\n",
       "      <td>0.64</td>\n",
       "      <td>1.74</td>\n",
       "      <td>740</td>\n",
       "    </tr>\n",
       "    <tr>\n",
       "      <th>174</th>\n",
       "      <td>13.40</td>\n",
       "      <td>3.91</td>\n",
       "      <td>2.48</td>\n",
       "      <td>23.0</td>\n",
       "      <td>102</td>\n",
       "      <td>1.80</td>\n",
       "      <td>0.75</td>\n",
       "      <td>0.43</td>\n",
       "      <td>1.41</td>\n",
       "      <td>7.30</td>\n",
       "      <td>0.70</td>\n",
       "      <td>1.56</td>\n",
       "      <td>750</td>\n",
       "    </tr>\n",
       "    <tr>\n",
       "      <th>175</th>\n",
       "      <td>13.27</td>\n",
       "      <td>4.28</td>\n",
       "      <td>2.26</td>\n",
       "      <td>20.0</td>\n",
       "      <td>120</td>\n",
       "      <td>1.59</td>\n",
       "      <td>0.69</td>\n",
       "      <td>0.43</td>\n",
       "      <td>1.35</td>\n",
       "      <td>10.20</td>\n",
       "      <td>0.59</td>\n",
       "      <td>1.56</td>\n",
       "      <td>835</td>\n",
       "    </tr>\n",
       "    <tr>\n",
       "      <th>176</th>\n",
       "      <td>13.17</td>\n",
       "      <td>2.59</td>\n",
       "      <td>2.37</td>\n",
       "      <td>20.0</td>\n",
       "      <td>120</td>\n",
       "      <td>1.65</td>\n",
       "      <td>0.68</td>\n",
       "      <td>0.53</td>\n",
       "      <td>1.46</td>\n",
       "      <td>9.30</td>\n",
       "      <td>0.60</td>\n",
       "      <td>1.62</td>\n",
       "      <td>840</td>\n",
       "    </tr>\n",
       "    <tr>\n",
       "      <th>177</th>\n",
       "      <td>14.13</td>\n",
       "      <td>4.10</td>\n",
       "      <td>2.74</td>\n",
       "      <td>24.5</td>\n",
       "      <td>96</td>\n",
       "      <td>2.05</td>\n",
       "      <td>0.76</td>\n",
       "      <td>0.56</td>\n",
       "      <td>1.35</td>\n",
       "      <td>9.20</td>\n",
       "      <td>0.61</td>\n",
       "      <td>1.60</td>\n",
       "      <td>560</td>\n",
       "    </tr>\n",
       "  </tbody>\n",
       "</table>\n",
       "<p>178 rows × 13 columns</p>\n",
       "</div>"
      ],
      "text/plain": [
       "     Alcohol  Malic acid   Ash  Alcalinity of ash  Magnesium  Total phenols  \\\n",
       "0      14.23        1.71  2.43               15.6        127           2.80   \n",
       "1      13.20        1.78  2.14               11.2        100           2.65   \n",
       "2      13.16        2.36  2.67               18.6        101           2.80   \n",
       "3      14.37        1.95  2.50               16.8        113           3.85   \n",
       "4      13.24        2.59  2.87               21.0        118           2.80   \n",
       "..       ...         ...   ...                ...        ...            ...   \n",
       "173    13.71        5.65  2.45               20.5         95           1.68   \n",
       "174    13.40        3.91  2.48               23.0        102           1.80   \n",
       "175    13.27        4.28  2.26               20.0        120           1.59   \n",
       "176    13.17        2.59  2.37               20.0        120           1.65   \n",
       "177    14.13        4.10  2.74               24.5         96           2.05   \n",
       "\n",
       "     Flavanoids  Nonflavanoid phenols  Proanthocyanins  Color intensity   Hue  \\\n",
       "0          3.06                  0.28             2.29             5.64  1.04   \n",
       "1          2.76                  0.26             1.28             4.38  1.05   \n",
       "2          3.24                  0.30             2.81             5.68  1.03   \n",
       "3          3.49                  0.24             2.18             7.80  0.86   \n",
       "4          2.69                  0.39             1.82             4.32  1.04   \n",
       "..          ...                   ...              ...              ...   ...   \n",
       "173        0.61                  0.52             1.06             7.70  0.64   \n",
       "174        0.75                  0.43             1.41             7.30  0.70   \n",
       "175        0.69                  0.43             1.35            10.20  0.59   \n",
       "176        0.68                  0.53             1.46             9.30  0.60   \n",
       "177        0.76                  0.56             1.35             9.20  0.61   \n",
       "\n",
       "     OD280/OD315 of diluted wines  Proline  \n",
       "0                            3.92     1065  \n",
       "1                            3.40     1050  \n",
       "2                            3.17     1185  \n",
       "3                            3.45     1480  \n",
       "4                            2.93      735  \n",
       "..                            ...      ...  \n",
       "173                          1.74      740  \n",
       "174                          1.56      750  \n",
       "175                          1.56      835  \n",
       "176                          1.62      840  \n",
       "177                          1.60      560  \n",
       "\n",
       "[178 rows x 13 columns]"
      ]
     },
     "execution_count": 3,
     "metadata": {},
     "output_type": "execute_result"
    }
   ],
   "source": [
    "x"
   ]
  },
  {
   "cell_type": "code",
   "execution_count": 4,
   "metadata": {},
   "outputs": [
    {
     "name": "stdout",
     "output_type": "stream",
     "text": [
      "     Class label\n",
      "0              1\n",
      "1              1\n",
      "2              1\n",
      "3              1\n",
      "4              1\n",
      "..           ...\n",
      "173            3\n",
      "174            3\n",
      "175            3\n",
      "176            3\n",
      "177            3\n",
      "\n",
      "[178 rows x 1 columns]\n"
     ]
    },
    {
     "data": {
      "text/plain": [
       "178"
      ]
     },
     "execution_count": 4,
     "metadata": {},
     "output_type": "execute_result"
    }
   ],
   "source": [
    "print(y)\n",
    "y_array = y.to_numpy()\n",
    "len(y_array)"
   ]
  },
  {
   "cell_type": "code",
   "execution_count": 5,
   "metadata": {},
   "outputs": [
    {
     "data": {
      "text/plain": [
       "Class label\n",
       "2              71\n",
       "1              59\n",
       "3              48\n",
       "dtype: int64"
      ]
     },
     "execution_count": 5,
     "metadata": {},
     "output_type": "execute_result"
    }
   ],
   "source": [
    "y.value_counts()"
   ]
  },
  {
   "cell_type": "code",
   "execution_count": 6,
   "metadata": {},
   "outputs": [
    {
     "name": "stdout",
     "output_type": "stream",
     "text": [
      "[0, 0, 0, 0, 0, 0, 0, 0, 0, 0, 0, 0, 0, 0, 0, 0, 0, 0, 0, 0, 0, 0, 0, 0, 0, 0, 0, 0, 0, 0, 0, 0, 0, 0, 0, 0, 0, 0, 0, 0, 0, 0, 0, 0, 0, 0, 0, 0, 0, 0, 0, 0, 0, 0, 0, 0, 0, 0, 0, 1, 1, 1, 1, 1, 1, 1, 1, 1, 1, 1, 1, 1, 1, 1, 1, 1, 1, 1, 1, 1, 1, 1, 1, 1, 1, 1, 1, 1, 1, 1, 1, 1, 1, 1, 1, 1, 1, 1, 1, 1, 1, 1, 1, 1, 1, 1, 1, 1, 1, 1, 1, 1, 1, 1, 1, 1, 1, 1, 1, 1, 1, 1, 1, 1, 1, 1, 1, 1, 1, 1, 2, 2, 2, 2, 2, 2, 2, 2, 2, 2, 2, 2, 2, 2, 2, 2, 2, 2, 2, 2, 2, 2, 2, 2, 2, 2, 2, 2, 2, 2, 2, 2, 2, 2, 2, 2, 2, 2, 2, 2, 2, 2, 2, 2, 2, 2, 2, 2]\n"
     ]
    }
   ],
   "source": [
    "x_wine=np.array(x)\n",
    "y_wine =np.array(y)\n",
    "y_wine = y_wine.flatten()\n",
    "#print(y_wine)\n",
    "\n",
    "#len(y_wine)\n",
    "\n",
    "##use this ONCE\n",
    "y_wine = [x - 1 for x in y_wine]\n",
    "\n",
    "print(list(y_wine))"
   ]
  },
  {
   "cell_type": "code",
   "execution_count": 7,
   "metadata": {},
   "outputs": [
    {
     "name": "stdout",
     "output_type": "stream",
     "text": [
      "[1 1 1 1 0 1 1 1 1 1 1 1 1 1 1 1 1 1 1 0 0 0 1 1 0 0 1 1 0 1 1 1 1 1 1 0 0\n",
      " 1 1 0 0 1 1 0 0 1 1 1 1 1 1 1 1 1 1 1 1 1 1 2 0 2 0 2 2 0 2 2 0 0 0 2 2 1\n",
      " 0 2 2 2 0 2 2 0 0 2 2 2 2 2 0 0 2 2 2 2 2 0 0 2 0 2 0 2 2 2 0 2 2 2 2 0 2\n",
      " 2 0 2 2 2 2 2 2 2 0 2 2 2 2 2 2 2 2 2 0 2 2 0 0 0 0 2 2 2 0 0 2 2 0 0 2 0\n",
      " 0 2 2 2 2 0 0 0 2 0 0 0 2 0 2 0 0 2 0 0 0 0 2 2 0 0 0 0 0 2]\n"
     ]
    },
    {
     "data": {
      "text/plain": [
       "178"
      ]
     },
     "execution_count": 7,
     "metadata": {},
     "output_type": "execute_result"
    }
   ],
   "source": [
    "#Task 2: Cluster the data using K Means Algorithm\n",
    "import matplotlib.pyplot as plt \n",
    "from sklearn import cluster, datasets, metrics\n",
    "import seaborn as sns\n",
    "\n",
    "# Fit K-Means Clustering on noise moon data\n",
    "km=cluster.KMeans(n_clusters=3)\n",
    "km.fit(x_wine)\n",
    "#km.labels_\n",
    "prediction = km.predict(x_wine)\n",
    "print(prediction)\n",
    "\n",
    "len(prediction)"
   ]
  },
  {
   "cell_type": "code",
   "execution_count": 8,
   "metadata": {},
   "outputs": [],
   "source": [
    "prediction = list(prediction)"
   ]
  },
  {
   "cell_type": "code",
   "execution_count": 9,
   "metadata": {},
   "outputs": [
    {
     "name": "stdout",
     "output_type": "stream",
     "text": [
      "[[1]\n",
      " [1]\n",
      " [1]\n",
      " [1]\n",
      " [1]\n",
      " [1]\n",
      " [1]\n",
      " [1]\n",
      " [1]\n",
      " [1]\n",
      " [1]\n",
      " [1]\n",
      " [1]\n",
      " [1]\n",
      " [1]\n",
      " [1]\n",
      " [1]\n",
      " [1]\n",
      " [1]\n",
      " [1]\n",
      " [1]\n",
      " [1]\n",
      " [1]\n",
      " [1]\n",
      " [1]\n",
      " [1]\n",
      " [1]\n",
      " [1]\n",
      " [1]\n",
      " [1]\n",
      " [1]\n",
      " [1]\n",
      " [1]\n",
      " [1]\n",
      " [1]\n",
      " [1]\n",
      " [1]\n",
      " [1]\n",
      " [1]\n",
      " [1]\n",
      " [1]\n",
      " [1]\n",
      " [1]\n",
      " [1]\n",
      " [1]\n",
      " [1]\n",
      " [1]\n",
      " [1]\n",
      " [1]\n",
      " [1]\n",
      " [1]\n",
      " [1]\n",
      " [1]\n",
      " [1]\n",
      " [1]\n",
      " [1]\n",
      " [1]\n",
      " [1]\n",
      " [1]\n",
      " [2]\n",
      " [2]\n",
      " [2]\n",
      " [2]\n",
      " [2]\n",
      " [2]\n",
      " [2]\n",
      " [2]\n",
      " [2]\n",
      " [2]\n",
      " [2]\n",
      " [2]\n",
      " [2]\n",
      " [2]\n",
      " [2]\n",
      " [2]\n",
      " [2]\n",
      " [2]\n",
      " [2]\n",
      " [2]\n",
      " [2]\n",
      " [2]\n",
      " [2]\n",
      " [2]\n",
      " [2]\n",
      " [2]\n",
      " [2]\n",
      " [2]\n",
      " [2]\n",
      " [2]\n",
      " [2]\n",
      " [2]\n",
      " [2]\n",
      " [2]\n",
      " [2]\n",
      " [2]\n",
      " [2]\n",
      " [2]\n",
      " [2]\n",
      " [2]\n",
      " [2]\n",
      " [2]\n",
      " [2]\n",
      " [2]\n",
      " [2]\n",
      " [2]\n",
      " [2]\n",
      " [2]\n",
      " [2]\n",
      " [2]\n",
      " [2]\n",
      " [2]\n",
      " [2]\n",
      " [2]\n",
      " [2]\n",
      " [2]\n",
      " [2]\n",
      " [2]\n",
      " [2]\n",
      " [2]\n",
      " [2]\n",
      " [2]\n",
      " [2]\n",
      " [2]\n",
      " [2]\n",
      " [2]\n",
      " [2]\n",
      " [2]\n",
      " [2]\n",
      " [2]\n",
      " [2]\n",
      " [3]\n",
      " [3]\n",
      " [3]\n",
      " [3]\n",
      " [3]\n",
      " [3]\n",
      " [3]\n",
      " [3]\n",
      " [3]\n",
      " [3]\n",
      " [3]\n",
      " [3]\n",
      " [3]\n",
      " [3]\n",
      " [3]\n",
      " [3]\n",
      " [3]\n",
      " [3]\n",
      " [3]\n",
      " [3]\n",
      " [3]\n",
      " [3]\n",
      " [3]\n",
      " [3]\n",
      " [3]\n",
      " [3]\n",
      " [3]\n",
      " [3]\n",
      " [3]\n",
      " [3]\n",
      " [3]\n",
      " [3]\n",
      " [3]\n",
      " [3]\n",
      " [3]\n",
      " [3]\n",
      " [3]\n",
      " [3]\n",
      " [3]\n",
      " [3]\n",
      " [3]\n",
      " [3]\n",
      " [3]\n",
      " [3]\n",
      " [3]\n",
      " [3]\n",
      " [3]\n",
      " [3]]\n"
     ]
    }
   ],
   "source": [
    "#print(y)\n",
    "y_array_2d = y.to_numpy()\n",
    "print(y_array_2d)"
   ]
  },
  {
   "cell_type": "code",
   "execution_count": 10,
   "metadata": {},
   "outputs": [
    {
     "name": "stdout",
     "output_type": "stream",
     "text": [
      "Completeness: 0.429\n",
      "Silhouette Coefficient: 0.270\n"
     ]
    }
   ],
   "source": [
    "print(\"Completeness: %0.3f\" % metrics.completeness_score(y_wine, prediction))\n",
    "print(\"Silhouette Coefficient: %0.3f\"% metrics.silhouette_score(y_array_2d, prediction))"
   ]
  },
  {
   "cell_type": "code",
   "execution_count": 11,
   "metadata": {},
   "outputs": [
    {
     "data": {
      "image/png": "[encoded data removed]",
      "text/plain": [
       "<Figure size 576x360 with 1 Axes>"
      ]
     },
     "metadata": {
      "needs_background": "light"
     },
     "output_type": "display_data"
    }
   ],
   "source": [
    "##TO DO : create legends\n",
    "\n",
    "plt.figure(figsize=(8,5))\n",
    "plt.title(\"Wine Data\", fontsize=18)\n",
    "plt.grid(True)\n",
    "plt.scatter(x_wine[:,0],x_wine[:,1],c=y_wine)\n",
    "plt.savefig('WINE_DATA.png', dpi=300)\n",
    "plt.show()"
   ]
  },
  {
   "cell_type": "code",
   "execution_count": 12,
   "metadata": {},
   "outputs": [
    {
     "data": {
      "image/png": "[encoded data removed]",
      "text/plain": [
       "<Figure size 576x360 with 1 Axes>"
      ]
     },
     "metadata": {
      "needs_background": "light"
     },
     "output_type": "display_data"
    }
   ],
   "source": [
    "# Write your code here for task 4\n",
    "\n",
    "##TO DO : create legends\n",
    "\n",
    "plt.figure(figsize=(8,5))\n",
    "plt.title(\"Wine Data\", fontsize=18)\n",
    "plt.grid(True)\n",
    "plt.scatter(x_wine[:,0],x_wine[:,1],c=prediction)\n",
    "plt.savefig('WINE_DATA.png', dpi=300)\n",
    "plt.show()"
   ]
  },
  {
   "cell_type": "code",
   "execution_count": 13,
   "metadata": {},
   "outputs": [],
   "source": [
    "# Standardizing the data\n",
    "# Standardize features by removing the mean and scaling to unit variance\n",
    "# The standard score of a sample x is calculated as:\n",
    "# z = (x - u) / s\n",
    "from sklearn.model_selection import train_test_split\n",
    "X, y = df_wine.iloc[:, 1:].values, df_wine.iloc[:, 0].values\n",
    "\n",
    "X_train, X_test, y_train, y_test = train_test_split(X, y, test_size=0.3, stratify=y, random_state=0)\n",
    "from sklearn.preprocessing import StandardScaler\n",
    "sc = StandardScaler()\n",
    "X_train_std = sc.fit_transform(X_train)\n",
    "X_test_std = sc.transform(X_test)"
   ]
  },
  {
   "cell_type": "code",
   "execution_count": 14,
   "metadata": {},
   "outputs": [
    {
     "data": {
      "text/plain": [
       "array([[ 0.71225893,  2.22048673, -0.13025864, ..., -0.20017028,\n",
       "        -0.82164144, -0.62946362],\n",
       "       [ 0.88229214, -0.70457155,  1.17533605, ...,  1.33982592,\n",
       "         0.54931269,  1.47568796],\n",
       "       [ 0.84585645, -0.73022996,  1.17533605, ...,  1.06806189,\n",
       "         0.1308109 ,  1.62934866],\n",
       "       ...,\n",
       "       [ 1.02803489,  2.29746195, -0.5778911 , ..., -1.69487249,\n",
       "        -1.86068037, -1.04434751],\n",
       "       [-1.30384913, -1.08089484, -0.31677217, ...,  0.16218176,\n",
       "         0.73691694,  0.40313628],\n",
       "       [-0.40510216,  1.29678411,  0.05625489, ...,  1.06806189,\n",
       "         0.73691694, -0.89683324]])"
      ]
     },
     "execution_count": 14,
     "metadata": {},
     "output_type": "execute_result"
    }
   ],
   "source": [
    "X_train_std"
   ]
  },
  {
   "cell_type": "code",
   "execution_count": 15,
   "metadata": {},
   "outputs": [
    {
     "data": {
      "text/plain": [
       "array([[ 8.94437367e-01, -3.88117877e-01,  1.10073064e+00,\n",
       "        -8.12017114e-01,  1.13201117e+00,  1.09807851e+00,\n",
       "         7.12041017e-01,  1.81013423e-01,  6.62804643e-02,\n",
       "         5.12859235e-01,  7.96297849e-01,  4.48295020e-01,\n",
       "         1.90593792e+00],\n",
       "       [-1.04879931e+00, -7.72993966e-01,  5.41190056e-01,\n",
       "        -2.40938809e-01,  3.49414498e-01, -7.07219221e-01,\n",
       "        -3.08121293e-01,  6.76138376e-01, -1.03520519e+00,\n",
       "        -9.06567274e-01,  2.24570604e+00, -5.61881713e-01,\n",
       "        -1.22874035e+00],\n",
       "       [ 1.64744158e+00, -4.13776283e-01,  2.42768413e-01,\n",
       "        -1.56343594e+00, -2.19746720e-01,  2.84881333e-01,\n",
       "         4.47191186e-01, -5.61674005e-01,  5.74658458e-01,\n",
       "         6.79643589e-02,  2.98063782e-01,  1.38631627e+00,\n",
       "         1.64471473e+00],\n",
       "       [ 2.02159300e-01, -4.90751501e-01, -9.13615453e-01,\n",
       "        -2.58536553e+00,  6.48338887e-02,  5.28840485e-01,\n",
       "         6.82613258e-01, -8.91757306e-01, -6.11556861e-01,\n",
       "        -3.00662824e-01,  4.33945800e-01,  1.12655654e+00,\n",
       "         9.07143373e-01],\n",
       "       [-8.05894728e-01, -1.09800044e+00, -1.06282627e+00,\n",
       "        -3.91222574e-01, -7.88907938e-01,  1.94380357e+00,\n",
       "         1.65372930e+00, -1.05679896e+00,  5.23820659e-01,\n",
       "        -2.49817695e-01,  3.88651794e-01,  2.17397481e-01,\n",
       "        -2.91410081e-01],\n",
       "       [-7.08732894e-01,  5.78348747e-01,  9.51519815e-01,\n",
       "         2.16360142e+00, -1.48601568e-01, -6.90955277e-01,\n",
       "        -1.45580389e+00,  2.16151323e+00, -8.48799925e-01,\n",
       "         1.02131052e+00, -1.28722643e+00, -1.28343652e+00,\n",
       "         3.84696996e-01],\n",
       "       [-1.44959188e+00,  4.58609519e-01, -5.77891105e-01,\n",
       "        -5.41506338e-01,  9.18575715e-01, -9.83706260e-01,\n",
       "        -7.29919172e-01,  5.11096725e-01, -1.17077265e+00,\n",
       "        -1.03368010e+00,  2.62997455e-02, -1.43379923e-01,\n",
       "        -7.83124318e-01],\n",
       "       [ 5.05790031e-01,  1.15138648e+00,  8.02308994e-01,\n",
       "         9.61331305e-01,  8.47430563e-01, -1.01623415e+00,\n",
       "        -1.12228929e+00,  5.11096725e-01, -3.06530065e-01,\n",
       "         2.36870643e+00, -4.71934321e-01, -1.52876516e+00,\n",
       "        -1.83847591e-01],\n",
       "       [ 8.58001680e-01, -5.84832323e-01, -5.03285694e-01,\n",
       "        -1.02241438e+00,  1.34544663e+00,  4.47520768e-01,\n",
       "         8.19942800e-01, -1.30436143e+00, -3.53951345e-02,\n",
       "         3.22190002e-01, -1.54876279e-01,  8.37934618e-01,\n",
       "         9.37875512e-01],\n",
       "       [ 3.47902051e-01,  7.57957588e-01, -1.83505244e-02,\n",
       "         5.10480012e-01, -5.04327329e-01, -6.42163447e-01,\n",
       "        -1.27923734e+00,  6.76138376e-01, -6.62394660e-01,\n",
       "         1.41112317e+00, -1.83075450e+00, -1.44217858e+00,\n",
       "        -3.22142221e-01],\n",
       "       [ 8.70146909e-01, -5.33515511e-01,  9.35575917e-02,\n",
       "        -1.14264140e+00, -7.17762786e-01,  4.47520768e-01,\n",
       "         6.82613258e-01, -6.44194830e-01,  2.86577595e-01,\n",
       "         2.16262651e-01,  8.86885861e-01,  4.05001732e-01,\n",
       "         1.73691115e+00],\n",
       "       [-9.03056562e-01, -8.07205174e-01, -1.51045874e+00,\n",
       "        -1.14264140e+00, -1.00234339e+00,  3.66201050e-01,\n",
       "         4.27572680e-01, -6.44194830e-01,  2.18793862e-01,\n",
       "        -9.27752744e-01,  1.24923791e+00,  1.74104193e-01,\n",
       "        -1.00439572e+00],\n",
       "       [ 9.06582597e-01,  3.47423093e-01, -3.16772167e-01,\n",
       "         6.60763777e-01, -6.46617634e-01, -1.58547217e+00,\n",
       "        -1.35771136e+00,  3.46055074e-01, -1.03520519e+00,\n",
       "         1.90262608e+00, -1.15134441e+00, -1.35559200e+00,\n",
       "        -4.29704710e-01],\n",
       "       [ 1.00374443e+00, -8.58521986e-01, -4.28680283e-01,\n",
       "        -1.14264140e+00, -7.74564157e-02,  1.06555062e+00,\n",
       "         1.06517412e+00, -1.22184061e+00,  3.54361327e-01,\n",
       "         9.02671888e-01,  2.52769776e-01,  1.34302298e+00,\n",
       "         8.91777303e-01],\n",
       "       [-8.18039958e-01,  1.26257291e+00, -1.83505244e-02,\n",
       "         3.60196248e-01, -7.88907938e-01, -4.03975371e-02,\n",
       "        -1.12228929e+00,  1.08874250e+00, -1.01825926e+00,\n",
       "         1.08486693e+00, -1.78546050e+00, -1.49990297e+00,\n",
       "        -7.21660038e-01],\n",
       "       [ 9.28522366e-02, -3.88117877e-01,  1.36184957e+00,\n",
       "         1.71275013e+00,  1.20315632e+00, -2.03036972e-01,\n",
       "        -7.69156184e-01, -8.91757306e-01, -1.37070733e-01,\n",
       "         8.51826759e-01, -1.55899047e+00, -1.86068037e+00,\n",
       "        -1.01361537e+00],\n",
       "       [ 5.66516178e-01, -4.65093095e-01,  8.39611699e-01,\n",
       "         5.96287194e-02, -2.19746720e-01,  3.33673163e-01,\n",
       "         5.35474463e-01, -7.26715656e-01,  3.23885980e-02,\n",
       "        -6.65052913e-01,  7.51003843e-01,  1.73266258e+00,\n",
       "         2.77134506e-01],\n",
       "       [ 1.44097268e+00,  1.39941774e+00,  4.66584645e-01,\n",
       "        -1.98423048e+00,  2.05689815e+00,  1.09807851e+00,\n",
       "         9.57272342e-01, -1.38688226e+00,  7.44117790e-01,\n",
       "         4.40794804e-03, -2.90758297e-01,  1.31416079e+00,\n",
       "         1.59113176e-02],\n",
       "       [-1.98633266e-01,  1.92969146e+00,  3.54676529e-01,\n",
       "         5.10480012e-01, -9.31198243e-01, -1.01623415e+00,\n",
       "        -1.38713912e+00,  8.41180026e-01, -1.32328605e+00,\n",
       "         1.08486693e+00, -1.87604851e+00, -1.09583227e+00,\n",
       "        -3.98972570e-01],\n",
       "       [-6.84442436e-01, -7.13124352e-01, -6.89799221e-01,\n",
       "        -2.40938809e-01,  4.47583333e+00,  2.84881333e-01,\n",
       "         2.01959862e-01, -3.96632354e-01,  2.77762977e+00,\n",
       "        -1.05486557e+00,  9.32179867e-01,  1.53621347e-02,\n",
       "         5.59870193e-01],\n",
       "       [ 1.62315112e+00, -3.45353867e-01,  4.29281940e-01,\n",
       "        -9.02187372e-01,  9.89720868e-01,  2.48051371e+00,\n",
       "         1.39868873e+00, -1.05679896e+00,  9.13577121e-01,\n",
       "         1.14842334e+00, -4.26640315e-01,  1.19871202e+00,\n",
       "         2.22862539e+00],\n",
       "       [ 8.45856450e-01,  1.71587141e+00, -4.65982989e-01,\n",
       "         8.11047541e-01, -7.88907938e-01, -1.69931977e+00,\n",
       "        -1.56370568e+00,  1.25378415e+00, -8.31853992e-01,\n",
       "         6.48446244e-01, -7.88992364e-01, -1.25457433e+00,\n",
       "        -7.21660038e-01],\n",
       "       [-4.30959748e-03, -1.24339808e+00, -2.51763178e+00,\n",
       "        -1.14264140e+00, -9.31198243e-01, -6.09635560e-01,\n",
       "        -3.34622098e-02, -1.05679896e+00, -3.06530065e-01,\n",
       "        -2.07446755e-01,  1.06806189e+00, -2.01104308e-01,\n",
       "        -1.11503143e+00],\n",
       "       [-7.45168582e-01, -6.36149134e-01, -7.27101926e-01,\n",
       "         8.11047541e-01,  6.33995107e-01, -5.28315842e-01,\n",
       "         2.53933081e-02, -2.31590703e-01, -5.23410677e-02,\n",
       "        -1.28366864e+00,  4.79239806e-01,  4.91588309e-01,\n",
       "        -1.25947249e+00],\n",
       "       [-1.54675371e+00,  2.79000678e-01,  1.99599557e+00,\n",
       "         5.96287194e-02,  2.78269345e-01, -9.34914430e-01,\n",
       "        -3.34622098e-02,  1.91395076e+00, -1.00131332e+00,\n",
       "        -5.46414279e-01,  1.24923791e+00, -1.72242116e-01,\n",
       "        -4.54290422e-01],\n",
       "       [-7.33023353e-01, -7.04571550e-01, -3.54074873e-01,\n",
       "         5.10480012e-01, -9.31198243e-01,  6.75215977e-01,\n",
       "         1.06517412e+00,  1.81013423e-01,  2.18793862e-01,\n",
       "        -4.87094962e-01, -1.19663842e+00,  3.18415155e-01,\n",
       "        -1.23795999e+00],\n",
       "       [ 1.45311791e+00, -5.50621115e-01,  1.68163002e-01,\n",
       "        -1.26286841e+00,  1.98575300e+00,  7.72799638e-01,\n",
       "         9.76890848e-01, -7.26715656e-01,  1.09998239e+00,\n",
       "         2.33211027e-01,  3.88651794e-01,  1.87697354e+00,\n",
       "         9.53241582e-01],\n",
       "       [ 3.96482968e-01,  1.76367054e-01, -1.30258641e-01,\n",
       "         5.96287194e-02, -7.17762786e-01, -1.50415245e+00,\n",
       "        -1.53427792e+00,  1.59717727e-02, -1.69609658e+00,\n",
       "         2.16262651e-01, -1.15134441e+00, -2.15535404e-01,\n",
       "         7.73755972e-02],\n",
       "       [ 5.66516178e-01,  6.55323965e-01,  8.76914404e-01,\n",
       "         1.26189883e+00,  1.70117239e+00, -1.50415245e+00,\n",
       "        -4.84687847e-01, -1.22184061e+00, -6.62394660e-01,\n",
       "         1.48739087e+00, -1.64957848e+00, -1.90397366e+00,\n",
       "        -7.83124318e-01],\n",
       "       [-8.05894728e-01, -1.04668363e+00, -8.39010042e-01,\n",
       "        -2.40938809e-01, -8.60053090e-01,  1.91127568e+00,\n",
       "         1.01612786e+00, -1.46940308e+00,  3.88253194e-01,\n",
       "        -2.71003166e-01,  1.20394390e+00,  3.61708443e-01,\n",
       "        -1.02898144e+00],\n",
       "       [-1.25761890e-01,  1.23691450e+00,  9.88822520e-01,\n",
       "        -3.61165821e-01,  2.07124193e-01,  1.38505841e-01,\n",
       "         3.39289404e-01, -9.74278132e-01,  5.74658458e-01,\n",
       "        -2.49817695e-01,  3.43357788e-01,  1.29972970e+00,\n",
       "         4.66434574e-02],\n",
       "       [ 1.65723612e-01,  2.02025460e-01, -5.56532298e-02,\n",
       "         5.96287194e-02,  1.48773693e+00, -1.09755386e+00,\n",
       "        -1.35771136e+00,  1.33630498e+00, -3.06530065e-01,\n",
       "         1.78398745e+00, -1.60428447e+00, -1.44217858e+00,\n",
       "         2.61768436e-01],\n",
       "       [ 1.42882745e+00,  1.44218175e+00,  2.05465708e-01,\n",
       "        -2.70995562e-01,  8.47430563e-01,  8.54119356e-01,\n",
       "         5.74711475e-01, -5.61674005e-01, -6.62394660e-01,\n",
       "         6.37272648e-02, -3.81346309e-01,  1.02553887e+00,\n",
       "         9.99339792e-01],\n",
       "       [-1.71678692e+00, -3.11142659e-01, -3.91377578e-01,\n",
       "        -5.41506338e-01, -7.74564157e-02,  1.13060640e+00,\n",
       "         1.92150609e-01, -1.63444473e+00, -4.92935329e-01,\n",
       "        -7.79454452e-01,  9.32179867e-01,  4.91588309e-01,\n",
       "        -1.25947249e+00],\n",
       "       [-1.15810638e+00, -4.47987491e-01, -2.42166757e-01,\n",
       "        -3.91222574e-01, -1.28692400e+00, -1.17887358e+00,\n",
       "        -5.53352618e-01,  1.25378415e+00, -1.50326826e-03,\n",
       "        -1.13960745e+00,  5.69827818e-01, -5.04157328e-01,\n",
       "        -8.44588598e-01],\n",
       "       [ 1.05232535e+00, -5.76279521e-01, -9.88220864e-01,\n",
       "        -1.14264140e+00,  1.35979041e-01,  1.26071794e+00,\n",
       "         1.30059620e+00, -1.30436143e+00,  8.45793388e-01,\n",
       "         4.28117354e-01, -2.00170285e-01,  1.02553887e+00,\n",
       "         7.07384464e-01],\n",
       "       [-9.03056562e-01, -6.36149134e-01, -6.52496516e-01,\n",
       "         1.79855731e-01,  2.78269345e-01, -1.99207076e+00,\n",
       "        -1.02419676e+00,  1.59717727e-02, -3.06530065e-01,\n",
       "        -8.64196333e-01, -2.18287887e-01, -1.15355666e+00,\n",
       "         3.53964856e-01],\n",
       "       [ 4.42713195e-02, -7.30229956e-01, -1.06282627e+00,\n",
       "        -1.29292516e+00, -7.74564157e-02,  1.22241898e-01,\n",
       "         5.64902222e-01, -7.26715656e-01, -4.59043463e-01,\n",
       "        -5.88785220e-01,  1.02276788e+00,  1.01948712e-01,\n",
       "         8.14946953e-01],\n",
       "       [ 1.99808610e-02, -4.99304303e-01, -1.06282627e+00,\n",
       "        -8.42073866e-01,  5.62849954e-01,  1.09807851e+00,\n",
       "         9.18035330e-01, -7.26715656e-01,  6.59388124e-01,\n",
       "        -2.10146163e-02, -3.36052303e-01,  1.05440106e+00,\n",
       "         4.00063065e-01],\n",
       "       [-4.05102163e-01,  1.02309445e+00, -9.29559351e-02,\n",
       "         5.10480012e-01,  4.91704802e-01, -1.01623415e+00,\n",
       "        -8.47630207e-01, -1.63444473e+00, -1.35717792e+00,\n",
       "        -3.79629925e-02, -7.88992364e-01, -1.91840476e+00,\n",
       "        -4.75802920e-01],\n",
       "       [-9.51637479e-01,  1.30533692e+00, -6.89799221e-01,\n",
       "        -3.91222574e-01,  9.18575715e-01, -1.53668034e+00,\n",
       "        -1.25961883e+00, -6.44194830e-01, -8.48799925e-01,\n",
       "         1.32214420e+00, -1.37781444e+00, -8.93796926e-01,\n",
       "         3.07866646e-01],\n",
       "       [-1.25526821e+00,  9.20460826e-01, -1.43585333e+00,\n",
       "        -2.40938809e-01, -8.60053090e-01, -5.28315842e-01,\n",
       "        -4.16023076e-01,  1.59717727e-02,  3.88253194e-01,\n",
       "        -1.61416198e+00, -1.09582273e-01,  6.21468175e-01,\n",
       "        -5.86438623e-01],\n",
       "       [-5.26554455e-01, -8.67074788e-01, -1.80888038e+00,\n",
       "        -3.91222574e-01, -7.88907938e-01, -1.42283273e+00,\n",
       "        -6.90682160e-01, -6.44194830e-01, -4.92935329e-01,\n",
       "        -1.11842198e+00,  3.88651794e-01,  2.17397481e-01,\n",
       "        -5.92585051e-01],\n",
       "       [-1.15810638e+00, -2.34167441e-01, -2.55493449e+00,\n",
       "        -6.91790102e-01, -1.48601568e-01, -1.54245142e-01,\n",
       "         1.03867332e-01, -8.91757306e-01, -4.08205663e-01,\n",
       "        -7.58268982e-01,  1.43041393e+00,  4.91588309e-01,\n",
       "        -1.37749382e-01],\n",
       "       [ 7.36549387e-01,  6.38218361e-01,  6.53098172e-01,\n",
       "        -1.38309542e+00,  1.20315632e+00,  6.10160203e-01,\n",
       "         9.47463089e-01, -1.63444473e+00,  3.23885980e-02,\n",
       "         4.40794804e-03,  2.62997455e-02,  1.06883216e+00,\n",
       "         2.77134506e-01],\n",
       "       [-7.45168582e-01,  1.67814252e-01, -4.28680283e-01,\n",
       "         6.60763777e-01, -6.46617634e-01, -1.04876203e+00,\n",
       "        -2.19838016e-01,  2.40907571e+00, -3.74313797e-01,\n",
       "        -1.01249463e+00, -4.26640315e-01,  9.82245580e-01,\n",
       "        -1.35166890e+00],\n",
       "       [-2.43335545e+00, -7.21677154e-01, -6.89799221e-01,\n",
       "         5.10480012e-01, -1.00234339e+00,  2.19825559e-01,\n",
       "         1.03867332e-01,  1.25378415e+00,  6.25496258e-01,\n",
       "        -1.35146215e+00,  3.42335020e+00,  3.61708443e-01,\n",
       "        -1.06893322e+00],\n",
       "       [-1.25761890e-01,  3.90187103e-01,  1.17533605e+00,\n",
       "         3.60196248e-01, -2.19746720e-01, -1.27645724e+00,\n",
       "        -1.53427792e+00,  1.33630498e+00, -1.50969132e+00,\n",
       "        -2.07446755e-01, -8.34286370e-01, -4.46432944e-01,\n",
       "        -4.75802920e-01],\n",
       "       [-1.06094454e+00, -6.36149134e-01, -2.79469462e-01,\n",
       "         9.01217799e-01, -6.46617634e-01, -8.86122599e-01,\n",
       "        -3.66976811e-01,  5.11096725e-01, -1.37070733e-01,\n",
       "        -1.11842198e+00,  1.70217797e+00, -5.18588425e-01,\n",
       "        -7.98490388e-01],\n",
       "       [-1.86488036e-01,  5.44137539e-01,  5.62548863e-02,\n",
       "         5.96287194e-02,  3.49414498e-01, -1.66679189e+00,\n",
       "        -8.28011701e-01, -1.05679896e+00, -1.37412385e+00,\n",
       "         1.31520770e-01, -9.70168388e-01, -1.73080050e+00,\n",
       "        -6.90927899e-01],\n",
       "       [-8.54475645e-01, -1.07234204e+00, -3.91377578e-01,\n",
       "        -1.14264140e+00,  1.35979041e-01, -4.46996125e-01,\n",
       "        -9.55531990e-01,  2.16151323e+00, -2.08585304e+00,\n",
       "        -7.70980264e-01,  1.33982592e+00, -1.37002310e+00,\n",
       "        -2.29945801e-01],\n",
       "       [-8.05894728e-01, -1.20918687e+00, -3.82322647e+00,\n",
       "        -2.76570605e+00, -7.88907938e-01, -5.60843729e-01,\n",
       "        -1.46561315e+00, -7.26715656e-01, -2.06890711e+00,\n",
       "        -1.33027668e+00,  4.33945800e-01, -1.15355666e+00,\n",
       "        -7.21660038e-01],\n",
       "       [ 2.99321134e-01, -6.10490728e-01,  1.69757392e+00,\n",
       "        -1.29292516e+00,  7.76285411e-01,  4.47520768e-01,\n",
       "         6.04139234e-01, -2.31590703e-01, -4.75989396e-01,\n",
       "        -2.07446755e-01,  6.15121824e-01,  2.31828578e-01,\n",
       "         3.84696996e-01],\n",
       "       [-2.22923724e-01, -6.44701936e-01,  5.03887351e-01,\n",
       "        -6.01619844e-01, -2.90891872e-01,  2.52353446e-01,\n",
       "         3.00052392e-01, -8.91757306e-01, -3.06530065e-01,\n",
       "        -4.91332056e-01,  6.15121824e-01,  1.45847175e+00,\n",
       "         7.99580883e-01]])"
      ]
     },
     "execution_count": 15,
     "metadata": {},
     "output_type": "execute_result"
    }
   ],
   "source": [
    "X_test_std"
   ]
  },
  {
   "cell_type": "code",
   "execution_count": 16,
   "metadata": {},
   "outputs": [],
   "source": [
    "from sklearn.decomposition import PCA"
   ]
  },
  {
   "cell_type": "code",
   "execution_count": 17,
   "metadata": {},
   "outputs": [
    {
     "data": {
      "text/plain": [
       "array([0.36951469, 0.18434927, 0.11815159, 0.07334252, 0.06422108,\n",
       "       0.05051724, 0.03954654, 0.02643918, 0.02389319, 0.01629614,\n",
       "       0.01380021, 0.01172226, 0.00820609])"
      ]
     },
     "execution_count": 17,
     "metadata": {},
     "output_type": "execute_result"
    }
   ],
   "source": [
    "pca = PCA()\n",
    "X_train_pca = pca.fit_transform(X_train_std)\n",
    "pca.explained_variance_ratio_\n"
   ]
  },
  {
   "cell_type": "code",
   "execution_count": 18,
   "metadata": {},
   "outputs": [
    {
     "data": {
      "image/png": "[encoded data removed]",
      "text/plain": [
       "<Figure size 432x288 with 1 Axes>"
      ]
     },
     "metadata": {
      "needs_background": "light"
     },
     "output_type": "display_data"
    }
   ],
   "source": [
    "import matplotlib.pyplot as plt\n",
    "plt.bar(range(1, 14), pca.explained_variance_ratio_, alpha=0.5, align='center')\n",
    "plt.step(range(1, 14), np.cumsum(pca.explained_variance_ratio_), where='mid')\n",
    "plt.ylabel('Explained variance ratio')\n",
    "plt.xlabel('Principal components')\n",
    "plt.savefig('PCA_WINE.png', dpi=300)\n",
    "plt.show()"
   ]
  },
  {
   "cell_type": "code",
   "execution_count": 19,
   "metadata": {},
   "outputs": [],
   "source": [
    "#Task 5: Apply PCA with n_components=2 on X_train_std data and transform test data accordingly\n",
    "pca = PCA(n_components =2)\n",
    "X_train_pca = pca.fit_transform(X_train_std)\n",
    "X_test_pca = pca.transform(X_test_std)"
   ]
  },
  {
   "cell_type": "code",
   "execution_count": 20,
   "metadata": {},
   "outputs": [
    {
     "data": {
      "image/png": "[encoded data removed]",
      "text/plain": [
       "<Figure size 432x288 with 1 Axes>"
      ]
     },
     "metadata": {
      "needs_background": "light"
     },
     "output_type": "display_data"
    }
   ],
   "source": [
    "# Plot the first two principal components\n",
    "plt.scatter(X_train_pca[:, 0], X_train_pca[:, 1])\n",
    "plt.xlabel('PC 1')\n",
    "plt.ylabel('PC 2')\n",
    "plt.savefig('PCA_WINE_ULBL.png', dpi=300)\n",
    "plt.show()\n"
   ]
  },
  {
   "cell_type": "code",
   "execution_count": 21,
   "metadata": {},
   "outputs": [
    {
     "data": {
      "text/plain": [
       "array([1, 2, 3], dtype=int64)"
      ]
     },
     "execution_count": 21,
     "metadata": {},
     "output_type": "execute_result"
    }
   ],
   "source": [
    "np.unique(y_train)"
   ]
  },
  {
   "cell_type": "code",
   "execution_count": 22,
   "metadata": {},
   "outputs": [
    {
     "data": {
      "image/png": "[encoded data removed]",
      "text/plain": [
       "<Figure size 432x288 with 1 Axes>"
      ]
     },
     "metadata": {
      "needs_background": "light"
     },
     "output_type": "display_data"
    }
   ],
   "source": [
    "# Plot of two best principal components using y_train data\n",
    "colors = ['r', 'b', 'g']\n",
    "markers = ['s', 'x', 'o']\n",
    "\n",
    "for l, c, m in zip(np.unique(y_train), colors, markers):\n",
    "    plt.scatter(X_train_pca[y_train == l, 0], \n",
    "                X_train_pca[y_train == l, 1], \n",
    "                c=c, label=l, marker=m)\n",
    "    plt.xlabel('PC 1')\n",
    "    plt.ylabel('PC 2')\n",
    "    plt.legend()\n",
    "    plt.savefig('PCA_WINE_LBL.png', dpi=300)"
   ]
  },
  {
   "cell_type": "code",
   "execution_count": 23,
   "metadata": {},
   "outputs": [],
   "source": [
    "from matplotlib.colors import ListedColormap\n",
    "\n",
    "def plot_decision_regions(X, y, classifier, resolution=0.02):\n",
    "\n",
    "    # setup marker generator and color map\n",
    "    markers = ('s', 'x', 'o', '^', 'v')\n",
    "    colors = ('red', 'blue', 'lightgreen', 'gray', 'cyan')\n",
    "    cmap = ListedColormap(colors[:len(np.unique(y))])\n",
    "\n",
    "    # plot the decision surface\n",
    "    x1_min, x1_max = X[:, 0].min() - 1, X[:, 0].max() + 1\n",
    "    x2_min, x2_max = X[:, 1].min() - 1, X[:, 1].max() + 1\n",
    "    xx1, xx2 = np.meshgrid(np.arange(x1_min, x1_max, resolution),\n",
    "                           np.arange(x2_min, x2_max, resolution))\n",
    "    Z = classifier.predict(np.array([xx1.ravel(), xx2.ravel()]).T)\n",
    "    Z = Z.reshape(xx1.shape)\n",
    "    plt.contourf(xx1, xx2, Z, alpha=0.4, cmap=cmap)\n",
    "    plt.xlim(xx1.min(), xx1.max())\n",
    "    plt.ylim(xx2.min(), xx2.max())\n",
    "\n",
    "    # plot class samples\n",
    "    for idx, cl in enumerate(np.unique(y)):\n",
    "        plt.scatter(x=X[y == cl, 0], \n",
    "                    y=X[y == cl, 1],\n",
    "                    alpha=0.6, \n",
    "                    c=cmap(idx),\n",
    "                    edgecolor='black',\n",
    "                    marker=markers[idx], \n",
    "                    label=cl)"
   ]
  },
  {
   "cell_type": "code",
   "execution_count": 24,
   "metadata": {},
   "outputs": [],
   "source": [
    "from sklearn.linear_model import LogisticRegression\n",
    "from sklearn.metrics import accuracy_score\n",
    "\n",
    "pca = PCA(n_components=2)\n",
    "X_train_pca = pca.fit_transform(X_train_std)\n",
    "X_test_pca = pca.transform(X_test_std)"
   ]
  },
  {
   "cell_type": "code",
   "execution_count": 25,
   "metadata": {},
   "outputs": [
    {
     "name": "stdout",
     "output_type": "stream",
     "text": [
      "Accuracy on test is = 92.592593\n"
     ]
    }
   ],
   "source": [
    "# Task 6: Complete the code below and fill the code for plot in the cell given below:\n",
    "lr = LogisticRegression()\n",
    "lr = lr.fit(X_train_pca,y_train) # Train a Logistic regression model\n",
    "pred_lab=lr.predict(X_test_pca) # Test on the test data\n",
    "print(\"Accuracy on test is = %f\" % (100 * accuracy_score(y_test, pred_lab)))"
   ]
  },
  {
   "cell_type": "code",
   "execution_count": 26,
   "metadata": {},
   "outputs": [
    {
     "name": "stdout",
     "output_type": "stream",
     "text": [
      "[1 2 1 1 2 3 2 3 1 3 1 2 3 1 3 3 2 1 3 1 1 3 2 2 2 2 1 3 3 2 1 3 1 2 2 1 2\n",
      " 2 1 3 3 2 2 2 1 2 2 3 2 3 2 2 1 2]\n"
     ]
    },
    {
     "data": {
      "text/plain": [
       "54"
      ]
     },
     "execution_count": 26,
     "metadata": {},
     "output_type": "execute_result"
    }
   ],
   "source": [
    "print(pred_lab)\n",
    "len(pred_lab)"
   ]
  },
  {
   "cell_type": "code",
   "execution_count": 30,
   "metadata": {},
   "outputs": [
    {
     "name": "stderr",
     "output_type": "stream",
     "text": [
      "'c' argument looks like a single numeric RGB or RGBA sequence, which should be avoided as value-mapping will have precedence in case its length matches with 'x' & 'y'.  Please use a 2-D array with a single row if you really want to specify the same RGB or RGBA value for all points.\n",
      "'c' argument looks like a single numeric RGB or RGBA sequence, which should be avoided as value-mapping will have precedence in case its length matches with 'x' & 'y'.  Please use a 2-D array with a single row if you really want to specify the same RGB or RGBA value for all points.\n",
      "'c' argument looks like a single numeric RGB or RGBA sequence, which should be avoided as value-mapping will have precedence in case its length matches with 'x' & 'y'.  Please use a 2-D array with a single row if you really want to specify the same RGB or RGBA value for all points.\n"
     ]
    },
    {
     "data": {
      "image/png": "[encoded data removed]",
      "text/plain": [
       "<Figure size 432x288 with 1 Axes>"
      ]
     },
     "metadata": {
      "needs_background": "light"
     },
     "output_type": "display_data"
    }
   ],
   "source": [
    "# Plot the decision region on training features and training labels using classifier you have trained above\n",
    "\n",
    "plot_decision_regions(X_train_pca,y_train, classifier=lr)\n",
    "plt.xlabel('PC 1')\n",
    "plt.ylabel('PC 2')\n",
    "plt.legend(loc='lower left')\n",
    "plt.tight_layout()\n",
    "plt.title('Plot on the training data')\n",
    "plt.savefig('TRAIN_CLASS.png', dpi=300)\n",
    "plt.show()\n"
   ]
  },
  {
   "cell_type": "code",
   "execution_count": 31,
   "metadata": {},
   "outputs": [
    {
     "name": "stderr",
     "output_type": "stream",
     "text": [
      "'c' argument looks like a single numeric RGB or RGBA sequence, which should be avoided as value-mapping will have precedence in case its length matches with 'x' & 'y'.  Please use a 2-D array with a single row if you really want to specify the same RGB or RGBA value for all points.\n",
      "'c' argument looks like a single numeric RGB or RGBA sequence, which should be avoided as value-mapping will have precedence in case its length matches with 'x' & 'y'.  Please use a 2-D array with a single row if you really want to specify the same RGB or RGBA value for all points.\n",
      "'c' argument looks like a single numeric RGB or RGBA sequence, which should be avoided as value-mapping will have precedence in case its length matches with 'x' & 'y'.  Please use a 2-D array with a single row if you really want to specify the same RGB or RGBA value for all points.\n"
     ]
    },
    {
     "data": {
      "image/png": "[encoded data removed]",
      "text/plain": [
       "<Figure size 432x288 with 1 Axes>"
      ]
     },
     "metadata": {
      "needs_background": "light"
     },
     "output_type": "display_data"
    }
   ],
   "source": [
    "#  Plot the decision region on test features and true labels using classifier you have trained above\n",
    "\n",
    "plot_decision_regions(X_test_pca,y_test, classifier=lr)\n",
    "plt.xlabel('PC 1')\n",
    "plt.ylabel('PC 2')\n",
    "plt.legend(loc='lower left')\n",
    "plt.tight_layout()\n",
    "plt.title('Plot on the test (true) data')\n",
    "plt.savefig('TEST_CLASS_TRUE.png', dpi=300)\n",
    "plt.show()"
   ]
  },
  {
   "cell_type": "code",
   "execution_count": 32,
   "metadata": {},
   "outputs": [
    {
     "name": "stderr",
     "output_type": "stream",
     "text": [
      "'c' argument looks like a single numeric RGB or RGBA sequence, which should be avoided as value-mapping will have precedence in case its length matches with 'x' & 'y'.  Please use a 2-D array with a single row if you really want to specify the same RGB or RGBA value for all points.\n",
      "'c' argument looks like a single numeric RGB or RGBA sequence, which should be avoided as value-mapping will have precedence in case its length matches with 'x' & 'y'.  Please use a 2-D array with a single row if you really want to specify the same RGB or RGBA value for all points.\n",
      "'c' argument looks like a single numeric RGB or RGBA sequence, which should be avoided as value-mapping will have precedence in case its length matches with 'x' & 'y'.  Please use a 2-D array with a single row if you really want to specify the same RGB or RGBA value for all points.\n"
     ]
    },
    {
     "data": {
      "image/png": "[encoded data removed]",
      "text/plain": [
       "<Figure size 432x288 with 1 Axes>"
      ]
     },
     "metadata": {
      "needs_background": "light"
     },
     "output_type": "display_data"
    }
   ],
   "source": [
    "#  Plot the decision region on test features and predicted labels using classifier you have trained above\n",
    "plot_decision_regions(X_test_pca, pred_lab, classifier=lr)\n",
    "plt.xlabel('PC 1')\n",
    "plt.ylabel('PC 2')\n",
    "plt.legend(loc='lower left')\n",
    "plt.title('Plot on the test (predicted) labels')\n",
    "plt.tight_layout()\n",
    "plt.savefig('TEST_CLASS.png', dpi=300)\n",
    "plt.show()"
   ]
  },
  {
   "cell_type": "code",
   "execution_count": null,
   "metadata": {},
   "outputs": [],
   "source": []
  }
 ],
 "metadata": {
  "kernelspec": {
   "display_name": "Python 3",
   "language": "python",
   "name": "python3"
  },
  "language_info": {
   "codemirror_mode": {
    "name": "ipython",
    "version": 3
   },
   "file_extension": ".py",
   "mimetype": "text/x-python",
   "name": "python",
   "nbconvert_exporter": "python",
   "pygments_lexer": "ipython3",
   "version": "3.7.6"
  }
 },
 "nbformat": 4,
 "nbformat_minor": 4
}
